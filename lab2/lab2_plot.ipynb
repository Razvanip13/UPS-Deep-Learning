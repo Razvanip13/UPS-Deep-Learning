{
 "cells": [
  {
   "attachments": {},
   "cell_type": "markdown",
   "metadata": {},
   "source": [
    "Students:\n",
    "\n",
    "- Alex Răzvan ISPAS\n",
    "- Philippe MASSOUF\n",
    "- Thanh Gia Hieu KHUONG\n",
    "\n",
    "# Deep Learning - Lab Exercise 2\n",
    "\n",
    "**WARNING:** you must have finished the first exercise before this one as you will re-use parts of the code.\n",
    "\n",
    "In the first lab exercise, we built a simple linear classifier.\n",
    "Although it can give reasonable results on the MNIST dataset (~92.5% of accuracy), deeper neural networks can achieve more the 99% accuracy.\n",
    "However, it can quickly become really impracical to explicitly code forward and backward passes.\n",
    "Hence, it is useful to rely on an auto-diff library where we specify the forward pass once, and the backward pass is automatically deduced from the computational graph structure.\n",
    "\n",
    "In this lab exercise, we will build a small and simple auto-diff lib that mimics the autograd mechanism from Pytorch (of course, we will simplify a lot!)\n"
   ]
  },
  {
   "cell_type": "code",
   "execution_count": 3,
   "metadata": {},
   "outputs": [],
   "source": [
    "# import libs that we will use\n",
    "import os\n",
    "import numpy as np\n",
    "import matplotlib.pyplot as plt\n",
    "import math\n",
    "from tqdm import tqdm\n",
    "# To load the data we will use the script of Gaetan Marceau Caron\n",
    "# You can download it from the course webiste and move it to the same directory that contains this ipynb file\n",
    "import dataset_loader\n",
    "\n",
    "%matplotlib inline"
   ]
  },
  {
   "cell_type": "markdown",
   "metadata": {},
   "source": [
    "# Data"
   ]
  },
  {
   "cell_type": "code",
   "execution_count": 4,
   "metadata": {},
   "outputs": [],
   "source": [
    "# Download mnist dataset \n",
    "# if(\"mnist.pkl.gz\" not in os.listdir(\".\")):\n",
    "    # this link doesn't work any more,\n",
    "    # seach on google for the file \"mnist.pkl.gz\"\n",
    "    # and download it\n",
    "    # !wget http://deeplearning.net/data/mnist/mnist.pkl.gz\n",
    "\n",
    "# if you have it somewhere else, you can comment the lines above\n",
    "# and overwrite the path below\n",
    "mnist_path = os.path.join(os.getcwd() , \"mnist.pkl.gz\")"
   ]
  },
  {
   "cell_type": "code",
   "execution_count": 5,
   "metadata": {},
   "outputs": [],
   "source": [
    "# load the 3 splits\n",
    "train_data, dev_data, test_data = dataset_loader.load_mnist(mnist_path)"
   ]
  },
  {
   "cell_type": "code",
   "execution_count": 6,
   "metadata": {},
   "outputs": [
    {
     "name": "stdout",
     "output_type": "stream",
     "text": [
      "label: 7\n"
     ]
    },
    {
     "data": {
      "text/plain": [
       "<matplotlib.image.AxesImage at 0x1570c0460>"
      ]
     },
     "execution_count": 6,
     "metadata": {},
     "output_type": "execute_result"
    },
    {
     "data": {
      "image/png": "[encoded data removed]",
      "text/plain": [
       "<Figure size 640x480 with 1 Axes>"
      ]
     },
     "metadata": {},
     "output_type": "display_data"
    }
   ],
   "source": [
    "index = 900\n",
    "label = train_data[1][index]\n",
    "picture = train_data[0][index]\n",
    "\n",
    "print(\"label: %i\" % label)\n",
    "plt.imshow(picture.reshape(28,28), cmap='Greys')"
   ]
  },
  {
   "cell_type": "markdown",
   "metadata": {},
   "source": [
    "# Computation nodes\n",
    "\n",
    "Instead of directly manipulating numpy arrays, we will manipulate abstraction that contains:\n",
    "- a value (i.e. a numpy array)\n",
    "- a bool indicating if we wish to compute the gradient with respect to the value\n",
    "- the gradient with respect to the value\n",
    "- the operation to call during backpropagation\n",
    "\n",
    "There will be two kind of nodes:\n",
    "- Tensor: a generic computation node\n",
    "- Parameter: a computation node that is used to store parameters of the network. Parameters are always leaf nodes, i.e. they cannot be build from other computation nodes.\n",
    "\n",
    "Our implementation of the backward pass will be really simple and incorrect in the general case (i.e. won't work with computation graph with loops).\n",
    "We will just apply the derivative function for a given tensor and then call the ones of its antecedents, recursively.\n",
    "This simple algorithm is good enough for this exercise.\n",
    "\n",
    "Note that a real implementation of backprop will store temporary values during forward that can be used during backward to improve computation speed. We do not do that here."
   ]
  },
  {
   "cell_type": "code",
   "execution_count": 7,
   "metadata": {},
   "outputs": [],
   "source": [
    "class Tensor:\n",
    "    def __init__(self, data, require_grad=False):\n",
    "        # test type of data: should be np array\n",
    "        if isinstance(data, float):\n",
    "            data = np.array([data,])\n",
    "        if type(data) != np.ndarray:\n",
    "            raise RuntimeError(\"Input should be a numpy array\")\n",
    "\n",
    "        # store data for this tensor\n",
    "        self.data = data\n",
    "        self.require_grad = require_grad\n",
    "        \n",
    "        # this values should be set to enable autograd!\n",
    "        self.gradient = None\n",
    "        self.d = None\n",
    "        self.backptr = None\n",
    "        \n",
    "    def zero_grad(self):\n",
    "        \"\"\"\n",
    "        Set the gradient of thie tensor to 0\n",
    "        \"\"\"\n",
    "        if self.require_grad:\n",
    "            self.gradient = np.zeros_like(self.data)\n",
    "            \n",
    "    def accumulate_gradient(self, gradient):\n",
    "        \"\"\"\n",
    "        Accumulte gradient for this tensor\n",
    "        \"\"\"\n",
    "        if gradient.shape != self.data.shape:\n",
    "            raise RuntimeError(\"Invalid gradient dimension\")\n",
    "\n",
    "        if self.gradient is None:\n",
    "            self.gradient = np.copy(gradient)\n",
    "        else:\n",
    "            self.gradient += gradient\n",
    "            \n",
    "    def backward(self, g=None):\n",
    "        \"\"\"\n",
    "        The backward pass!\n",
    "        If g != None, then g is the gradient for the current node.\n",
    "        i.e. g will be != None only for the loss output.\n",
    "        \n",
    "        You should call the function stored in self.d with correct arguments,\n",
    "        and then recursively call the backward methods of tensors in the backptr list if:\n",
    "        1. they require a gradient\n",
    "        2. they are of type Tensor: check with isinstance(o, Tensor)\n",
    "        \"\"\"\n",
    "        if not self.require_grad:  # stop right now if this node does not require a gradient\n",
    "            return\n",
    "        \n",
    "        if g is not None:\n",
    "            if isinstance(g, float):\n",
    "                g = np.array([g])\n",
    "            if type(g) != np.ndarray:\n",
    "                raise RuntimeError(\"Gradient should be a numpy array\")\n",
    "            if g.shape != self.data.shape:\n",
    "                raise RuntimeError(\"Gradient of different size than the value!\")\n",
    "                \n",
    "            self.gradient = g\n",
    "\n",
    "        \n",
    "\n",
    "        if self.d is not None and self.backptr is not None:\n",
    "            self.d(self.backptr, self.gradient)\n",
    "\n",
    "            queue = self.backptr\n",
    "            while len(queue) > 0:\n",
    "                back_tensor = queue.pop(0)\n",
    "                if isinstance(back_tensor, Tensor) and back_tensor.require_grad and back_tensor.d is not None and back_tensor.backptr is not None:                  \n",
    "                    back_tensor.d(back_tensor.backptr, back_tensor.gradient)\n",
    "                    queue.extend(back_tensor.backptr)\n",
    "                \n",
    "        \n",
    "        \n",
    "    \n",
    "    \n",
    "class Parameter(Tensor):\n",
    "    \"\"\"\n",
    "    This class will be used to store parameters of the network only!\n",
    "    \"\"\"\n",
    "    def __init__(self, data, name=\"unamed\"):\n",
    "        super().__init__(data, require_grad=True)\n",
    "        self.name = name\n",
    "        \n",
    "    def backward(self):\n",
    "        raise RuntimeError(\"You cannot backprop from a Parameter node\")"
   ]
  },
  {
   "cell_type": "markdown",
   "metadata": {},
   "source": [
    "# Functions\n",
    "\n",
    "Functions manipulate tensors and build the required information for autograd.\n",
    "A function returns a Tensor that should have require_grad = True if at least of the arguments require a gradient."
   ]
  },
  {
   "cell_type": "code",
   "execution_count": 8,
   "metadata": {},
   "outputs": [],
   "source": [
    "def any_require_grad(l):\n",
    "    \"\"\"\n",
    "    Input:\n",
    "    - l: an iterable (e.g. a list)\n",
    "    Ouput:\n",
    "    - True if any tensor in the input requires a gradient\n",
    "    \"\"\"\n",
    "    return any(t.require_grad for t in l)"
   ]
  },
  {
   "cell_type": "code",
   "execution_count": 9,
   "metadata": {},
   "outputs": [],
   "source": [
    "# Here is an exemple with the ReLU\n",
    "def relu(x):\n",
    "    v = np.maximum(0, x.data)\n",
    "    \n",
    "    output = Tensor(v, require_grad=x.require_grad)\n",
    "    output.d = backward_relu\n",
    "    output.backptr = [x]\n",
    "    \n",
    "    return output\n",
    "\n",
    "def backward_relu(backptr, g):\n",
    "    x, = backptr\n",
    "    \n",
    "    # the gradient is accumulated in the arguments only if required\n",
    "    if x.require_grad:\n",
    "        x.accumulate_gradient(g * (x.data > 0))"
   ]
  },
  {
   "cell_type": "code",
   "execution_count": 10,
   "metadata": {},
   "outputs": [],
   "source": [
    "def tanh(x):\n",
    "    v = np.tanh(x.data)\n",
    "    \n",
    "    output = Tensor(v, require_grad=x.require_grad)\n",
    "    output.d = backward_tanh\n",
    "    output.backptr = [x]\n",
    "    \n",
    "    return output\n",
    "\n",
    "def backward_tanh(backptr, g):\n",
    "    x, = backptr\n",
    "    \n",
    "    # the gradient is accumulated in the arguments only if required\n",
    "    if x.require_grad:\n",
    "        x.accumulate_gradient(g * (1 - np.tanh(x.data)**2))"
   ]
  },
  {
   "cell_type": "markdown",
   "metadata": {},
   "source": [
    "Next, we implement the affine transform operation.\n",
    "You can reuse the code from the first lab exercise, with one major difference: you have to compute the gradient with respect to x too!"
   ]
  },
  {
   "cell_type": "code",
   "execution_count": 11,
   "metadata": {},
   "outputs": [],
   "source": [
    "def affine_transform(W, b, x):\n",
    "    v = np.dot(W.data, x.data) + b.data\n",
    "    \n",
    "    output = Tensor(v, require_grad=any_require_grad([W, b, x]))\n",
    "    output.d = backward_affine_transform\n",
    "    output.backptr = [W, b, x]\n",
    "    \n",
    "    return output\n",
    "\n",
    "def backward_affine_transform(backptr, g):\n",
    "    W, b, x = backptr\n",
    "    \n",
    "    # the gradient is accumulated in the arguments only if required\n",
    "    if W.require_grad:\n",
    "        W.accumulate_gradient(np.outer(g, x.data))\n",
    "    if b.require_grad:\n",
    "        b.accumulate_gradient(g)\n",
    "    if isinstance(x, Tensor) and x.require_grad:\n",
    "        # (10, 100) (10,) (100,) (10,)\n",
    "        #print(W.data.shape, b.data.shape, x.data.shape, g.shape)\n",
    "        x.accumulate_gradient(np.dot(W.data.T, g))"
   ]
  },
  {
   "cell_type": "code",
   "execution_count": 12,
   "metadata": {},
   "outputs": [],
   "source": [
    "# we use an underscore because this function does not manipulate tensors:\n",
    "# it is exactly the same as in the previous exercise\n",
    "\n",
    "def _softmax(x):\n",
    "    exp_x = np.exp(x - np.max(x))\n",
    "    return exp_x / np.sum(exp_x)\n",
    "\n",
    "def grad_softmax(x, gold):\n",
    "\n",
    "    score = _softmax(x)\n",
    "    score[gold] = score[gold] - 1 \n",
    "    return score\n",
    "\n",
    "def nll(x, gold):\n",
    "    v =  -np.log(_softmax(x.data)[gold])\n",
    "\n",
    "    output = Tensor(v, require_grad=x.require_grad)\n",
    "    output.d = backward_nll\n",
    "    output.backptr = [x, gold]\n",
    "\n",
    "    return output\n",
    "\n",
    "def backward_nll(backptr, g):\n",
    "    # TODO\n",
    "    x, gold = backptr\n",
    "    g_x =  g * grad_softmax(x.data, gold)  \n",
    "    \n",
    "    if x.require_grad:\n",
    "        x.accumulate_gradient(g_x)\n",
    "\n"
   ]
  },
  {
   "cell_type": "markdown",
   "metadata": {},
   "source": [
    "# Module\n",
    "\n",
    "Neural networks or parts of neural networks will be stored in Modules.\n",
    "They implement method to retrieve all parameters of the network and subnetwork."
   ]
  },
  {
   "cell_type": "code",
   "execution_count": 13,
   "metadata": {},
   "outputs": [],
   "source": [
    "class Module:\n",
    "    def __init__(self):\n",
    "        raise NotImplemented(\"\")\n",
    "        \n",
    "    def parameters(self):\n",
    "        ret = []\n",
    "        for name in dir(self):\n",
    "            o = self.__getattribute__(name)\n",
    "\n",
    "            if type(o) is Parameter:\n",
    "                ret.append(o)\n",
    "            if isinstance(o, Module) or isinstance(o, ModuleList):\n",
    "                ret.extend(o.parameters())\n",
    "        return ret\n",
    "\n",
    "# if you want to store a list of Parameters or Module,\n",
    "# you must store them in a ModuleList instead of a python list,\n",
    "# in order to collect the parameters correctly\n",
    "class ModuleList(list):\n",
    "    def parameters(self):\n",
    "        ret = []\n",
    "        for m in self:\n",
    "            if type(m) is Parameter:\n",
    "                ret.append(m)\n",
    "            elif isinstance(m, Module) or isinstance(m, ModuleList):\n",
    "                ret.extend(m.parameters())\n",
    "        return ret"
   ]
  },
  {
   "cell_type": "markdown",
   "metadata": {},
   "source": [
    "# Initialization and optimization"
   ]
  },
  {
   "cell_type": "code",
   "execution_count": 14,
   "metadata": {},
   "outputs": [],
   "source": [
    "def zero_init(b):\n",
    "    b[:] = 0.\n",
    "\n",
    "def glorot_init(W):\n",
    "    W[:] = np.random.uniform(-np.sqrt(6. / (W.shape[0] + W.shape[1])), np.sqrt(6. / (W.shape[0] + W.shape[1])), W.shape)\n",
    "    \n",
    "# Look at slides for the formula!\n",
    "def kaiming_init(W):\n",
    "    W[:] = np.random.uniform(-np.sqrt(6. / (W.shape[1])), np.sqrt(6. / (W.shape[1])), W.shape)"
   ]
  },
  {
   "cell_type": "code",
   "execution_count": 15,
   "metadata": {},
   "outputs": [],
   "source": [
    "# simple gradient descent optimizer\n",
    "class SGD:\n",
    "    def __init__(self, params, lr=0.1):\n",
    "        self.params = params\n",
    "        self.lr = lr\n",
    "        \n",
    "    def step(self):\n",
    "        for p in self.params:\n",
    "            p.data[:] = p.data - self.lr * p.gradient\n",
    "        \n",
    "    def zero_grad(self):\n",
    "        for p in self.params:\n",
    "            p.zero_grad()"
   ]
  },
  {
   "cell_type": "markdown",
   "metadata": {},
   "source": [
    "# Networks and training loop\n",
    "\n",
    "We first create a simple linear classifier, similar to the first lab exercise."
   ]
  },
  {
   "cell_type": "code",
   "execution_count": 16,
   "metadata": {},
   "outputs": [],
   "source": [
    "class LinearNetwork(Module):\n",
    "    def __init__(self, dim_input, dim_output):\n",
    "        # build the parameters\n",
    "        self.W = Parameter(np.ndarray((dim_output, dim_input)), name=\"W\")\n",
    "        self.b = Parameter(np.ndarray((dim_output,)), name=\"b\")\n",
    "        \n",
    "        self.init_parameters()\n",
    "        \n",
    "    def init_parameters(self):\n",
    "        # init parameters of the network (i.e W and b)\n",
    "        glorot_init(self.W.data)\n",
    "        zero_init(self.b.data)\n",
    "        \n",
    "    def forward(self, x):\n",
    "        return  affine_transform(self.W, self.b, x)"
   ]
  },
  {
   "cell_type": "markdown",
   "metadata": {},
   "source": [
    "We will train several neural networks.\n",
    "Therefore, we encapsulate the training loop in a function.\n",
    "\n",
    "**warning**: you have to call optimizer.zero_grad() before each backward pass to reinitialize the gradient of the parameters!"
   ]
  },
  {
   "cell_type": "code",
   "execution_count": 17,
   "metadata": {},
   "outputs": [],
   "source": [
    "class RunningLoss():\n",
    "    def __init__(self):\n",
    "        self.loss = 0.\n",
    "        self.loss_history = []\n",
    "        self.n = 0\n",
    "\n",
    "    def update(self, loss):\n",
    "        self.loss += loss\n",
    "        self.loss_history.append(loss)\n",
    "        self.n += 1\n",
    "\n",
    "    def get(self):\n",
    "        return self.loss / self.n"
   ]
  },
  {
   "cell_type": "code",
   "execution_count": 18,
   "metadata": {},
   "outputs": [],
   "source": [
    "def training_loop(network, optimizer, train_data, dev_data, n_epochs=10):\n",
    "    running_loss = RunningLoss()\n",
    "    train_accs, dev_accs = [], []\n",
    "\n",
    "    for epoch in range(n_epochs):\n",
    "        print(\"Epoch %i\" % (epoch + 1))\n",
    "\n",
    "        shuffle = np.random.permutation(len(train_data[0]))\n",
    "        shuffled_train_data = (train_data[0][shuffle], train_data[1][shuffle])\n",
    "\n",
    "        # training loop\n",
    "        pbar = tqdm(range(len(shuffled_train_data[0])), desc=\"Training\", total=len(shuffled_train_data[0]), miniters=int(100))\n",
    "        y_hats = []\n",
    "        ys = []\n",
    "        for i in pbar:\n",
    "            x = shuffled_train_data[0][i]\n",
    "            y = shuffled_train_data[1][i]\n",
    "\n",
    "            optimizer.zero_grad()\n",
    "            # forward\n",
    "            y_hat = network.forward(x)\n",
    "            loss = nll(y_hat, y)\n",
    "            # backward\n",
    "            loss.backward(g=1.0)\n",
    "            # update\n",
    "            optimizer.step()\n",
    "\n",
    "            # Update the running loss\n",
    "            running_loss.update(loss.data[0])\n",
    "            if i%100 == 0:\n",
    "                pbar.set_postfix(loss=running_loss.get())\n",
    "\n",
    "            # Store the output of the network\n",
    "            y_hats.append(y_hat.data)\n",
    "            ys.append(y)\n",
    "\n",
    "        # evaluation on train\n",
    "        y_hats = []\n",
    "        ys = []\n",
    "        # evaluation on dev\n",
    "        for i in range(len(train_data[0])):\n",
    "            x = train_data[0][i]\n",
    "            y = train_data[1][i]\n",
    "            y_hat = network.forward(x)\n",
    "            y_hats.append(y_hat.data)\n",
    "            ys.append(y)\n",
    "        train_acc = np.mean(np.argmax(y_hats, axis=1) == ys)\n",
    "        print(\"Train accuracy: %.2f\" % (train_acc * 100))\n",
    "        train_accs.append(train_acc)\n",
    "\n",
    "        y_hats = []\n",
    "        ys = []\n",
    "        # evaluation on dev\n",
    "        for i in range(len(dev_data[0])):\n",
    "            x = dev_data[0][i]\n",
    "            y = dev_data[1][i]\n",
    "            y_hat = network.forward(x)\n",
    "            y_hats.append(y_hat.data)\n",
    "            ys.append(y)\n",
    "        dev_acc = np.mean(np.argmax(y_hats, axis=1) == ys)\n",
    "        print(\"Dev accuracy: %.2f\" % (dev_acc * 100))\n",
    "        dev_accs.append(dev_acc)\n",
    "    return running_loss, train_accs, dev_accs\n",
    "            \n"
   ]
  },
  {
   "cell_type": "code",
   "execution_count": 485,
   "metadata": {},
   "outputs": [
    {
     "name": "stdout",
     "output_type": "stream",
     "text": [
      "Epoch 1\n"
     ]
    },
    {
     "name": "stderr",
     "output_type": "stream",
     "text": [
      "Training: 100%|██████████| 50000/50000 [00:02<00:00, 16679.18it/s, loss=0.379]\n"
     ]
    },
    {
     "name": "stdout",
     "output_type": "stream",
     "text": [
      "Train accuracy: 91.14\n",
      "Dev accuracy: 91.66\n",
      "Epoch 2\n"
     ]
    },
    {
     "name": "stderr",
     "output_type": "stream",
     "text": [
      "Training: 100%|██████████| 50000/50000 [00:02<00:00, 17347.89it/s, loss=0.344]\n"
     ]
    },
    {
     "name": "stdout",
     "output_type": "stream",
     "text": [
      "Train accuracy: 91.92\n",
      "Dev accuracy: 92.05\n",
      "Epoch 3\n"
     ]
    },
    {
     "name": "stderr",
     "output_type": "stream",
     "text": [
      "Training: 100%|██████████| 50000/50000 [00:03<00:00, 15965.02it/s, loss=0.329]\n"
     ]
    },
    {
     "name": "stdout",
     "output_type": "stream",
     "text": [
      "Train accuracy: 92.34\n",
      "Dev accuracy: 92.57\n",
      "Epoch 4\n"
     ]
    },
    {
     "name": "stderr",
     "output_type": "stream",
     "text": [
      "Training: 100%|██████████| 50000/50000 [00:03<00:00, 15371.42it/s, loss=0.319]\n"
     ]
    },
    {
     "name": "stdout",
     "output_type": "stream",
     "text": [
      "Train accuracy: 92.04\n",
      "Dev accuracy: 92.29\n",
      "Epoch 5\n"
     ]
    },
    {
     "name": "stderr",
     "output_type": "stream",
     "text": [
      "Training: 100%|██████████| 50000/50000 [00:03<00:00, 16330.45it/s, loss=0.313]\n"
     ]
    },
    {
     "name": "stdout",
     "output_type": "stream",
     "text": [
      "Train accuracy: 92.41\n",
      "Dev accuracy: 92.26\n"
     ]
    }
   ],
   "source": [
    "dim_input = 28*28\n",
    "dim_output = 10\n",
    "\n",
    "network = LinearNetwork(dim_input, dim_output)\n",
    "optimizer = SGD(network.parameters(), 0.01)\n",
    "\n",
    "running_loss, train_accs, dev_accs = training_loop(network, optimizer, train_data, dev_data, n_epochs=5)"
   ]
  },
  {
   "cell_type": "markdown",
   "metadata": {},
   "source": [
    "After you finished the linear network, you can move to a deep network!"
   ]
  },
  {
   "cell_type": "code",
   "execution_count": 486,
   "metadata": {},
   "outputs": [],
   "source": [
    "class DeepNetwork(Module):\n",
    "    def __init__(self, dim_input, dim_output, hidden_dim, n_layers, tanh=False):\n",
    "        assert n_layers > 1\n",
    "        self.W = ModuleList()\n",
    "        self.b = ModuleList()\n",
    "        self.tanh = tanh\n",
    "        \n",
    "        # TODO...\n",
    "        for i in range(n_layers-1):\n",
    "            _dim_input = hidden_dim\n",
    "            _dim_output = hidden_dim\n",
    "            if i == 0:\n",
    "                _dim_input = dim_input\n",
    "            self.W.append(Parameter(np.ndarray((_dim_output, _dim_input)), name=\"W_%i\" % i))\n",
    "            self.b.append(Parameter(np.ndarray((_dim_output,)), name=\"b_%i\" % i))\n",
    "        \n",
    "        self.output_proj = Parameter(np.ndarray((dim_output, hidden_dim)), name=\"output_proj\")\n",
    "        self.output_bias = Parameter(np.ndarray((dim_output,)), name=\"output_bias\")\n",
    "        \n",
    "        self.init_parameters()\n",
    "        \n",
    "    def init_parameters(self):\n",
    "        # TODO\n",
    "        for i in range(len(self.W)):\n",
    "            glorot_init(self.W[i].data)\n",
    "            zero_init(self.b[i].data)\n",
    "        glorot_init(self.output_proj.data)\n",
    "        zero_init(self.output_bias.data)\n",
    "\n",
    "    def forward(self, x):\n",
    "        # TODO\n",
    "        for i in range(len(self.W)):\n",
    "            x = affine_transform(self.W[i], self.b[i], x)\n",
    "            if self.tanh:\n",
    "                x = tanh(x)\n",
    "            else:\n",
    "                x = relu(x)\n",
    "        x = affine_transform(self.output_proj, self.output_bias, x)\n",
    "        return x"
   ]
  },
  {
   "cell_type": "code",
   "execution_count": 487,
   "metadata": {},
   "outputs": [
    {
     "name": "stdout",
     "output_type": "stream",
     "text": [
      "Epoch 1\n"
     ]
    },
    {
     "name": "stderr",
     "output_type": "stream",
     "text": [
      "Training: 100%|██████████| 50000/50000 [00:45<00:00, 1095.45it/s, loss=0.241]\n"
     ]
    },
    {
     "name": "stdout",
     "output_type": "stream",
     "text": [
      "Train accuracy: 96.87\n",
      "Dev accuracy: 96.70\n",
      "Epoch 2\n"
     ]
    },
    {
     "name": "stderr",
     "output_type": "stream",
     "text": [
      "Training: 100%|██████████| 50000/50000 [00:46<00:00, 1075.05it/s, loss=0.176]\n"
     ]
    },
    {
     "name": "stdout",
     "output_type": "stream",
     "text": [
      "Train accuracy: 97.23\n",
      "Dev accuracy: 96.52\n",
      "Epoch 3\n"
     ]
    },
    {
     "name": "stderr",
     "output_type": "stream",
     "text": [
      "Training: 100%|██████████| 50000/50000 [00:44<00:00, 1115.52it/s, loss=0.144]\n"
     ]
    },
    {
     "name": "stdout",
     "output_type": "stream",
     "text": [
      "Train accuracy: 98.17\n",
      "Dev accuracy: 96.92\n",
      "Epoch 4\n"
     ]
    },
    {
     "name": "stderr",
     "output_type": "stream",
     "text": [
      "Training: 100%|██████████| 50000/50000 [01:23<00:00, 601.64it/s, loss=0.124] \n"
     ]
    },
    {
     "name": "stdout",
     "output_type": "stream",
     "text": [
      "Train accuracy: 98.34\n",
      "Dev accuracy: 97.10\n",
      "Epoch 5\n"
     ]
    },
    {
     "name": "stderr",
     "output_type": "stream",
     "text": [
      "Training: 100%|██████████| 50000/50000 [00:54<00:00, 916.64it/s, loss=0.109] \n"
     ]
    },
    {
     "name": "stdout",
     "output_type": "stream",
     "text": [
      "Train accuracy: 98.63\n",
      "Dev accuracy: 97.05\n"
     ]
    }
   ],
   "source": [
    "dim_input = 28*28\n",
    "dim_output = 10\n",
    "\n",
    "network = DeepNetwork(dim_input, dim_output, 100, 2)\n",
    "optimizer = SGD(network.parameters(), 0.01)\n",
    "\n",
    "running_loss, train_accs, dev_accs = training_loop(network, optimizer, train_data, dev_data, n_epochs=5)"
   ]
  },
  {
   "attachments": {},
   "cell_type": "markdown",
   "metadata": {},
   "source": [
    "## with tanh=True"
   ]
  },
  {
   "cell_type": "code",
   "execution_count": 488,
   "metadata": {},
   "outputs": [
    {
     "name": "stdout",
     "output_type": "stream",
     "text": [
      "Epoch 1\n"
     ]
    },
    {
     "name": "stderr",
     "output_type": "stream",
     "text": [
      "Training: 100%|██████████| 50000/50000 [00:45<00:00, 1106.63it/s, loss=0.269]\n"
     ]
    },
    {
     "name": "stdout",
     "output_type": "stream",
     "text": [
      "Train accuracy: 95.64\n",
      "Dev accuracy: 95.47\n",
      "Epoch 2\n"
     ]
    },
    {
     "name": "stderr",
     "output_type": "stream",
     "text": [
      "Training: 100%|██████████| 50000/50000 [00:42<00:00, 1167.98it/s, loss=0.199]\n"
     ]
    },
    {
     "name": "stdout",
     "output_type": "stream",
     "text": [
      "Train accuracy: 97.40\n",
      "Dev accuracy: 96.83\n",
      "Epoch 3\n"
     ]
    },
    {
     "name": "stderr",
     "output_type": "stream",
     "text": [
      "Training: 100%|██████████| 50000/50000 [00:46<00:00, 1069.40it/s, loss=0.163]\n"
     ]
    },
    {
     "name": "stdout",
     "output_type": "stream",
     "text": [
      "Train accuracy: 97.80\n",
      "Dev accuracy: 96.88\n",
      "Epoch 4\n"
     ]
    },
    {
     "name": "stderr",
     "output_type": "stream",
     "text": [
      "Training: 100%|██████████| 50000/50000 [00:44<00:00, 1111.26it/s, loss=0.139]\n"
     ]
    },
    {
     "name": "stdout",
     "output_type": "stream",
     "text": [
      "Train accuracy: 98.44\n",
      "Dev accuracy: 97.18\n",
      "Epoch 5\n"
     ]
    },
    {
     "name": "stderr",
     "output_type": "stream",
     "text": [
      "Training: 100%|██████████| 50000/50000 [00:46<00:00, 1079.50it/s, loss=0.122]\n"
     ]
    },
    {
     "name": "stdout",
     "output_type": "stream",
     "text": [
      "Train accuracy: 98.91\n",
      "Dev accuracy: 97.24\n"
     ]
    }
   ],
   "source": [
    "dim_input = 28*28\n",
    "dim_output = 10\n",
    "\n",
    "network = DeepNetwork(dim_input, dim_output, 100, 2, tanh=True)\n",
    "optimizer = SGD(network.parameters(), 0.01)\n",
    "\n",
    "running_loss, train_accs, dev_accs = training_loop(network, optimizer, train_data, dev_data, n_epochs=5)"
   ]
  },
  {
   "cell_type": "markdown",
   "metadata": {},
   "source": [
    "## Bonus\n",
    "\n",
    "You can try to implement a momentum SGD optimizer! Note that you have to keep track of the velocity for each parameter in the optimizer.\n"
   ]
  },
  {
   "cell_type": "code",
   "execution_count": 489,
   "metadata": {},
   "outputs": [],
   "source": [
    "class MomentumSGD:\n",
    "    def __init__(self, params, lr=0.1, momentum=0.9):\n",
    "        self.params = params\n",
    "        self.lr = lr\n",
    "        self.momentum = momentum\n",
    "        self.velocities = [np.zeros_like(p.data) for p in self.params]\n",
    "        \n",
    "    def step(self):\n",
    "        for i, p in enumerate(self.params):\n",
    "            v = self.velocities[i]\n",
    "            v[:] = self.momentum * v + (1 - self.momentum) * p.gradient\n",
    "            p.data[:] = p.data - self.lr * v\n",
    "        \n",
    "    def zero_grad(self):\n",
    "        for p in self.params:\n",
    "            p.zero_grad()"
   ]
  },
  {
   "cell_type": "code",
   "execution_count": 490,
   "metadata": {},
   "outputs": [
    {
     "name": "stdout",
     "output_type": "stream",
     "text": [
      "Epoch 1\n"
     ]
    },
    {
     "name": "stderr",
     "output_type": "stream",
     "text": [
      "Training: 100%|██████████| 50000/50000 [00:53<00:00, 942.33it/s, loss=0.238] \n"
     ]
    },
    {
     "name": "stdout",
     "output_type": "stream",
     "text": [
      "Train accuracy: 96.58\n",
      "Dev accuracy: 96.33\n",
      "Epoch 2\n"
     ]
    },
    {
     "name": "stderr",
     "output_type": "stream",
     "text": [
      "Training: 100%|██████████| 50000/50000 [01:06<00:00, 750.17it/s, loss=0.175] \n"
     ]
    },
    {
     "name": "stdout",
     "output_type": "stream",
     "text": [
      "Train accuracy: 97.78\n",
      "Dev accuracy: 97.08\n",
      "Epoch 3\n"
     ]
    },
    {
     "name": "stderr",
     "output_type": "stream",
     "text": [
      "Training: 100%|██████████| 50000/50000 [00:58<00:00, 858.17it/s, loss=0.143] \n"
     ]
    },
    {
     "name": "stdout",
     "output_type": "stream",
     "text": [
      "Train accuracy: 98.11\n",
      "Dev accuracy: 97.03\n",
      "Epoch 4\n"
     ]
    },
    {
     "name": "stderr",
     "output_type": "stream",
     "text": [
      "Training: 100%|██████████| 50000/50000 [01:12<00:00, 689.52it/s, loss=0.123] \n"
     ]
    },
    {
     "name": "stdout",
     "output_type": "stream",
     "text": [
      "Train accuracy: 98.51\n",
      "Dev accuracy: 97.42\n",
      "Epoch 5\n"
     ]
    },
    {
     "name": "stderr",
     "output_type": "stream",
     "text": [
      "Training: 100%|██████████| 50000/50000 [01:05<00:00, 769.22it/s, loss=0.108] \n"
     ]
    },
    {
     "name": "stdout",
     "output_type": "stream",
     "text": [
      "Train accuracy: 98.75\n",
      "Dev accuracy: 97.45\n"
     ]
    }
   ],
   "source": [
    "dim_input = 28*28\n",
    "dim_output = 10\n",
    "\n",
    "network = DeepNetwork(dim_input, dim_output, 100, 2)\n",
    "optimizer = MomentumSGD(network.parameters(), 0.01, momentum=0.9)\n",
    "\n",
    "running_loss, train_accs, dev_accs = training_loop(network, optimizer, train_data, dev_data, n_epochs=5)"
   ]
  },
  {
   "attachments": {},
   "cell_type": "markdown",
   "metadata": {},
   "source": [
    "# Bonus: Improvements\n",
    "\n",
    "Here we added the following improvements on top of the original code:\n",
    "- A hyperparameters grid search for the best hyperparameters\n",
    "- Learning rate scheduler\n",
    "- Mini Batch Gradient Descent instead of Stochastic Gradient Descent\n",
    "- Adam optimizer instead of MomentumSGD\n",
    "- A plot of loss and accuracy over time"
   ]
  },
  {
   "cell_type": "code",
   "execution_count": 19,
   "metadata": {},
   "outputs": [],
   "source": [
    "def affine_transform_batch(W, b, x):\n",
    "    v = np.dot(x.data, W.data) + b.data\n",
    "    \n",
    "    output = Tensor(v, require_grad=any_require_grad([W, b, x]))\n",
    "    output.d = backward_affine_transform_batch\n",
    "    output.backptr = [W, b, x]\n",
    "    \n",
    "    return output\n",
    "\n",
    "def backward_affine_transform_batch(backptr, g):\n",
    "    W, b, x = backptr\n",
    "    \n",
    "    # the gradient is accumulated in the arguments only if required\n",
    "    if W.require_grad:\n",
    "        W.accumulate_gradient(np.dot(np.array(x.data).T, g))\n",
    "    if b.require_grad:\n",
    "        b.accumulate_gradient(np.sum(g, axis=0).reshape(b.data.shape))\n",
    "    if isinstance(x, Tensor) and x.require_grad:\n",
    "        # (10, 100) (10,) (100,) (10,)\n",
    "        #print(W.data.shape, b.data.shape, x.data.shape, g.shape)\n",
    "        x.accumulate_gradient(np.dot(g, W.data.T))"
   ]
  },
  {
   "cell_type": "code",
   "execution_count": 20,
   "metadata": {},
   "outputs": [],
   "source": [
    "# we use an underscore because this function does not manipulate tensors:\n",
    "# it is exactly the same as in the previous exercise\n",
    "\n",
    "def _softmax_batch(x):\n",
    "    exp_x = np.exp(x - np.max(x, axis=1, keepdims=True)) + 1e-8\n",
    "    return exp_x / np.sum(exp_x, axis=1, keepdims=True)\n",
    "\n",
    "def grad_softmax_batch(x, gold):\n",
    "\n",
    "    score = _softmax_batch(x)\n",
    "    score[np.arange(len(gold)), gold] -= 1\n",
    "    return score\n",
    "\n",
    "def nll_batch(x, gold):\n",
    "    v =  -np.log(_softmax_batch(x.data)[np.arange(len(gold)), gold]).mean()\n",
    "\n",
    "    output = Tensor(v, require_grad=x.require_grad)\n",
    "    output.d = backward_nll_batch\n",
    "    output.backptr = [x, gold]\n",
    "\n",
    "    return output\n",
    "\n",
    "def backward_nll_batch(backptr, g):\n",
    "    # TODO\n",
    "    x, gold = backptr\n",
    "    g_x =  g * grad_softmax_batch(x.data, gold)\n",
    "    \n",
    "    if x.require_grad:\n",
    "        x.accumulate_gradient(g_x)\n",
    "\n"
   ]
  },
  {
   "cell_type": "code",
   "execution_count": 21,
   "metadata": {},
   "outputs": [],
   "source": [
    "class DeepNetworkBatch(Module):\n",
    "    def __init__(self, dim_input, dim_output, hidden_dims, tanh=False):\n",
    "        self.W = ModuleList()\n",
    "        self.b = ModuleList()\n",
    "        self.tanh = tanh\n",
    "        \n",
    "        # TODO...\n",
    "        for i in range(len(hidden_dims)-1):\n",
    "            _dim_input = hidden_dims[i]\n",
    "            _dim_output = hidden_dims[i+1]\n",
    "            if i == 0:\n",
    "                _dim_input = dim_input\n",
    "            self.W.append(Parameter(np.ndarray((_dim_input, _dim_output)), name=\"W_%i\" % i))\n",
    "            self.b.append(Parameter(np.ndarray((1, _dim_output)), name=\"b_%i\" % i))\n",
    "        \n",
    "        self.output_proj = Parameter(np.ndarray((hidden_dims[-1], dim_output)), name=\"output_proj\")\n",
    "        self.output_bias = Parameter(np.ndarray((1, dim_output)), name=\"output_bias\")\n",
    "        \n",
    "        self.init_parameters()\n",
    "        \n",
    "    def init_parameters(self):\n",
    "        # TODO\n",
    "        for i in range(len(self.W)):\n",
    "            glorot_init(self.W[i].data)\n",
    "            zero_init(self.b[i].data)\n",
    "        glorot_init(self.output_proj.data)\n",
    "        zero_init(self.output_bias.data)\n",
    "\n",
    "    def forward(self, x):\n",
    "        # TODO\n",
    "        for i in range(len(self.W)):\n",
    "            x = affine_transform_batch(self.W[i], self.b[i], x)\n",
    "            if self.tanh:\n",
    "                x = tanh(x)\n",
    "            else:\n",
    "                x = relu(x)\n",
    "        x = affine_transform_batch(self.output_proj, self.output_bias, x)\n",
    "        return x"
   ]
  },
  {
   "cell_type": "code",
   "execution_count": 22,
   "metadata": {},
   "outputs": [],
   "source": [
    "class Adam:\n",
    "    def __init__(self, params, lr=0.001, beta1=0.9, beta2=0.999, eps=1e-8, lr_scheduler=None, max_iter=None):\n",
    "        self.params = params\n",
    "        self.lr = lr\n",
    "        self.current_lr = lr\n",
    "        self.lr_scheduler = lr_scheduler\n",
    "        self.max_iter = max_iter\n",
    "        self.beta1 = beta1\n",
    "        self.beta2 = beta2\n",
    "        self.eps = eps\n",
    "        self.m = [np.zeros_like(p.data) for p in self.params]\n",
    "        self.v = [np.zeros_like(p.data) for p in self.params]\n",
    "        self.t = 0\n",
    "        \n",
    "    def step(self):\n",
    "        self.t += 1\n",
    "        for i, p in enumerate(self.params):\n",
    "            if self.lr_scheduler == 'cosine' and self.max_iter is not None:\n",
    "                self.current_lr = self.lr * 0.5 * (1 + np.cos(np.pi * self.t / self.max_iter))\n",
    "\n",
    "            m = self.m[i]\n",
    "            v = self.v[i]\n",
    "            m[:] = self.beta1 * m + (1 - self.beta1) * p.gradient\n",
    "            v[:] = self.beta2 * v + (1 - self.beta2) * p.gradient**2\n",
    "            m_hat = m / (1 - self.beta1**self.t)\n",
    "            v_hat = v / (1 - self.beta2**self.t)\n",
    "            p.data[:] = p.data - self.current_lr * m_hat / (np.sqrt(v_hat) + self.eps)\n",
    "        \n",
    "    def zero_grad(self):\n",
    "        for p in self.params:\n",
    "            p.zero_grad()"
   ]
  },
  {
   "cell_type": "code",
   "execution_count": 23,
   "metadata": {},
   "outputs": [],
   "source": [
    "def training_loop_batch(network, optimizer, train_data, dev_data, n_epochs=10, batch_size=32, patience_threshold=5):\n",
    "    running_loss = RunningLoss()\n",
    "    train_accs, dev_accs = [], []\n",
    "    best_W = None\n",
    "    best_b = None\n",
    "    best_dev_acc = 0\n",
    "    patience = 0\n",
    "\n",
    "    for epoch in range(n_epochs):\n",
    "        print(\"Epoch %i\" % (epoch + 1))\n",
    "\n",
    "        shuffle = np.random.permutation(len(train_data[0]))\n",
    "        shuffled_train_data = (train_data[0][shuffle], train_data[1][shuffle])\n",
    "\n",
    "        # training loop\n",
    "        len_train = len(shuffled_train_data[0])//batch_size + (1 if len(shuffled_train_data[0])%batch_size>0 else 0)\n",
    "        pbar = tqdm(range(len_train), desc=\"Training\", total=len_train, miniters=int(100))\n",
    "        y_hats = []\n",
    "        ys = []\n",
    "\n",
    "        for i in pbar:\n",
    "            x = shuffled_train_data[0][i:i+batch_size]\n",
    "            y = shuffled_train_data[1][i:i+batch_size]\n",
    "\n",
    "            optimizer.zero_grad()\n",
    "            # forward\n",
    "            y_hat = network.forward(x)\n",
    "            loss = nll_batch(y_hat, y)\n",
    "            # backward\n",
    "            loss.backward(g=1.0)\n",
    "            # update\n",
    "            optimizer.step()\n",
    "\n",
    "            # Update the running loss\n",
    "            # print(loss.data)\n",
    "            running_loss.update(loss.data[0])\n",
    "            if i%100 == 0:\n",
    "                pbar.set_postfix(loss=running_loss.get())\n",
    "\n",
    "            # Store the output of the network\n",
    "            y_hats.append(y_hat.data)\n",
    "            ys.append(y)\n",
    "\n",
    "        # evaluation on train\n",
    "        y_hats = []\n",
    "        ys = []\n",
    "        for i in range(len_train):\n",
    "            x = train_data[0][i:i+batch_size]\n",
    "            y = train_data[1][i:i+batch_size]\n",
    "            y_hat = network.forward(x)\n",
    "            y_hats.append(y_hat.data)\n",
    "            ys.append(y)\n",
    "        y_hats = np.concatenate(y_hats, axis=0)\n",
    "        ys = np.concatenate(ys, axis=0)\n",
    "        train_acc = np.mean(np.argmax(y_hats, axis=1) == ys)\n",
    "        print(\"Train accuracy: %.2f\" % (train_acc * 100))\n",
    "        train_accs.append(train_acc)\n",
    "\n",
    "        len_dev = len(dev_data[0])//batch_size + (1 if len(dev_data[0])%batch_size>0 else 0)\n",
    "        y_hats = []\n",
    "        ys = []\n",
    "        # evaluation on dev\n",
    "        for i in range(len_dev):\n",
    "            x = dev_data[0][i:i+batch_size]\n",
    "            y = dev_data[1][i:i+batch_size]\n",
    "            y_hat = network.forward(x)\n",
    "            y_hats.append(y_hat.data)\n",
    "            ys.append(y)\n",
    "        y_hats = np.concatenate(y_hats, axis=0)\n",
    "        ys = np.concatenate(ys, axis=0)\n",
    "        dev_acc = np.mean(np.argmax(y_hats, axis=1) == ys)\n",
    "        print(\"Dev accuracy: %.2f\" % (dev_acc * 100))\n",
    "        dev_accs.append(dev_acc)\n",
    "\n",
    "        if dev_accs[-1] > best_dev_acc:\n",
    "            best_W = network.W \n",
    "            best_b = network.b \n",
    "            best_dev_acc = dev_accs[-1]\n",
    "            patience = 0\n",
    "        else: \n",
    "            patience+=1 \n",
    "\n",
    "        if patience > patience_threshold:\n",
    "            # Break the loop\n",
    "            print(\"Dev accuracy not improving for %i epochs. Stopping.\" % patience_threshold)\n",
    "            break\n",
    "    return running_loss, train_accs, dev_accs, best_W, best_b, best_dev_acc"
   ]
  },
  {
   "cell_type": "code",
   "execution_count": 24,
   "metadata": {},
   "outputs": [],
   "source": [
    "def evaluate_dataset(W, b, data, gold):\n",
    "    predictions = predict(W, b, data)\n",
    "    return accuracy_score(gold, predictions)\n",
    "\n",
    "def split_in_batches(images, labels, batch_size): \n",
    "    batch_images = np.array_split(images, len(images) // batch_size) \n",
    "    batch_labels = np.array_split(labels, len(labels) // batch_size)\n",
    "\n",
    "    return batch_images, batch_labels\n",
    "\n",
    "def shuffled_data(data):\n",
    "    perm = np.random.permutation(len(data[0])) \n",
    "    return data[0][perm], data[1][perm].astype(np.int32) \n",
    "\n",
    "def predict(W, b, x):\n",
    "    return np.argmax(affine_transform_batch(W, b, x), axis=1)"
   ]
  },
  {
   "cell_type": "code",
   "execution_count": 26,
   "metadata": {},
   "outputs": [],
   "source": [
    "grid_params = {\n",
    "    'lr': [0.01, 0.001, 0.0001],\n",
    "    'n_epochs': [5, 10, 20],\n",
    "    'batch_size': [4,16,64],\n",
    "    'lr_scheduler': ['cosine', None],\n",
    "    'patience_threshold': [3]\n",
    "}"
   ]
  },
  {
   "cell_type": "code",
   "execution_count": 27,
   "metadata": {},
   "outputs": [],
   "source": [
    "import gc \n",
    "import pandas as pd\n",
    "import pickle \n",
    "import time \n",
    "df = pd.DataFrame(columns=['lr', 'n_epochs', 'do_shuffle', 'decay', 'patience_threshold', 'train_accuracy', 'dev_accuracy', 'best_dev_accuracy', 'time'])"
   ]
  },
  {
   "cell_type": "code",
   "execution_count": 499,
   "metadata": {},
   "outputs": [
    {
     "name": "stdout",
     "output_type": "stream",
     "text": [
      "****************************************************************************************************\n",
      "Running with lr: 0.01, n_epochs: 5, batch_size: 4, lr_scheduler: cosine, patience_threshold: 3\n",
      "Epoch 1\n"
     ]
    },
    {
     "name": "stderr",
     "output_type": "stream",
     "text": [
      "Training: 100%|██████████| 12500/12500 [00:04<00:00, 2656.28it/s, loss=0.859]\n"
     ]
    },
    {
     "name": "stdout",
     "output_type": "stream",
     "text": [
      "Train accuracy: 75.12\n",
      "Dev accuracy: 75.56\n",
      "Epoch 2\n"
     ]
    },
    {
     "name": "stderr",
     "output_type": "stream",
     "text": [
      "Training: 100%|██████████| 12500/12500 [00:04<00:00, 2776.89it/s, loss=0.805]\n"
     ]
    },
    {
     "name": "stdout",
     "output_type": "stream",
     "text": [
      "Train accuracy: 79.12\n",
      "Dev accuracy: 80.41\n",
      "Epoch 3\n"
     ]
    },
    {
     "name": "stderr",
     "output_type": "stream",
     "text": [
      "Training: 100%|██████████| 12500/12500 [00:04<00:00, 2653.05it/s, loss=0.786]\n"
     ]
    },
    {
     "name": "stdout",
     "output_type": "stream",
     "text": [
      "Train accuracy: 72.45\n",
      "Dev accuracy: 72.45\n",
      "Epoch 4\n"
     ]
    },
    {
     "name": "stderr",
     "output_type": "stream",
     "text": [
      "Training: 100%|██████████| 12500/12500 [00:04<00:00, 2605.82it/s, loss=0.753]\n"
     ]
    },
    {
     "name": "stdout",
     "output_type": "stream",
     "text": [
      "Train accuracy: 82.72\n",
      "Dev accuracy: 82.61\n",
      "Epoch 5\n"
     ]
    },
    {
     "name": "stderr",
     "output_type": "stream",
     "text": [
      "Training: 100%|██████████| 12500/12500 [00:04<00:00, 2587.45it/s, loss=0.712]\n"
     ]
    },
    {
     "name": "stdout",
     "output_type": "stream",
     "text": [
      "Train accuracy: 83.58\n",
      "Dev accuracy: 83.73\n",
      "New best dev accuracy: 0.8373\n"
     ]
    },
    {
     "name": "stderr",
     "output_type": "stream",
     "text": [
      "/var/folders/91/2fbkbbgj7471rgv8k0yy0sn40000gn/T/ipykernel_26651/2411159783.py:30: FutureWarning: The frame.append method is deprecated and will be removed from pandas in a future version. Use pandas.concat instead.\n",
      "  df = df.append({\n"
     ]
    },
    {
     "name": "stdout",
     "output_type": "stream",
     "text": [
      "****************************************************************************************************\n",
      "Running with lr: 0.01, n_epochs: 5, batch_size: 4, lr_scheduler: no scheduler, patience_threshold: 3\n",
      "Epoch 1\n"
     ]
    },
    {
     "name": "stderr",
     "output_type": "stream",
     "text": [
      "Training: 100%|██████████| 12500/12500 [00:04<00:00, 2721.30it/s, loss=1.03]\n"
     ]
    },
    {
     "name": "stdout",
     "output_type": "stream",
     "text": [
      "Train accuracy: 70.53\n",
      "Dev accuracy: 71.45\n",
      "Epoch 2\n"
     ]
    },
    {
     "name": "stderr",
     "output_type": "stream",
     "text": [
      "Training: 100%|██████████| 12500/12500 [00:04<00:00, 2807.71it/s, loss=1.01] \n"
     ]
    },
    {
     "name": "stdout",
     "output_type": "stream",
     "text": [
      "Train accuracy: 50.80\n",
      "Dev accuracy: 50.09\n",
      "Epoch 3\n"
     ]
    },
    {
     "name": "stderr",
     "output_type": "stream",
     "text": [
      "Training: 100%|██████████| 12500/12500 [00:04<00:00, 2776.05it/s, loss=1.09]\n"
     ]
    },
    {
     "name": "stdout",
     "output_type": "stream",
     "text": [
      "Train accuracy: 42.82\n",
      "Dev accuracy: 44.45\n",
      "Epoch 4\n"
     ]
    },
    {
     "name": "stderr",
     "output_type": "stream",
     "text": [
      "Training: 100%|██████████| 12500/12500 [00:05<00:00, 2415.47it/s, loss=1.17]\n"
     ]
    },
    {
     "name": "stdout",
     "output_type": "stream",
     "text": [
      "Train accuracy: 32.73\n",
      "Dev accuracy: 33.94\n",
      "Epoch 5\n"
     ]
    },
    {
     "name": "stderr",
     "output_type": "stream",
     "text": [
      "Training: 100%|██████████| 12500/12500 [00:05<00:00, 2494.81it/s, loss=1.22]\n"
     ]
    },
    {
     "name": "stdout",
     "output_type": "stream",
     "text": [
      "Train accuracy: 35.56\n",
      "Dev accuracy: 36.78\n",
      "Dev accuracy not improving for 3 epochs. Stopping.\n"
     ]
    },
    {
     "name": "stderr",
     "output_type": "stream",
     "text": [
      "/var/folders/91/2fbkbbgj7471rgv8k0yy0sn40000gn/T/ipykernel_26651/2411159783.py:30: FutureWarning: The frame.append method is deprecated and will be removed from pandas in a future version. Use pandas.concat instead.\n",
      "  df = df.append({\n"
     ]
    },
    {
     "name": "stdout",
     "output_type": "stream",
     "text": [
      "****************************************************************************************************\n",
      "Running with lr: 0.01, n_epochs: 5, batch_size: 16, lr_scheduler: cosine, patience_threshold: 3\n",
      "Epoch 1\n"
     ]
    },
    {
     "name": "stderr",
     "output_type": "stream",
     "text": [
      "Training: 100%|██████████| 3125/3125 [00:12<00:00, 257.61it/s, loss=0.433]\n"
     ]
    },
    {
     "name": "stdout",
     "output_type": "stream",
     "text": [
      "Train accuracy: 73.84\n",
      "Dev accuracy: 75.91\n",
      "Epoch 2\n"
     ]
    },
    {
     "name": "stderr",
     "output_type": "stream",
     "text": [
      "Training: 100%|██████████| 3125/3125 [00:11<00:00, 269.17it/s, loss=0.47] \n"
     ]
    },
    {
     "name": "stdout",
     "output_type": "stream",
     "text": [
      "Train accuracy: 78.16\n",
      "Dev accuracy: 82.99\n",
      "Epoch 3\n"
     ]
    },
    {
     "name": "stderr",
     "output_type": "stream",
     "text": [
      "Training: 100%|██████████| 3125/3125 [00:06<00:00, 513.00it/s, loss=0.45] \n"
     ]
    },
    {
     "name": "stdout",
     "output_type": "stream",
     "text": [
      "Train accuracy: 85.67\n",
      "Dev accuracy: 87.63\n",
      "Epoch 4\n"
     ]
    },
    {
     "name": "stderr",
     "output_type": "stream",
     "text": [
      "Training: 100%|██████████| 3125/3125 [00:06<00:00, 506.73it/s, loss=0.443]\n"
     ]
    },
    {
     "name": "stdout",
     "output_type": "stream",
     "text": [
      "Train accuracy: 86.28\n",
      "Dev accuracy: 88.38\n",
      "Epoch 5\n"
     ]
    },
    {
     "name": "stderr",
     "output_type": "stream",
     "text": [
      "Training: 100%|██████████| 3125/3125 [00:04<00:00, 711.88it/s, loss=0.442]\n"
     ]
    },
    {
     "name": "stdout",
     "output_type": "stream",
     "text": [
      "Train accuracy: 88.02\n",
      "Dev accuracy: 89.50\n",
      "New best dev accuracy: 0.895\n"
     ]
    },
    {
     "name": "stderr",
     "output_type": "stream",
     "text": [
      "/var/folders/91/2fbkbbgj7471rgv8k0yy0sn40000gn/T/ipykernel_26651/2411159783.py:30: FutureWarning: The frame.append method is deprecated and will be removed from pandas in a future version. Use pandas.concat instead.\n",
      "  df = df.append({\n"
     ]
    },
    {
     "name": "stdout",
     "output_type": "stream",
     "text": [
      "****************************************************************************************************\n",
      "Running with lr: 0.01, n_epochs: 5, batch_size: 16, lr_scheduler: no scheduler, patience_threshold: 3\n",
      "Epoch 1\n"
     ]
    },
    {
     "name": "stderr",
     "output_type": "stream",
     "text": [
      "Training: 100%|██████████| 3125/3125 [00:05<00:00, 558.68it/s, loss=0.369]\n"
     ]
    },
    {
     "name": "stdout",
     "output_type": "stream",
     "text": [
      "Train accuracy: 76.32\n",
      "Dev accuracy: 79.68\n",
      "Epoch 2\n"
     ]
    },
    {
     "name": "stderr",
     "output_type": "stream",
     "text": [
      "Training: 100%|██████████| 3125/3125 [00:05<00:00, 617.02it/s, loss=0.464]\n"
     ]
    },
    {
     "name": "stdout",
     "output_type": "stream",
     "text": [
      "Train accuracy: 73.12\n",
      "Dev accuracy: 76.03\n",
      "Epoch 3\n"
     ]
    },
    {
     "name": "stderr",
     "output_type": "stream",
     "text": [
      "Training: 100%|██████████| 3125/3125 [00:05<00:00, 537.31it/s, loss=0.509]\n"
     ]
    },
    {
     "name": "stdout",
     "output_type": "stream",
     "text": [
      "Train accuracy: 76.20\n",
      "Dev accuracy: 79.86\n",
      "Epoch 4\n"
     ]
    },
    {
     "name": "stderr",
     "output_type": "stream",
     "text": [
      "Training: 100%|██████████| 3125/3125 [00:06<00:00, 473.50it/s, loss=0.527]\n"
     ]
    },
    {
     "name": "stdout",
     "output_type": "stream",
     "text": [
      "Train accuracy: 77.39\n",
      "Dev accuracy: 82.40\n",
      "Epoch 5\n"
     ]
    },
    {
     "name": "stderr",
     "output_type": "stream",
     "text": [
      "Training: 100%|██████████| 3125/3125 [00:06<00:00, 497.40it/s, loss=0.543]\n"
     ]
    },
    {
     "name": "stdout",
     "output_type": "stream",
     "text": [
      "Train accuracy: 80.67\n",
      "Dev accuracy: 82.94\n"
     ]
    },
    {
     "name": "stderr",
     "output_type": "stream",
     "text": [
      "/var/folders/91/2fbkbbgj7471rgv8k0yy0sn40000gn/T/ipykernel_26651/2411159783.py:30: FutureWarning: The frame.append method is deprecated and will be removed from pandas in a future version. Use pandas.concat instead.\n",
      "  df = df.append({\n"
     ]
    },
    {
     "name": "stdout",
     "output_type": "stream",
     "text": [
      "****************************************************************************************************\n",
      "Running with lr: 0.01, n_epochs: 5, batch_size: 64, lr_scheduler: cosine, patience_threshold: 3\n",
      "Epoch 1\n"
     ]
    },
    {
     "name": "stderr",
     "output_type": "stream",
     "text": [
      "Training: 100%|██████████| 782/782 [00:01<00:00, 435.93it/s, loss=0.0812]\n"
     ]
    },
    {
     "name": "stdout",
     "output_type": "stream",
     "text": [
      "Train accuracy: 76.85\n",
      "Dev accuracy: 79.27\n",
      "Epoch 2\n"
     ]
    },
    {
     "name": "stderr",
     "output_type": "stream",
     "text": [
      "Training: 100%|██████████| 782/782 [00:01<00:00, 423.53it/s, loss=0.0728]\n"
     ]
    },
    {
     "name": "stdout",
     "output_type": "stream",
     "text": [
      "Train accuracy: 78.97\n",
      "Dev accuracy: 85.01\n",
      "Epoch 3\n"
     ]
    },
    {
     "name": "stderr",
     "output_type": "stream",
     "text": [
      "Training: 100%|██████████| 782/782 [00:01<00:00, 497.98it/s, loss=0.0798]\n"
     ]
    },
    {
     "name": "stdout",
     "output_type": "stream",
     "text": [
      "Train accuracy: 84.10\n",
      "Dev accuracy: 87.80\n",
      "Epoch 4\n"
     ]
    },
    {
     "name": "stderr",
     "output_type": "stream",
     "text": [
      "Training: 100%|██████████| 782/782 [00:01<00:00, 456.53it/s, loss=0.0829]\n"
     ]
    },
    {
     "name": "stdout",
     "output_type": "stream",
     "text": [
      "Train accuracy: 88.04\n",
      "Dev accuracy: 92.83\n",
      "Epoch 5\n"
     ]
    },
    {
     "name": "stderr",
     "output_type": "stream",
     "text": [
      "Training: 100%|██████████| 782/782 [00:01<00:00, 478.80it/s, loss=0.123] \n"
     ]
    },
    {
     "name": "stdout",
     "output_type": "stream",
     "text": [
      "Train accuracy: 88.58\n",
      "Dev accuracy: 93.73\n",
      "New best dev accuracy: 0.9373009554140127\n"
     ]
    },
    {
     "name": "stderr",
     "output_type": "stream",
     "text": [
      "/var/folders/91/2fbkbbgj7471rgv8k0yy0sn40000gn/T/ipykernel_26651/2411159783.py:30: FutureWarning: The frame.append method is deprecated and will be removed from pandas in a future version. Use pandas.concat instead.\n",
      "  df = df.append({\n"
     ]
    },
    {
     "name": "stdout",
     "output_type": "stream",
     "text": [
      "****************************************************************************************************\n",
      "Running with lr: 0.01, n_epochs: 5, batch_size: 64, lr_scheduler: no scheduler, patience_threshold: 3\n",
      "Epoch 1\n"
     ]
    },
    {
     "name": "stderr",
     "output_type": "stream",
     "text": [
      "Training: 100%|██████████| 782/782 [00:01<00:00, 395.00it/s, loss=0.088] \n"
     ]
    },
    {
     "name": "stdout",
     "output_type": "stream",
     "text": [
      "Train accuracy: 79.52\n",
      "Dev accuracy: 84.61\n",
      "Epoch 2\n"
     ]
    },
    {
     "name": "stderr",
     "output_type": "stream",
     "text": [
      "Training: 100%|██████████| 782/782 [00:01<00:00, 463.18it/s, loss=0.0731]\n"
     ]
    },
    {
     "name": "stdout",
     "output_type": "stream",
     "text": [
      "Train accuracy: 78.79\n",
      "Dev accuracy: 85.80\n",
      "Epoch 3\n"
     ]
    },
    {
     "name": "stderr",
     "output_type": "stream",
     "text": [
      "Training: 100%|██████████| 782/782 [00:01<00:00, 462.52it/s, loss=0.0768]\n"
     ]
    },
    {
     "name": "stdout",
     "output_type": "stream",
     "text": [
      "Train accuracy: 79.22\n",
      "Dev accuracy: 86.53\n",
      "Epoch 4\n"
     ]
    },
    {
     "name": "stderr",
     "output_type": "stream",
     "text": [
      "Training: 100%|██████████| 782/782 [00:01<00:00, 462.75it/s, loss=0.0755]\n"
     ]
    },
    {
     "name": "stdout",
     "output_type": "stream",
     "text": [
      "Train accuracy: 83.37\n",
      "Dev accuracy: 88.98\n",
      "Epoch 5\n"
     ]
    },
    {
     "name": "stderr",
     "output_type": "stream",
     "text": [
      "Training: 100%|██████████| 782/782 [00:01<00:00, 444.57it/s, loss=0.0856]\n"
     ]
    },
    {
     "name": "stdout",
     "output_type": "stream",
     "text": [
      "Train accuracy: 77.84\n",
      "Dev accuracy: 81.72\n",
      "****************************************************************************************************\n",
      "Running with lr: 0.01, n_epochs: 10, batch_size: 4, lr_scheduler: cosine, patience_threshold: 3\n",
      "Epoch 1\n"
     ]
    },
    {
     "name": "stderr",
     "output_type": "stream",
     "text": [
      "/var/folders/91/2fbkbbgj7471rgv8k0yy0sn40000gn/T/ipykernel_26651/2411159783.py:30: FutureWarning: The frame.append method is deprecated and will be removed from pandas in a future version. Use pandas.concat instead.\n",
      "  df = df.append({\n",
      "Training: 100%|██████████| 12500/12500 [00:04<00:00, 2540.71it/s, loss=1.03]\n"
     ]
    },
    {
     "name": "stdout",
     "output_type": "stream",
     "text": [
      "Train accuracy: 70.77\n",
      "Dev accuracy: 70.69\n",
      "Epoch 2\n"
     ]
    },
    {
     "name": "stderr",
     "output_type": "stream",
     "text": [
      "Training: 100%|██████████| 12500/12500 [00:04<00:00, 2642.06it/s, loss=1.04]\n"
     ]
    },
    {
     "name": "stdout",
     "output_type": "stream",
     "text": [
      "Train accuracy: 59.26\n",
      "Dev accuracy: 61.02\n",
      "Epoch 3\n"
     ]
    },
    {
     "name": "stderr",
     "output_type": "stream",
     "text": [
      "Training: 100%|██████████| 12500/12500 [00:04<00:00, 2685.69it/s, loss=1.06]\n"
     ]
    },
    {
     "name": "stdout",
     "output_type": "stream",
     "text": [
      "Train accuracy: 58.08\n",
      "Dev accuracy: 58.70\n",
      "Epoch 4\n"
     ]
    },
    {
     "name": "stderr",
     "output_type": "stream",
     "text": [
      "Training: 100%|██████████| 12500/12500 [00:04<00:00, 2567.67it/s, loss=1.05]\n"
     ]
    },
    {
     "name": "stdout",
     "output_type": "stream",
     "text": [
      "Train accuracy: 66.18\n",
      "Dev accuracy: 65.74\n",
      "Epoch 5\n"
     ]
    },
    {
     "name": "stderr",
     "output_type": "stream",
     "text": [
      "Training: 100%|██████████| 12500/12500 [00:04<00:00, 2621.43it/s, loss=1.03]\n"
     ]
    },
    {
     "name": "stdout",
     "output_type": "stream",
     "text": [
      "Train accuracy: 58.69\n",
      "Dev accuracy: 59.52\n",
      "Dev accuracy not improving for 3 epochs. Stopping.\n"
     ]
    },
    {
     "name": "stderr",
     "output_type": "stream",
     "text": [
      "/var/folders/91/2fbkbbgj7471rgv8k0yy0sn40000gn/T/ipykernel_26651/2411159783.py:30: FutureWarning: The frame.append method is deprecated and will be removed from pandas in a future version. Use pandas.concat instead.\n",
      "  df = df.append({\n"
     ]
    },
    {
     "name": "stdout",
     "output_type": "stream",
     "text": [
      "****************************************************************************************************\n",
      "Running with lr: 0.01, n_epochs: 10, batch_size: 4, lr_scheduler: no scheduler, patience_threshold: 3\n",
      "Epoch 1\n"
     ]
    },
    {
     "name": "stderr",
     "output_type": "stream",
     "text": [
      "Training: 100%|██████████| 12500/12500 [00:05<00:00, 2449.40it/s, loss=1.06]\n"
     ]
    },
    {
     "name": "stdout",
     "output_type": "stream",
     "text": [
      "Train accuracy: 63.85\n",
      "Dev accuracy: 64.40\n",
      "Epoch 2\n"
     ]
    },
    {
     "name": "stderr",
     "output_type": "stream",
     "text": [
      "Training: 100%|██████████| 12500/12500 [00:04<00:00, 2595.30it/s, loss=1.08]\n"
     ]
    },
    {
     "name": "stdout",
     "output_type": "stream",
     "text": [
      "Train accuracy: 50.24\n",
      "Dev accuracy: 51.42\n",
      "Epoch 3\n"
     ]
    },
    {
     "name": "stderr",
     "output_type": "stream",
     "text": [
      "Training: 100%|██████████| 12500/12500 [00:04<00:00, 2551.24it/s, loss=1.18]\n"
     ]
    },
    {
     "name": "stdout",
     "output_type": "stream",
     "text": [
      "Train accuracy: 43.58\n",
      "Dev accuracy: 45.67\n",
      "Epoch 4\n"
     ]
    },
    {
     "name": "stderr",
     "output_type": "stream",
     "text": [
      "Training: 100%|██████████| 12500/12500 [00:05<00:00, 2226.71it/s, loss=1.28]\n"
     ]
    },
    {
     "name": "stdout",
     "output_type": "stream",
     "text": [
      "Train accuracy: 28.02\n",
      "Dev accuracy: 29.29\n",
      "Epoch 5\n"
     ]
    },
    {
     "name": "stderr",
     "output_type": "stream",
     "text": [
      "Training: 100%|██████████| 12500/12500 [00:05<00:00, 2489.75it/s, loss=1.32]\n"
     ]
    },
    {
     "name": "stdout",
     "output_type": "stream",
     "text": [
      "Train accuracy: 43.77\n",
      "Dev accuracy: 46.07\n",
      "Dev accuracy not improving for 3 epochs. Stopping.\n"
     ]
    },
    {
     "name": "stderr",
     "output_type": "stream",
     "text": [
      "/var/folders/91/2fbkbbgj7471rgv8k0yy0sn40000gn/T/ipykernel_26651/2411159783.py:30: FutureWarning: The frame.append method is deprecated and will be removed from pandas in a future version. Use pandas.concat instead.\n",
      "  df = df.append({\n"
     ]
    },
    {
     "name": "stdout",
     "output_type": "stream",
     "text": [
      "****************************************************************************************************\n",
      "Running with lr: 0.01, n_epochs: 10, batch_size: 16, lr_scheduler: cosine, patience_threshold: 3\n",
      "Epoch 1\n"
     ]
    },
    {
     "name": "stderr",
     "output_type": "stream",
     "text": [
      "Training: 100%|██████████| 3125/3125 [00:09<00:00, 347.01it/s, loss=0.456]\n"
     ]
    },
    {
     "name": "stdout",
     "output_type": "stream",
     "text": [
      "Train accuracy: 72.79\n",
      "Dev accuracy: 76.45\n",
      "Epoch 2\n"
     ]
    },
    {
     "name": "stderr",
     "output_type": "stream",
     "text": [
      "Training: 100%|██████████| 3125/3125 [00:07<00:00, 433.05it/s, loss=0.484]\n"
     ]
    },
    {
     "name": "stdout",
     "output_type": "stream",
     "text": [
      "Train accuracy: 82.29\n",
      "Dev accuracy: 84.22\n",
      "Epoch 3\n"
     ]
    },
    {
     "name": "stderr",
     "output_type": "stream",
     "text": [
      "Training: 100%|██████████| 3125/3125 [00:09<00:00, 334.09it/s, loss=0.476]\n"
     ]
    },
    {
     "name": "stdout",
     "output_type": "stream",
     "text": [
      "Train accuracy: 74.61\n",
      "Dev accuracy: 78.92\n",
      "Epoch 4\n"
     ]
    },
    {
     "name": "stderr",
     "output_type": "stream",
     "text": [
      "Training: 100%|██████████| 3125/3125 [00:09<00:00, 343.70it/s, loss=0.475]\n"
     ]
    },
    {
     "name": "stdout",
     "output_type": "stream",
     "text": [
      "Train accuracy: 87.16\n",
      "Dev accuracy: 88.24\n",
      "Epoch 5\n"
     ]
    },
    {
     "name": "stderr",
     "output_type": "stream",
     "text": [
      "Training: 100%|██████████| 3125/3125 [00:08<00:00, 355.05it/s, loss=0.472]\n"
     ]
    },
    {
     "name": "stdout",
     "output_type": "stream",
     "text": [
      "Train accuracy: 87.46\n",
      "Dev accuracy: 88.43\n",
      "Epoch 6\n"
     ]
    },
    {
     "name": "stderr",
     "output_type": "stream",
     "text": [
      "Training: 100%|██████████| 3125/3125 [00:08<00:00, 350.45it/s, loss=0.458]\n"
     ]
    },
    {
     "name": "stdout",
     "output_type": "stream",
     "text": [
      "Train accuracy: 84.95\n",
      "Dev accuracy: 86.86\n",
      "Epoch 7\n"
     ]
    },
    {
     "name": "stderr",
     "output_type": "stream",
     "text": [
      "Training: 100%|██████████| 3125/3125 [00:09<00:00, 330.80it/s, loss=0.446]\n"
     ]
    },
    {
     "name": "stdout",
     "output_type": "stream",
     "text": [
      "Train accuracy: 89.12\n",
      "Dev accuracy: 88.27\n",
      "Epoch 8\n"
     ]
    },
    {
     "name": "stderr",
     "output_type": "stream",
     "text": [
      "Training: 100%|██████████| 3125/3125 [00:08<00:00, 353.03it/s, loss=0.431]\n"
     ]
    },
    {
     "name": "stdout",
     "output_type": "stream",
     "text": [
      "Train accuracy: 90.87\n",
      "Dev accuracy: 91.15\n",
      "Epoch 9\n"
     ]
    },
    {
     "name": "stderr",
     "output_type": "stream",
     "text": [
      "Training: 100%|██████████| 3125/3125 [00:06<00:00, 466.42it/s, loss=0.419]\n"
     ]
    },
    {
     "name": "stdout",
     "output_type": "stream",
     "text": [
      "Train accuracy: 90.91\n",
      "Dev accuracy: 91.18\n",
      "Epoch 10\n"
     ]
    },
    {
     "name": "stderr",
     "output_type": "stream",
     "text": [
      "Training: 100%|██████████| 3125/3125 [00:08<00:00, 356.86it/s, loss=0.417]\n"
     ]
    },
    {
     "name": "stdout",
     "output_type": "stream",
     "text": [
      "Train accuracy: 91.10\n",
      "Dev accuracy: 91.47\n"
     ]
    },
    {
     "name": "stderr",
     "output_type": "stream",
     "text": [
      "/var/folders/91/2fbkbbgj7471rgv8k0yy0sn40000gn/T/ipykernel_26651/2411159783.py:30: FutureWarning: The frame.append method is deprecated and will be removed from pandas in a future version. Use pandas.concat instead.\n",
      "  df = df.append({\n"
     ]
    },
    {
     "name": "stdout",
     "output_type": "stream",
     "text": [
      "****************************************************************************************************\n",
      "Running with lr: 0.01, n_epochs: 10, batch_size: 16, lr_scheduler: no scheduler, patience_threshold: 3\n",
      "Epoch 1\n"
     ]
    },
    {
     "name": "stderr",
     "output_type": "stream",
     "text": [
      "Training: 100%|██████████| 3125/3125 [00:07<00:00, 419.89it/s, loss=0.428]\n"
     ]
    },
    {
     "name": "stdout",
     "output_type": "stream",
     "text": [
      "Train accuracy: 74.55\n",
      "Dev accuracy: 76.08\n",
      "Epoch 2\n"
     ]
    },
    {
     "name": "stderr",
     "output_type": "stream",
     "text": [
      "Training: 100%|██████████| 3125/3125 [00:10<00:00, 291.12it/s, loss=0.477]\n"
     ]
    },
    {
     "name": "stdout",
     "output_type": "stream",
     "text": [
      "Train accuracy: 69.53\n",
      "Dev accuracy: 71.57\n",
      "Epoch 3\n"
     ]
    },
    {
     "name": "stderr",
     "output_type": "stream",
     "text": [
      "Training: 100%|██████████| 3125/3125 [00:07<00:00, 411.16it/s, loss=0.512]\n"
     ]
    },
    {
     "name": "stdout",
     "output_type": "stream",
     "text": [
      "Train accuracy: 75.30\n",
      "Dev accuracy: 79.45\n",
      "Epoch 4\n"
     ]
    },
    {
     "name": "stderr",
     "output_type": "stream",
     "text": [
      "Training: 100%|██████████| 3125/3125 [00:07<00:00, 440.16it/s, loss=0.532]\n"
     ]
    },
    {
     "name": "stdout",
     "output_type": "stream",
     "text": [
      "Train accuracy: 79.47\n",
      "Dev accuracy: 81.75\n",
      "Epoch 5\n"
     ]
    },
    {
     "name": "stderr",
     "output_type": "stream",
     "text": [
      "Training: 100%|██████████| 3125/3125 [00:07<00:00, 412.37it/s, loss=0.542]\n"
     ]
    },
    {
     "name": "stdout",
     "output_type": "stream",
     "text": [
      "Train accuracy: 70.24\n",
      "Dev accuracy: 71.60\n",
      "Epoch 6\n"
     ]
    },
    {
     "name": "stderr",
     "output_type": "stream",
     "text": [
      "Training: 100%|██████████| 3125/3125 [00:07<00:00, 431.67it/s, loss=0.539]\n"
     ]
    },
    {
     "name": "stdout",
     "output_type": "stream",
     "text": [
      "Train accuracy: 70.65\n",
      "Dev accuracy: 73.32\n",
      "Epoch 7\n"
     ]
    },
    {
     "name": "stderr",
     "output_type": "stream",
     "text": [
      "Training: 100%|██████████| 3125/3125 [00:07<00:00, 412.39it/s, loss=0.559]\n"
     ]
    },
    {
     "name": "stdout",
     "output_type": "stream",
     "text": [
      "Train accuracy: 75.97\n",
      "Dev accuracy: 75.46\n",
      "Epoch 8\n"
     ]
    },
    {
     "name": "stderr",
     "output_type": "stream",
     "text": [
      "Training: 100%|██████████| 3125/3125 [00:08<00:00, 378.92it/s, loss=0.58] \n"
     ]
    },
    {
     "name": "stdout",
     "output_type": "stream",
     "text": [
      "Train accuracy: 65.48\n",
      "Dev accuracy: 66.70\n",
      "Dev accuracy not improving for 3 epochs. Stopping.\n"
     ]
    },
    {
     "name": "stderr",
     "output_type": "stream",
     "text": [
      "/var/folders/91/2fbkbbgj7471rgv8k0yy0sn40000gn/T/ipykernel_26651/2411159783.py:30: FutureWarning: The frame.append method is deprecated and will be removed from pandas in a future version. Use pandas.concat instead.\n",
      "  df = df.append({\n"
     ]
    },
    {
     "name": "stdout",
     "output_type": "stream",
     "text": [
      "****************************************************************************************************\n",
      "Running with lr: 0.01, n_epochs: 10, batch_size: 64, lr_scheduler: cosine, patience_threshold: 3\n",
      "Epoch 1\n"
     ]
    },
    {
     "name": "stderr",
     "output_type": "stream",
     "text": [
      "Training: 100%|██████████| 782/782 [00:02<00:00, 305.84it/s, loss=0.0728]\n"
     ]
    },
    {
     "name": "stdout",
     "output_type": "stream",
     "text": [
      "Train accuracy: 84.00\n",
      "Dev accuracy: 85.70\n",
      "Epoch 2\n"
     ]
    },
    {
     "name": "stderr",
     "output_type": "stream",
     "text": [
      "Training: 100%|██████████| 782/782 [00:02<00:00, 347.86it/s, loss=0.0642]\n"
     ]
    },
    {
     "name": "stdout",
     "output_type": "stream",
     "text": [
      "Train accuracy: 76.50\n",
      "Dev accuracy: 84.33\n",
      "Epoch 3\n"
     ]
    },
    {
     "name": "stderr",
     "output_type": "stream",
     "text": [
      "Training: 100%|██████████| 782/782 [00:02<00:00, 299.77it/s, loss=0.0719]\n"
     ]
    },
    {
     "name": "stdout",
     "output_type": "stream",
     "text": [
      "Train accuracy: 79.22\n",
      "Dev accuracy: 88.20\n",
      "Epoch 4\n"
     ]
    },
    {
     "name": "stderr",
     "output_type": "stream",
     "text": [
      "Training: 100%|██████████| 782/782 [00:02<00:00, 284.89it/s, loss=0.0792]\n"
     ]
    },
    {
     "name": "stdout",
     "output_type": "stream",
     "text": [
      "Train accuracy: 79.02\n",
      "Dev accuracy: 84.03\n",
      "Epoch 5\n"
     ]
    },
    {
     "name": "stderr",
     "output_type": "stream",
     "text": [
      "Training: 100%|██████████| 782/782 [00:03<00:00, 218.13it/s, loss=0.0858]\n"
     ]
    },
    {
     "name": "stdout",
     "output_type": "stream",
     "text": [
      "Train accuracy: 80.35\n",
      "Dev accuracy: 86.40\n",
      "Epoch 6\n"
     ]
    },
    {
     "name": "stderr",
     "output_type": "stream",
     "text": [
      "Training: 100%|██████████| 782/782 [00:03<00:00, 249.82it/s, loss=0.0928]\n"
     ]
    },
    {
     "name": "stdout",
     "output_type": "stream",
     "text": [
      "Train accuracy: 80.56\n",
      "Dev accuracy: 88.61\n",
      "Epoch 7\n"
     ]
    },
    {
     "name": "stderr",
     "output_type": "stream",
     "text": [
      "Training: 100%|██████████| 782/782 [00:02<00:00, 269.00it/s, loss=0.0966]\n"
     ]
    },
    {
     "name": "stdout",
     "output_type": "stream",
     "text": [
      "Train accuracy: 88.61\n",
      "Dev accuracy: 90.60\n",
      "Epoch 8\n"
     ]
    },
    {
     "name": "stderr",
     "output_type": "stream",
     "text": [
      "Training: 100%|██████████| 782/782 [00:02<00:00, 390.04it/s, loss=0.101] \n"
     ]
    },
    {
     "name": "stdout",
     "output_type": "stream",
     "text": [
      "Train accuracy: 88.94\n",
      "Dev accuracy: 91.99\n",
      "Epoch 9\n"
     ]
    },
    {
     "name": "stderr",
     "output_type": "stream",
     "text": [
      "Training: 100%|██████████| 782/782 [00:03<00:00, 249.81it/s, loss=0.108]\n"
     ]
    },
    {
     "name": "stdout",
     "output_type": "stream",
     "text": [
      "Train accuracy: 88.37\n",
      "Dev accuracy: 90.47\n",
      "Epoch 10\n"
     ]
    },
    {
     "name": "stderr",
     "output_type": "stream",
     "text": [
      "Training: 100%|██████████| 782/782 [00:02<00:00, 359.27it/s, loss=0.128]\n"
     ]
    },
    {
     "name": "stdout",
     "output_type": "stream",
     "text": [
      "Train accuracy: 89.75\n",
      "Dev accuracy: 93.94\n",
      "New best dev accuracy: 0.939390923566879\n"
     ]
    },
    {
     "name": "stderr",
     "output_type": "stream",
     "text": [
      "/var/folders/91/2fbkbbgj7471rgv8k0yy0sn40000gn/T/ipykernel_26651/2411159783.py:30: FutureWarning: The frame.append method is deprecated and will be removed from pandas in a future version. Use pandas.concat instead.\n",
      "  df = df.append({\n"
     ]
    },
    {
     "name": "stdout",
     "output_type": "stream",
     "text": [
      "****************************************************************************************************\n",
      "Running with lr: 0.01, n_epochs: 10, batch_size: 64, lr_scheduler: no scheduler, patience_threshold: 3\n",
      "Epoch 1\n"
     ]
    },
    {
     "name": "stderr",
     "output_type": "stream",
     "text": [
      "Training: 100%|██████████| 782/782 [00:02<00:00, 304.15it/s, loss=0.0784]\n"
     ]
    },
    {
     "name": "stdout",
     "output_type": "stream",
     "text": [
      "Train accuracy: 81.91\n",
      "Dev accuracy: 84.39\n",
      "Epoch 2\n"
     ]
    },
    {
     "name": "stderr",
     "output_type": "stream",
     "text": [
      "Training: 100%|██████████| 782/782 [00:02<00:00, 327.52it/s, loss=0.0752]\n"
     ]
    },
    {
     "name": "stdout",
     "output_type": "stream",
     "text": [
      "Train accuracy: 78.10\n",
      "Dev accuracy: 81.63\n",
      "Epoch 3\n"
     ]
    },
    {
     "name": "stderr",
     "output_type": "stream",
     "text": [
      "Training: 100%|██████████| 782/782 [00:02<00:00, 274.60it/s, loss=0.0772]\n"
     ]
    },
    {
     "name": "stdout",
     "output_type": "stream",
     "text": [
      "Train accuracy: 82.63\n",
      "Dev accuracy: 84.71\n",
      "Epoch 4\n"
     ]
    },
    {
     "name": "stderr",
     "output_type": "stream",
     "text": [
      "Training: 100%|██████████| 782/782 [00:02<00:00, 353.54it/s, loss=0.0876]\n"
     ]
    },
    {
     "name": "stdout",
     "output_type": "stream",
     "text": [
      "Train accuracy: 83.03\n",
      "Dev accuracy: 90.60\n",
      "Epoch 5\n"
     ]
    },
    {
     "name": "stderr",
     "output_type": "stream",
     "text": [
      "Training: 100%|██████████| 782/782 [00:02<00:00, 267.31it/s, loss=0.0924]\n"
     ]
    },
    {
     "name": "stdout",
     "output_type": "stream",
     "text": [
      "Train accuracy: 83.47\n",
      "Dev accuracy: 86.40\n",
      "Epoch 6\n"
     ]
    },
    {
     "name": "stderr",
     "output_type": "stream",
     "text": [
      "Training: 100%|██████████| 782/782 [00:01<00:00, 425.49it/s, loss=0.1]   \n"
     ]
    },
    {
     "name": "stdout",
     "output_type": "stream",
     "text": [
      "Train accuracy: 79.81\n",
      "Dev accuracy: 82.00\n",
      "Epoch 7\n"
     ]
    },
    {
     "name": "stderr",
     "output_type": "stream",
     "text": [
      "Training: 100%|██████████| 782/782 [00:02<00:00, 307.21it/s, loss=0.111]\n"
     ]
    },
    {
     "name": "stdout",
     "output_type": "stream",
     "text": [
      "Train accuracy: 82.16\n",
      "Dev accuracy: 88.67\n",
      "Epoch 8\n"
     ]
    },
    {
     "name": "stderr",
     "output_type": "stream",
     "text": [
      "Training: 100%|██████████| 782/782 [00:02<00:00, 329.18it/s, loss=0.118]\n"
     ]
    },
    {
     "name": "stdout",
     "output_type": "stream",
     "text": [
      "Train accuracy: 83.54\n",
      "Dev accuracy: 83.10\n",
      "Dev accuracy not improving for 3 epochs. Stopping.\n"
     ]
    },
    {
     "name": "stderr",
     "output_type": "stream",
     "text": [
      "/var/folders/91/2fbkbbgj7471rgv8k0yy0sn40000gn/T/ipykernel_26651/2411159783.py:30: FutureWarning: The frame.append method is deprecated and will be removed from pandas in a future version. Use pandas.concat instead.\n",
      "  df = df.append({\n"
     ]
    },
    {
     "name": "stdout",
     "output_type": "stream",
     "text": [
      "****************************************************************************************************\n",
      "Running with lr: 0.01, n_epochs: 20, batch_size: 4, lr_scheduler: cosine, patience_threshold: 3\n",
      "Epoch 1\n"
     ]
    },
    {
     "name": "stderr",
     "output_type": "stream",
     "text": [
      "Training: 100%|██████████| 12500/12500 [00:05<00:00, 2425.57it/s, loss=1.48]\n"
     ]
    },
    {
     "name": "stdout",
     "output_type": "stream",
     "text": [
      "Train accuracy: 60.19\n",
      "Dev accuracy: 61.40\n",
      "Epoch 2\n"
     ]
    },
    {
     "name": "stderr",
     "output_type": "stream",
     "text": [
      "Training: 100%|██████████| 12500/12500 [00:04<00:00, 2636.02it/s, loss=1.39]\n"
     ]
    },
    {
     "name": "stdout",
     "output_type": "stream",
     "text": [
      "Train accuracy: 50.41\n",
      "Dev accuracy: 52.51\n",
      "Epoch 3\n"
     ]
    },
    {
     "name": "stderr",
     "output_type": "stream",
     "text": [
      "Training: 100%|██████████| 12500/12500 [00:05<00:00, 2474.18it/s, loss=1.39]\n"
     ]
    },
    {
     "name": "stdout",
     "output_type": "stream",
     "text": [
      "Train accuracy: 40.85\n",
      "Dev accuracy: 41.44\n",
      "Epoch 4\n"
     ]
    },
    {
     "name": "stderr",
     "output_type": "stream",
     "text": [
      "Training: 100%|██████████| 12500/12500 [00:04<00:00, 2743.89it/s, loss=1.38]\n"
     ]
    },
    {
     "name": "stdout",
     "output_type": "stream",
     "text": [
      "Train accuracy: 43.76\n",
      "Dev accuracy: 45.31\n",
      "Epoch 5\n"
     ]
    },
    {
     "name": "stderr",
     "output_type": "stream",
     "text": [
      "Training: 100%|██████████| 12500/12500 [00:04<00:00, 2608.19it/s, loss=1.39]\n"
     ]
    },
    {
     "name": "stdout",
     "output_type": "stream",
     "text": [
      "Train accuracy: 37.02\n",
      "Dev accuracy: 38.52\n",
      "Dev accuracy not improving for 3 epochs. Stopping.\n"
     ]
    },
    {
     "name": "stderr",
     "output_type": "stream",
     "text": [
      "/var/folders/91/2fbkbbgj7471rgv8k0yy0sn40000gn/T/ipykernel_26651/2411159783.py:30: FutureWarning: The frame.append method is deprecated and will be removed from pandas in a future version. Use pandas.concat instead.\n",
      "  df = df.append({\n"
     ]
    },
    {
     "name": "stdout",
     "output_type": "stream",
     "text": [
      "****************************************************************************************************\n",
      "Running with lr: 0.01, n_epochs: 20, batch_size: 4, lr_scheduler: no scheduler, patience_threshold: 3\n",
      "Epoch 1\n"
     ]
    },
    {
     "name": "stderr",
     "output_type": "stream",
     "text": [
      "Training: 100%|██████████| 12500/12500 [00:05<00:00, 2457.03it/s, loss=1.2] \n"
     ]
    },
    {
     "name": "stdout",
     "output_type": "stream",
     "text": [
      "Train accuracy: 57.97\n",
      "Dev accuracy: 59.17\n",
      "Epoch 2\n"
     ]
    },
    {
     "name": "stderr",
     "output_type": "stream",
     "text": [
      "Training: 100%|██████████| 12500/12500 [00:04<00:00, 2525.51it/s, loss=1.24]\n"
     ]
    },
    {
     "name": "stdout",
     "output_type": "stream",
     "text": [
      "Train accuracy: 38.57\n",
      "Dev accuracy: 38.33\n",
      "Epoch 3\n"
     ]
    },
    {
     "name": "stderr",
     "output_type": "stream",
     "text": [
      "Training: 100%|██████████| 12500/12500 [00:04<00:00, 2519.34it/s, loss=1.35]\n"
     ]
    },
    {
     "name": "stdout",
     "output_type": "stream",
     "text": [
      "Train accuracy: 28.02\n",
      "Dev accuracy: 28.24\n",
      "Epoch 4\n"
     ]
    },
    {
     "name": "stderr",
     "output_type": "stream",
     "text": [
      "Training: 100%|██████████| 12500/12500 [00:04<00:00, 2626.76it/s, loss=1.43]\n"
     ]
    },
    {
     "name": "stdout",
     "output_type": "stream",
     "text": [
      "Train accuracy: 17.34\n",
      "Dev accuracy: 17.95\n",
      "Epoch 5\n"
     ]
    },
    {
     "name": "stderr",
     "output_type": "stream",
     "text": [
      "Training: 100%|██████████| 12500/12500 [00:04<00:00, 2653.90it/s, loss=1.53]\n"
     ]
    },
    {
     "name": "stdout",
     "output_type": "stream",
     "text": [
      "Train accuracy: 20.89\n",
      "Dev accuracy: 19.76\n",
      "Dev accuracy not improving for 3 epochs. Stopping.\n"
     ]
    },
    {
     "name": "stderr",
     "output_type": "stream",
     "text": [
      "/var/folders/91/2fbkbbgj7471rgv8k0yy0sn40000gn/T/ipykernel_26651/2411159783.py:30: FutureWarning: The frame.append method is deprecated and will be removed from pandas in a future version. Use pandas.concat instead.\n",
      "  df = df.append({\n"
     ]
    },
    {
     "name": "stdout",
     "output_type": "stream",
     "text": [
      "****************************************************************************************************\n",
      "Running with lr: 0.01, n_epochs: 20, batch_size: 16, lr_scheduler: cosine, patience_threshold: 3\n",
      "Epoch 1\n"
     ]
    },
    {
     "name": "stderr",
     "output_type": "stream",
     "text": [
      "Training: 100%|██████████| 3125/3125 [00:07<00:00, 444.20it/s, loss=0.429]\n"
     ]
    },
    {
     "name": "stdout",
     "output_type": "stream",
     "text": [
      "Train accuracy: 79.03\n",
      "Dev accuracy: 84.75\n",
      "Epoch 2\n"
     ]
    },
    {
     "name": "stderr",
     "output_type": "stream",
     "text": [
      "Training: 100%|██████████| 3125/3125 [00:06<00:00, 487.97it/s, loss=0.441]\n"
     ]
    },
    {
     "name": "stdout",
     "output_type": "stream",
     "text": [
      "Train accuracy: 76.33\n",
      "Dev accuracy: 77.04\n",
      "Epoch 3\n"
     ]
    },
    {
     "name": "stderr",
     "output_type": "stream",
     "text": [
      "Training: 100%|██████████| 3125/3125 [00:07<00:00, 431.97it/s, loss=0.488]\n"
     ]
    },
    {
     "name": "stdout",
     "output_type": "stream",
     "text": [
      "Train accuracy: 80.21\n",
      "Dev accuracy: 84.26\n",
      "Epoch 4\n"
     ]
    },
    {
     "name": "stderr",
     "output_type": "stream",
     "text": [
      "Training: 100%|██████████| 3125/3125 [00:06<00:00, 513.47it/s, loss=0.511]\n"
     ]
    },
    {
     "name": "stdout",
     "output_type": "stream",
     "text": [
      "Train accuracy: 74.77\n",
      "Dev accuracy: 76.76\n",
      "Epoch 5\n"
     ]
    },
    {
     "name": "stderr",
     "output_type": "stream",
     "text": [
      "Training: 100%|██████████| 3125/3125 [00:06<00:00, 458.57it/s, loss=0.513]\n"
     ]
    },
    {
     "name": "stdout",
     "output_type": "stream",
     "text": [
      "Train accuracy: 70.77\n",
      "Dev accuracy: 75.34\n",
      "Dev accuracy not improving for 3 epochs. Stopping.\n"
     ]
    },
    {
     "name": "stderr",
     "output_type": "stream",
     "text": [
      "/var/folders/91/2fbkbbgj7471rgv8k0yy0sn40000gn/T/ipykernel_26651/2411159783.py:30: FutureWarning: The frame.append method is deprecated and will be removed from pandas in a future version. Use pandas.concat instead.\n",
      "  df = df.append({\n"
     ]
    },
    {
     "name": "stdout",
     "output_type": "stream",
     "text": [
      "****************************************************************************************************\n",
      "Running with lr: 0.01, n_epochs: 20, batch_size: 16, lr_scheduler: no scheduler, patience_threshold: 3\n",
      "Epoch 1\n"
     ]
    },
    {
     "name": "stderr",
     "output_type": "stream",
     "text": [
      "Training: 100%|██████████| 3125/3125 [00:06<00:00, 462.34it/s, loss=0.576]\n"
     ]
    },
    {
     "name": "stdout",
     "output_type": "stream",
     "text": [
      "Train accuracy: 76.83\n",
      "Dev accuracy: 80.88\n",
      "Epoch 2\n"
     ]
    },
    {
     "name": "stderr",
     "output_type": "stream",
     "text": [
      "Training: 100%|██████████| 3125/3125 [00:07<00:00, 444.10it/s, loss=0.561]\n"
     ]
    },
    {
     "name": "stdout",
     "output_type": "stream",
     "text": [
      "Train accuracy: 79.91\n",
      "Dev accuracy: 82.13\n",
      "Epoch 3\n"
     ]
    },
    {
     "name": "stderr",
     "output_type": "stream",
     "text": [
      "Training: 100%|██████████| 3125/3125 [00:07<00:00, 394.38it/s, loss=0.569]\n"
     ]
    },
    {
     "name": "stdout",
     "output_type": "stream",
     "text": [
      "Train accuracy: 79.86\n",
      "Dev accuracy: 82.13\n",
      "Epoch 4\n"
     ]
    },
    {
     "name": "stderr",
     "output_type": "stream",
     "text": [
      "Training: 100%|██████████| 3125/3125 [00:06<00:00, 465.15it/s, loss=0.582]\n"
     ]
    },
    {
     "name": "stdout",
     "output_type": "stream",
     "text": [
      "Train accuracy: 66.55\n",
      "Dev accuracy: 70.18\n",
      "Epoch 5\n"
     ]
    },
    {
     "name": "stderr",
     "output_type": "stream",
     "text": [
      "Training: 100%|██████████| 3125/3125 [00:06<00:00, 484.36it/s, loss=0.592]\n"
     ]
    },
    {
     "name": "stdout",
     "output_type": "stream",
     "text": [
      "Train accuracy: 78.21\n",
      "Dev accuracy: 81.46\n",
      "Epoch 6\n"
     ]
    },
    {
     "name": "stderr",
     "output_type": "stream",
     "text": [
      "Training: 100%|██████████| 3125/3125 [00:11<00:00, 269.37it/s, loss=0.613]\n"
     ]
    },
    {
     "name": "stdout",
     "output_type": "stream",
     "text": [
      "Train accuracy: 70.43\n",
      "Dev accuracy: 72.65\n",
      "Dev accuracy not improving for 3 epochs. Stopping.\n"
     ]
    },
    {
     "name": "stderr",
     "output_type": "stream",
     "text": [
      "/var/folders/91/2fbkbbgj7471rgv8k0yy0sn40000gn/T/ipykernel_26651/2411159783.py:30: FutureWarning: The frame.append method is deprecated and will be removed from pandas in a future version. Use pandas.concat instead.\n",
      "  df = df.append({\n"
     ]
    },
    {
     "name": "stdout",
     "output_type": "stream",
     "text": [
      "****************************************************************************************************\n",
      "Running with lr: 0.01, n_epochs: 20, batch_size: 64, lr_scheduler: cosine, patience_threshold: 3\n",
      "Epoch 1\n"
     ]
    },
    {
     "name": "stderr",
     "output_type": "stream",
     "text": [
      "Training: 100%|██████████| 782/782 [00:02<00:00, 298.58it/s, loss=0.077] \n"
     ]
    },
    {
     "name": "stdout",
     "output_type": "stream",
     "text": [
      "Train accuracy: 79.46\n",
      "Dev accuracy: 80.75\n",
      "Epoch 2\n"
     ]
    },
    {
     "name": "stderr",
     "output_type": "stream",
     "text": [
      "Training: 100%|██████████| 782/782 [00:01<00:00, 489.95it/s, loss=0.0639]\n"
     ]
    },
    {
     "name": "stdout",
     "output_type": "stream",
     "text": [
      "Train accuracy: 82.44\n",
      "Dev accuracy: 83.24\n",
      "Epoch 3\n"
     ]
    },
    {
     "name": "stderr",
     "output_type": "stream",
     "text": [
      "Training: 100%|██████████| 782/782 [00:02<00:00, 274.47it/s, loss=0.0728]\n"
     ]
    },
    {
     "name": "stdout",
     "output_type": "stream",
     "text": [
      "Train accuracy: 82.07\n",
      "Dev accuracy: 85.52\n",
      "Epoch 4\n"
     ]
    },
    {
     "name": "stderr",
     "output_type": "stream",
     "text": [
      "Training: 100%|██████████| 782/782 [00:01<00:00, 527.88it/s, loss=0.0747]\n"
     ]
    },
    {
     "name": "stdout",
     "output_type": "stream",
     "text": [
      "Train accuracy: 81.72\n",
      "Dev accuracy: 84.11\n",
      "Epoch 5\n"
     ]
    },
    {
     "name": "stderr",
     "output_type": "stream",
     "text": [
      "Training: 100%|██████████| 782/782 [00:01<00:00, 447.68it/s, loss=0.0803]\n"
     ]
    },
    {
     "name": "stdout",
     "output_type": "stream",
     "text": [
      "Train accuracy: 82.84\n",
      "Dev accuracy: 82.96\n",
      "Epoch 6\n"
     ]
    },
    {
     "name": "stderr",
     "output_type": "stream",
     "text": [
      "Training: 100%|██████████| 782/782 [00:02<00:00, 314.00it/s, loss=0.0817]\n"
     ]
    },
    {
     "name": "stdout",
     "output_type": "stream",
     "text": [
      "Train accuracy: 82.91\n",
      "Dev accuracy: 85.71\n",
      "Epoch 7\n"
     ]
    },
    {
     "name": "stderr",
     "output_type": "stream",
     "text": [
      "Training: 100%|██████████| 782/782 [00:02<00:00, 335.17it/s, loss=0.091] \n"
     ]
    },
    {
     "name": "stdout",
     "output_type": "stream",
     "text": [
      "Train accuracy: 83.70\n",
      "Dev accuracy: 88.57\n",
      "Epoch 8\n"
     ]
    },
    {
     "name": "stderr",
     "output_type": "stream",
     "text": [
      "Training: 100%|██████████| 782/782 [00:02<00:00, 313.79it/s, loss=0.0987]\n"
     ]
    },
    {
     "name": "stdout",
     "output_type": "stream",
     "text": [
      "Train accuracy: 83.11\n",
      "Dev accuracy: 84.35\n",
      "Epoch 9\n"
     ]
    },
    {
     "name": "stderr",
     "output_type": "stream",
     "text": [
      "Training: 100%|██████████| 782/782 [00:02<00:00, 285.83it/s, loss=0.107] \n"
     ]
    },
    {
     "name": "stdout",
     "output_type": "stream",
     "text": [
      "Train accuracy: 82.75\n",
      "Dev accuracy: 86.32\n",
      "Epoch 10\n"
     ]
    },
    {
     "name": "stderr",
     "output_type": "stream",
     "text": [
      "Training: 100%|██████████| 782/782 [00:02<00:00, 382.97it/s, loss=0.108]\n"
     ]
    },
    {
     "name": "stdout",
     "output_type": "stream",
     "text": [
      "Train accuracy: 86.40\n",
      "Dev accuracy: 90.44\n",
      "Epoch 11\n"
     ]
    },
    {
     "name": "stderr",
     "output_type": "stream",
     "text": [
      "Training: 100%|██████████| 782/782 [00:02<00:00, 378.82it/s, loss=0.112]\n"
     ]
    },
    {
     "name": "stdout",
     "output_type": "stream",
     "text": [
      "Train accuracy: 83.78\n",
      "Dev accuracy: 84.65\n",
      "Epoch 12\n"
     ]
    },
    {
     "name": "stderr",
     "output_type": "stream",
     "text": [
      "Training: 100%|██████████| 782/782 [00:02<00:00, 364.13it/s, loss=0.116]\n"
     ]
    },
    {
     "name": "stdout",
     "output_type": "stream",
     "text": [
      "Train accuracy: 86.62\n",
      "Dev accuracy: 89.05\n",
      "Epoch 13\n"
     ]
    },
    {
     "name": "stderr",
     "output_type": "stream",
     "text": [
      "Training: 100%|██████████| 782/782 [00:01<00:00, 395.28it/s, loss=0.119]\n"
     ]
    },
    {
     "name": "stdout",
     "output_type": "stream",
     "text": [
      "Train accuracy: 86.76\n",
      "Dev accuracy: 91.48\n",
      "Epoch 14\n"
     ]
    },
    {
     "name": "stderr",
     "output_type": "stream",
     "text": [
      "Training: 100%|██████████| 782/782 [00:02<00:00, 358.38it/s, loss=0.12] \n"
     ]
    },
    {
     "name": "stdout",
     "output_type": "stream",
     "text": [
      "Train accuracy: 89.34\n",
      "Dev accuracy: 92.17\n",
      "Epoch 15\n"
     ]
    },
    {
     "name": "stderr",
     "output_type": "stream",
     "text": [
      "Training: 100%|██████████| 782/782 [00:02<00:00, 285.59it/s, loss=0.123]\n"
     ]
    },
    {
     "name": "stdout",
     "output_type": "stream",
     "text": [
      "Train accuracy: 87.50\n",
      "Dev accuracy: 92.03\n",
      "Epoch 16\n"
     ]
    },
    {
     "name": "stderr",
     "output_type": "stream",
     "text": [
      "Training: 100%|██████████| 782/782 [00:02<00:00, 334.09it/s, loss=0.128]\n"
     ]
    },
    {
     "name": "stdout",
     "output_type": "stream",
     "text": [
      "Train accuracy: 89.55\n",
      "Dev accuracy: 91.78\n",
      "Epoch 17\n"
     ]
    },
    {
     "name": "stderr",
     "output_type": "stream",
     "text": [
      "Training: 100%|██████████| 782/782 [00:02<00:00, 368.94it/s, loss=0.133]\n"
     ]
    },
    {
     "name": "stdout",
     "output_type": "stream",
     "text": [
      "Train accuracy: 88.59\n",
      "Dev accuracy: 92.15\n",
      "Epoch 18\n"
     ]
    },
    {
     "name": "stderr",
     "output_type": "stream",
     "text": [
      "Training: 100%|██████████| 782/782 [00:01<00:00, 413.73it/s, loss=0.143]\n"
     ]
    },
    {
     "name": "stdout",
     "output_type": "stream",
     "text": [
      "Train accuracy: 89.51\n",
      "Dev accuracy: 92.78\n",
      "Epoch 19\n"
     ]
    },
    {
     "name": "stderr",
     "output_type": "stream",
     "text": [
      "Training: 100%|██████████| 782/782 [00:02<00:00, 353.83it/s, loss=0.155]\n"
     ]
    },
    {
     "name": "stdout",
     "output_type": "stream",
     "text": [
      "Train accuracy: 89.14\n",
      "Dev accuracy: 93.31\n",
      "Epoch 20\n"
     ]
    },
    {
     "name": "stderr",
     "output_type": "stream",
     "text": [
      "Training: 100%|██████████| 782/782 [00:03<00:00, 195.99it/s, loss=0.17] \n"
     ]
    },
    {
     "name": "stdout",
     "output_type": "stream",
     "text": [
      "Train accuracy: 89.62\n",
      "Dev accuracy: 93.31\n"
     ]
    },
    {
     "name": "stderr",
     "output_type": "stream",
     "text": [
      "/var/folders/91/2fbkbbgj7471rgv8k0yy0sn40000gn/T/ipykernel_26651/2411159783.py:30: FutureWarning: The frame.append method is deprecated and will be removed from pandas in a future version. Use pandas.concat instead.\n",
      "  df = df.append({\n"
     ]
    },
    {
     "name": "stdout",
     "output_type": "stream",
     "text": [
      "****************************************************************************************************\n",
      "Running with lr: 0.01, n_epochs: 20, batch_size: 64, lr_scheduler: no scheduler, patience_threshold: 3\n",
      "Epoch 1\n"
     ]
    },
    {
     "name": "stderr",
     "output_type": "stream",
     "text": [
      "Training: 100%|██████████| 782/782 [00:02<00:00, 331.61it/s, loss=0.0751]\n"
     ]
    },
    {
     "name": "stdout",
     "output_type": "stream",
     "text": [
      "Train accuracy: 77.90\n",
      "Dev accuracy: 80.01\n",
      "Epoch 2\n"
     ]
    },
    {
     "name": "stderr",
     "output_type": "stream",
     "text": [
      "Training: 100%|██████████| 782/782 [00:02<00:00, 362.48it/s, loss=0.081] \n"
     ]
    },
    {
     "name": "stdout",
     "output_type": "stream",
     "text": [
      "Train accuracy: 84.33\n",
      "Dev accuracy: 86.31\n",
      "Epoch 3\n"
     ]
    },
    {
     "name": "stderr",
     "output_type": "stream",
     "text": [
      "Training: 100%|██████████| 782/782 [00:02<00:00, 369.91it/s, loss=0.082] \n"
     ]
    },
    {
     "name": "stdout",
     "output_type": "stream",
     "text": [
      "Train accuracy: 78.52\n",
      "Dev accuracy: 80.26\n",
      "Epoch 4\n"
     ]
    },
    {
     "name": "stderr",
     "output_type": "stream",
     "text": [
      "Training: 100%|██████████| 782/782 [00:01<00:00, 413.27it/s, loss=0.0894]\n"
     ]
    },
    {
     "name": "stdout",
     "output_type": "stream",
     "text": [
      "Train accuracy: 81.12\n",
      "Dev accuracy: 82.37\n",
      "Epoch 5\n"
     ]
    },
    {
     "name": "stderr",
     "output_type": "stream",
     "text": [
      "Training: 100%|██████████| 782/782 [00:02<00:00, 365.00it/s, loss=0.102] \n"
     ]
    },
    {
     "name": "stdout",
     "output_type": "stream",
     "text": [
      "Train accuracy: 85.69\n",
      "Dev accuracy: 86.79\n",
      "Epoch 6\n"
     ]
    },
    {
     "name": "stderr",
     "output_type": "stream",
     "text": [
      "Training: 100%|██████████| 782/782 [00:01<00:00, 427.53it/s, loss=0.101]\n"
     ]
    },
    {
     "name": "stdout",
     "output_type": "stream",
     "text": [
      "Train accuracy: 78.42\n",
      "Dev accuracy: 82.25\n",
      "Epoch 7\n"
     ]
    },
    {
     "name": "stderr",
     "output_type": "stream",
     "text": [
      "Training: 100%|██████████| 782/782 [00:02<00:00, 333.66it/s, loss=0.105]\n"
     ]
    },
    {
     "name": "stdout",
     "output_type": "stream",
     "text": [
      "Train accuracy: 78.57\n",
      "Dev accuracy: 80.78\n",
      "Epoch 8\n"
     ]
    },
    {
     "name": "stderr",
     "output_type": "stream",
     "text": [
      "Training: 100%|██████████| 782/782 [00:02<00:00, 281.00it/s, loss=0.118]\n"
     ]
    },
    {
     "name": "stdout",
     "output_type": "stream",
     "text": [
      "Train accuracy: 83.92\n",
      "Dev accuracy: 86.13\n",
      "Epoch 9\n"
     ]
    },
    {
     "name": "stderr",
     "output_type": "stream",
     "text": [
      "Training: 100%|██████████| 782/782 [00:05<00:00, 151.51it/s, loss=0.126]\n"
     ]
    },
    {
     "name": "stdout",
     "output_type": "stream",
     "text": [
      "Train accuracy: 85.22\n",
      "Dev accuracy: 87.21\n",
      "Epoch 10\n"
     ]
    },
    {
     "name": "stderr",
     "output_type": "stream",
     "text": [
      "Training: 100%|██████████| 782/782 [00:07<00:00, 100.28it/s, loss=0.132]\n"
     ]
    },
    {
     "name": "stdout",
     "output_type": "stream",
     "text": [
      "Train accuracy: 82.36\n",
      "Dev accuracy: 82.79\n",
      "Epoch 11\n"
     ]
    },
    {
     "name": "stderr",
     "output_type": "stream",
     "text": [
      "Training: 100%|██████████| 782/782 [00:04<00:00, 190.71it/s, loss=0.133]\n"
     ]
    },
    {
     "name": "stdout",
     "output_type": "stream",
     "text": [
      "Train accuracy: 80.61\n",
      "Dev accuracy: 82.69\n",
      "Epoch 12\n"
     ]
    },
    {
     "name": "stderr",
     "output_type": "stream",
     "text": [
      "Training: 100%|██████████| 782/782 [00:03<00:00, 217.46it/s, loss=0.141]\n"
     ]
    },
    {
     "name": "stdout",
     "output_type": "stream",
     "text": [
      "Train accuracy: 80.88\n",
      "Dev accuracy: 84.84\n",
      "Epoch 13\n"
     ]
    },
    {
     "name": "stderr",
     "output_type": "stream",
     "text": [
      "Training: 100%|██████████| 782/782 [00:02<00:00, 289.46it/s, loss=0.146]\n"
     ]
    },
    {
     "name": "stdout",
     "output_type": "stream",
     "text": [
      "Train accuracy: 83.61\n",
      "Dev accuracy: 88.44\n",
      "Epoch 14\n"
     ]
    },
    {
     "name": "stderr",
     "output_type": "stream",
     "text": [
      "Training: 100%|██████████| 782/782 [00:02<00:00, 264.82it/s, loss=0.148]\n"
     ]
    },
    {
     "name": "stdout",
     "output_type": "stream",
     "text": [
      "Train accuracy: 83.09\n",
      "Dev accuracy: 88.68\n",
      "Epoch 15\n"
     ]
    },
    {
     "name": "stderr",
     "output_type": "stream",
     "text": [
      "Training: 100%|██████████| 782/782 [00:02<00:00, 309.91it/s, loss=0.15] \n"
     ]
    },
    {
     "name": "stdout",
     "output_type": "stream",
     "text": [
      "Train accuracy: 85.65\n",
      "Dev accuracy: 88.61\n",
      "Epoch 16\n"
     ]
    },
    {
     "name": "stderr",
     "output_type": "stream",
     "text": [
      "Training: 100%|██████████| 782/782 [00:02<00:00, 300.03it/s, loss=0.155]\n"
     ]
    },
    {
     "name": "stdout",
     "output_type": "stream",
     "text": [
      "Train accuracy: 86.97\n",
      "Dev accuracy: 89.99\n",
      "Epoch 17\n"
     ]
    },
    {
     "name": "stderr",
     "output_type": "stream",
     "text": [
      "Training: 100%|██████████| 782/782 [00:03<00:00, 217.26it/s, loss=0.157]\n"
     ]
    },
    {
     "name": "stdout",
     "output_type": "stream",
     "text": [
      "Train accuracy: 77.83\n",
      "Dev accuracy: 82.29\n",
      "Epoch 18\n"
     ]
    },
    {
     "name": "stderr",
     "output_type": "stream",
     "text": [
      "Training: 100%|██████████| 782/782 [00:02<00:00, 343.74it/s, loss=0.162]\n"
     ]
    },
    {
     "name": "stdout",
     "output_type": "stream",
     "text": [
      "Train accuracy: 85.51\n",
      "Dev accuracy: 89.82\n",
      "Epoch 19\n"
     ]
    },
    {
     "name": "stderr",
     "output_type": "stream",
     "text": [
      "Training: 100%|██████████| 782/782 [00:02<00:00, 336.90it/s, loss=0.164]\n"
     ]
    },
    {
     "name": "stdout",
     "output_type": "stream",
     "text": [
      "Train accuracy: 81.12\n",
      "Dev accuracy: 85.53\n",
      "Epoch 20\n"
     ]
    },
    {
     "name": "stderr",
     "output_type": "stream",
     "text": [
      "Training: 100%|██████████| 782/782 [00:02<00:00, 362.71it/s, loss=0.168]\n"
     ]
    },
    {
     "name": "stdout",
     "output_type": "stream",
     "text": [
      "Train accuracy: 86.11\n",
      "Dev accuracy: 89.75\n",
      "Dev accuracy not improving for 3 epochs. Stopping.\n"
     ]
    },
    {
     "name": "stderr",
     "output_type": "stream",
     "text": [
      "/var/folders/91/2fbkbbgj7471rgv8k0yy0sn40000gn/T/ipykernel_26651/2411159783.py:30: FutureWarning: The frame.append method is deprecated and will be removed from pandas in a future version. Use pandas.concat instead.\n",
      "  df = df.append({\n"
     ]
    },
    {
     "name": "stdout",
     "output_type": "stream",
     "text": [
      "****************************************************************************************************\n",
      "Running with lr: 0.001, n_epochs: 5, batch_size: 4, lr_scheduler: cosine, patience_threshold: 3\n",
      "Epoch 1\n"
     ]
    },
    {
     "name": "stderr",
     "output_type": "stream",
     "text": [
      "Training: 100%|██████████| 12500/12500 [00:04<00:00, 2536.03it/s, loss=0.355]\n"
     ]
    },
    {
     "name": "stdout",
     "output_type": "stream",
     "text": [
      "Train accuracy: 91.91\n",
      "Dev accuracy: 93.28\n",
      "Epoch 2\n"
     ]
    },
    {
     "name": "stderr",
     "output_type": "stream",
     "text": [
      "Training: 100%|██████████| 12500/12500 [00:04<00:00, 2623.04it/s, loss=0.294]\n"
     ]
    },
    {
     "name": "stdout",
     "output_type": "stream",
     "text": [
      "Train accuracy: 92.65\n",
      "Dev accuracy: 92.92\n",
      "Epoch 3\n"
     ]
    },
    {
     "name": "stderr",
     "output_type": "stream",
     "text": [
      "Training: 100%|██████████| 12500/12500 [00:04<00:00, 2644.11it/s, loss=0.252]\n"
     ]
    },
    {
     "name": "stdout",
     "output_type": "stream",
     "text": [
      "Train accuracy: 95.34\n",
      "Dev accuracy: 95.20\n",
      "Epoch 4\n"
     ]
    },
    {
     "name": "stderr",
     "output_type": "stream",
     "text": [
      "Training: 100%|██████████| 12500/12500 [00:04<00:00, 2632.64it/s, loss=0.221]\n"
     ]
    },
    {
     "name": "stdout",
     "output_type": "stream",
     "text": [
      "Train accuracy: 96.90\n",
      "Dev accuracy: 96.76\n",
      "Epoch 5\n"
     ]
    },
    {
     "name": "stderr",
     "output_type": "stream",
     "text": [
      "Training: 100%|██████████| 12500/12500 [00:04<00:00, 2671.27it/s, loss=0.198]\n"
     ]
    },
    {
     "name": "stdout",
     "output_type": "stream",
     "text": [
      "Train accuracy: 97.10\n",
      "Dev accuracy: 96.60\n",
      "New best dev accuracy: 0.9676\n"
     ]
    },
    {
     "name": "stderr",
     "output_type": "stream",
     "text": [
      "/var/folders/91/2fbkbbgj7471rgv8k0yy0sn40000gn/T/ipykernel_26651/2411159783.py:30: FutureWarning: The frame.append method is deprecated and will be removed from pandas in a future version. Use pandas.concat instead.\n",
      "  df = df.append({\n"
     ]
    },
    {
     "name": "stdout",
     "output_type": "stream",
     "text": [
      "****************************************************************************************************\n",
      "Running with lr: 0.001, n_epochs: 5, batch_size: 4, lr_scheduler: no scheduler, patience_threshold: 3\n",
      "Epoch 1\n"
     ]
    },
    {
     "name": "stderr",
     "output_type": "stream",
     "text": [
      "Training: 100%|██████████| 12500/12500 [00:04<00:00, 2530.01it/s, loss=0.379]\n"
     ]
    },
    {
     "name": "stdout",
     "output_type": "stream",
     "text": [
      "Train accuracy: 90.74\n",
      "Dev accuracy: 91.64\n",
      "Epoch 2\n"
     ]
    },
    {
     "name": "stderr",
     "output_type": "stream",
     "text": [
      "Training: 100%|██████████| 12500/12500 [00:04<00:00, 2582.38it/s, loss=0.31] \n"
     ]
    },
    {
     "name": "stdout",
     "output_type": "stream",
     "text": [
      "Train accuracy: 92.70\n",
      "Dev accuracy: 93.00\n",
      "Epoch 3\n"
     ]
    },
    {
     "name": "stderr",
     "output_type": "stream",
     "text": [
      "Training: 100%|██████████| 12500/12500 [00:04<00:00, 2688.74it/s, loss=0.269]\n"
     ]
    },
    {
     "name": "stdout",
     "output_type": "stream",
     "text": [
      "Train accuracy: 93.58\n",
      "Dev accuracy: 94.20\n",
      "Epoch 4\n"
     ]
    },
    {
     "name": "stderr",
     "output_type": "stream",
     "text": [
      "Training: 100%|██████████| 12500/12500 [00:04<00:00, 2721.15it/s, loss=0.248]\n"
     ]
    },
    {
     "name": "stdout",
     "output_type": "stream",
     "text": [
      "Train accuracy: 94.71\n",
      "Dev accuracy: 94.60\n",
      "Epoch 5\n"
     ]
    },
    {
     "name": "stderr",
     "output_type": "stream",
     "text": [
      "Training: 100%|██████████| 12500/12500 [00:04<00:00, 2790.62it/s, loss=0.233]\n"
     ]
    },
    {
     "name": "stdout",
     "output_type": "stream",
     "text": [
      "Train accuracy: 95.20\n",
      "Dev accuracy: 95.92\n"
     ]
    },
    {
     "name": "stderr",
     "output_type": "stream",
     "text": [
      "/var/folders/91/2fbkbbgj7471rgv8k0yy0sn40000gn/T/ipykernel_26651/2411159783.py:30: FutureWarning: The frame.append method is deprecated and will be removed from pandas in a future version. Use pandas.concat instead.\n",
      "  df = df.append({\n"
     ]
    },
    {
     "name": "stdout",
     "output_type": "stream",
     "text": [
      "****************************************************************************************************\n",
      "Running with lr: 0.001, n_epochs: 5, batch_size: 16, lr_scheduler: cosine, patience_threshold: 3\n",
      "Epoch 1\n"
     ]
    },
    {
     "name": "stderr",
     "output_type": "stream",
     "text": [
      "Training: 100%|██████████| 3125/3125 [00:07<00:00, 432.72it/s, loss=0.289]\n"
     ]
    },
    {
     "name": "stdout",
     "output_type": "stream",
     "text": [
      "Train accuracy: 87.70\n",
      "Dev accuracy: 87.84\n",
      "Epoch 2\n"
     ]
    },
    {
     "name": "stderr",
     "output_type": "stream",
     "text": [
      "Training: 100%|██████████| 3125/3125 [00:06<00:00, 514.99it/s, loss=0.229]\n"
     ]
    },
    {
     "name": "stdout",
     "output_type": "stream",
     "text": [
      "Train accuracy: 91.54\n",
      "Dev accuracy: 90.05\n",
      "Epoch 3\n"
     ]
    },
    {
     "name": "stderr",
     "output_type": "stream",
     "text": [
      "Training: 100%|██████████| 3125/3125 [00:06<00:00, 510.96it/s, loss=0.202]\n"
     ]
    },
    {
     "name": "stdout",
     "output_type": "stream",
     "text": [
      "Train accuracy: 92.84\n",
      "Dev accuracy: 93.42\n",
      "Epoch 4\n"
     ]
    },
    {
     "name": "stderr",
     "output_type": "stream",
     "text": [
      "Training: 100%|██████████| 3125/3125 [00:06<00:00, 473.03it/s, loss=0.191]\n"
     ]
    },
    {
     "name": "stdout",
     "output_type": "stream",
     "text": [
      "Train accuracy: 94.46\n",
      "Dev accuracy: 95.21\n",
      "Epoch 5\n"
     ]
    },
    {
     "name": "stderr",
     "output_type": "stream",
     "text": [
      "Training: 100%|██████████| 3125/3125 [00:06<00:00, 474.92it/s, loss=0.186]\n"
     ]
    },
    {
     "name": "stdout",
     "output_type": "stream",
     "text": [
      "Train accuracy: 95.15\n"
     ]
    },
    {
     "name": "stderr",
     "output_type": "stream",
     "text": [
      "/var/folders/91/2fbkbbgj7471rgv8k0yy0sn40000gn/T/ipykernel_26651/2411159783.py:30: FutureWarning: The frame.append method is deprecated and will be removed from pandas in a future version. Use pandas.concat instead.\n",
      "  df = df.append({\n"
     ]
    },
    {
     "name": "stdout",
     "output_type": "stream",
     "text": [
      "Dev accuracy: 96.00\n",
      "****************************************************************************************************\n",
      "Running with lr: 0.001, n_epochs: 5, batch_size: 16, lr_scheduler: no scheduler, patience_threshold: 3\n",
      "Epoch 1\n"
     ]
    },
    {
     "name": "stderr",
     "output_type": "stream",
     "text": [
      "Training: 100%|██████████| 3125/3125 [00:06<00:00, 498.48it/s, loss=0.261]\n"
     ]
    },
    {
     "name": "stdout",
     "output_type": "stream",
     "text": [
      "Train accuracy: 86.62\n",
      "Dev accuracy: 88.80\n",
      "Epoch 2\n"
     ]
    },
    {
     "name": "stderr",
     "output_type": "stream",
     "text": [
      "Training: 100%|██████████| 3125/3125 [00:09<00:00, 335.80it/s, loss=0.215]\n"
     ]
    },
    {
     "name": "stdout",
     "output_type": "stream",
     "text": [
      "Train accuracy: 90.89\n",
      "Dev accuracy: 92.59\n",
      "Epoch 3\n"
     ]
    },
    {
     "name": "stderr",
     "output_type": "stream",
     "text": [
      "Training: 100%|██████████| 3125/3125 [00:10<00:00, 286.97it/s, loss=0.187]\n"
     ]
    },
    {
     "name": "stdout",
     "output_type": "stream",
     "text": [
      "Train accuracy: 88.05\n",
      "Dev accuracy: 89.56\n",
      "Epoch 4\n"
     ]
    },
    {
     "name": "stderr",
     "output_type": "stream",
     "text": [
      "Training: 100%|██████████| 3125/3125 [00:06<00:00, 446.89it/s, loss=0.167]\n"
     ]
    },
    {
     "name": "stdout",
     "output_type": "stream",
     "text": [
      "Train accuracy: 91.67\n",
      "Dev accuracy: 92.00\n",
      "Epoch 5\n"
     ]
    },
    {
     "name": "stderr",
     "output_type": "stream",
     "text": [
      "Training: 100%|██████████| 3125/3125 [00:06<00:00, 451.00it/s, loss=0.162]\n"
     ]
    },
    {
     "name": "stdout",
     "output_type": "stream",
     "text": [
      "Train accuracy: 91.34\n",
      "Dev accuracy: 92.07\n"
     ]
    },
    {
     "name": "stderr",
     "output_type": "stream",
     "text": [
      "/var/folders/91/2fbkbbgj7471rgv8k0yy0sn40000gn/T/ipykernel_26651/2411159783.py:30: FutureWarning: The frame.append method is deprecated and will be removed from pandas in a future version. Use pandas.concat instead.\n",
      "  df = df.append({\n"
     ]
    },
    {
     "name": "stdout",
     "output_type": "stream",
     "text": [
      "****************************************************************************************************\n",
      "Running with lr: 0.001, n_epochs: 5, batch_size: 64, lr_scheduler: cosine, patience_threshold: 3\n",
      "Epoch 1\n"
     ]
    },
    {
     "name": "stderr",
     "output_type": "stream",
     "text": [
      "Training: 100%|██████████| 782/782 [00:07<00:00, 103.63it/s, loss=0.184]\n"
     ]
    },
    {
     "name": "stdout",
     "output_type": "stream",
     "text": [
      "Train accuracy: 84.65\n",
      "Dev accuracy: 89.00\n",
      "Epoch 2\n"
     ]
    },
    {
     "name": "stderr",
     "output_type": "stream",
     "text": [
      "Training: 100%|██████████| 782/782 [00:02<00:00, 327.57it/s, loss=0.123]\n"
     ]
    },
    {
     "name": "stdout",
     "output_type": "stream",
     "text": [
      "Train accuracy: 86.77\n",
      "Dev accuracy: 92.65\n",
      "Epoch 3\n"
     ]
    },
    {
     "name": "stderr",
     "output_type": "stream",
     "text": [
      "Training: 100%|██████████| 782/782 [00:02<00:00, 390.72it/s, loss=0.106]\n"
     ]
    },
    {
     "name": "stdout",
     "output_type": "stream",
     "text": [
      "Train accuracy: 89.46\n",
      "Dev accuracy: 92.95\n",
      "Epoch 4\n"
     ]
    },
    {
     "name": "stderr",
     "output_type": "stream",
     "text": [
      "Training: 100%|██████████| 782/782 [00:02<00:00, 330.24it/s, loss=0.1]   \n"
     ]
    },
    {
     "name": "stdout",
     "output_type": "stream",
     "text": [
      "Train accuracy: 90.02\n",
      "Dev accuracy: 93.01\n",
      "Epoch 5\n"
     ]
    },
    {
     "name": "stderr",
     "output_type": "stream",
     "text": [
      "Training: 100%|██████████| 782/782 [00:03<00:00, 227.90it/s, loss=0.121]\n"
     ]
    },
    {
     "name": "stdout",
     "output_type": "stream",
     "text": [
      "Train accuracy: 91.31\n",
      "Dev accuracy: 95.67\n"
     ]
    },
    {
     "name": "stderr",
     "output_type": "stream",
     "text": [
      "/var/folders/91/2fbkbbgj7471rgv8k0yy0sn40000gn/T/ipykernel_26651/2411159783.py:30: FutureWarning: The frame.append method is deprecated and will be removed from pandas in a future version. Use pandas.concat instead.\n",
      "  df = df.append({\n"
     ]
    },
    {
     "name": "stdout",
     "output_type": "stream",
     "text": [
      "****************************************************************************************************\n",
      "Running with lr: 0.001, n_epochs: 5, batch_size: 64, lr_scheduler: no scheduler, patience_threshold: 3\n",
      "Epoch 1\n"
     ]
    },
    {
     "name": "stderr",
     "output_type": "stream",
     "text": [
      "Training: 100%|██████████| 782/782 [00:03<00:00, 243.58it/s, loss=0.191]\n"
     ]
    },
    {
     "name": "stdout",
     "output_type": "stream",
     "text": [
      "Train accuracy: 83.13\n",
      "Dev accuracy: 87.06\n",
      "Epoch 2\n"
     ]
    },
    {
     "name": "stderr",
     "output_type": "stream",
     "text": [
      "Training: 100%|██████████| 782/782 [00:02<00:00, 277.01it/s, loss=0.126]\n"
     ]
    },
    {
     "name": "stdout",
     "output_type": "stream",
     "text": [
      "Train accuracy: 87.59\n",
      "Dev accuracy: 92.51\n",
      "Epoch 3\n"
     ]
    },
    {
     "name": "stderr",
     "output_type": "stream",
     "text": [
      "Training: 100%|██████████| 782/782 [00:02<00:00, 289.35it/s, loss=0.102]\n"
     ]
    },
    {
     "name": "stdout",
     "output_type": "stream",
     "text": [
      "Train accuracy: 89.41\n",
      "Dev accuracy: 91.09\n",
      "Epoch 4\n"
     ]
    },
    {
     "name": "stderr",
     "output_type": "stream",
     "text": [
      "Training: 100%|██████████| 782/782 [00:02<00:00, 301.17it/s, loss=0.0873]\n"
     ]
    },
    {
     "name": "stdout",
     "output_type": "stream",
     "text": [
      "Train accuracy: 88.21\n",
      "Dev accuracy: 87.23\n",
      "Epoch 5\n"
     ]
    },
    {
     "name": "stderr",
     "output_type": "stream",
     "text": [
      "Training: 100%|██████████| 782/782 [00:02<00:00, 326.81it/s, loss=0.078] \n"
     ]
    },
    {
     "name": "stdout",
     "output_type": "stream",
     "text": [
      "Train accuracy: 88.15\n",
      "Dev accuracy: 91.29\n"
     ]
    },
    {
     "name": "stderr",
     "output_type": "stream",
     "text": [
      "/var/folders/91/2fbkbbgj7471rgv8k0yy0sn40000gn/T/ipykernel_26651/2411159783.py:30: FutureWarning: The frame.append method is deprecated and will be removed from pandas in a future version. Use pandas.concat instead.\n",
      "  df = df.append({\n"
     ]
    },
    {
     "name": "stdout",
     "output_type": "stream",
     "text": [
      "****************************************************************************************************\n",
      "Running with lr: 0.001, n_epochs: 10, batch_size: 4, lr_scheduler: cosine, patience_threshold: 3\n",
      "Epoch 1\n"
     ]
    },
    {
     "name": "stderr",
     "output_type": "stream",
     "text": [
      "Training: 100%|██████████| 12500/12500 [00:05<00:00, 2429.97it/s, loss=0.381]\n"
     ]
    },
    {
     "name": "stdout",
     "output_type": "stream",
     "text": [
      "Train accuracy: 92.58\n",
      "Dev accuracy: 93.52\n",
      "Epoch 2\n"
     ]
    },
    {
     "name": "stderr",
     "output_type": "stream",
     "text": [
      "Training: 100%|██████████| 12500/12500 [00:04<00:00, 2549.27it/s, loss=0.291]\n"
     ]
    },
    {
     "name": "stdout",
     "output_type": "stream",
     "text": [
      "Train accuracy: 93.71\n",
      "Dev accuracy: 94.20\n",
      "Epoch 3\n"
     ]
    },
    {
     "name": "stderr",
     "output_type": "stream",
     "text": [
      "Training: 100%|██████████| 12500/12500 [00:04<00:00, 2605.00it/s, loss=0.254]\n"
     ]
    },
    {
     "name": "stdout",
     "output_type": "stream",
     "text": [
      "Train accuracy: 93.57\n",
      "Dev accuracy: 93.40\n",
      "Epoch 4\n"
     ]
    },
    {
     "name": "stderr",
     "output_type": "stream",
     "text": [
      "Training: 100%|██████████| 12500/12500 [00:04<00:00, 2514.18it/s, loss=0.228]\n"
     ]
    },
    {
     "name": "stdout",
     "output_type": "stream",
     "text": [
      "Train accuracy: 95.69\n",
      "Dev accuracy: 95.20\n",
      "Epoch 5\n"
     ]
    },
    {
     "name": "stderr",
     "output_type": "stream",
     "text": [
      "Training: 100%|██████████| 12500/12500 [00:04<00:00, 2572.22it/s, loss=0.21] \n"
     ]
    },
    {
     "name": "stdout",
     "output_type": "stream",
     "text": [
      "Train accuracy: 96.67\n",
      "Dev accuracy: 96.04\n",
      "Epoch 6\n"
     ]
    },
    {
     "name": "stderr",
     "output_type": "stream",
     "text": [
      "Training: 100%|██████████| 12500/12500 [00:04<00:00, 2601.94it/s, loss=0.195]\n"
     ]
    },
    {
     "name": "stdout",
     "output_type": "stream",
     "text": [
      "Train accuracy: 96.96\n",
      "Dev accuracy: 96.36\n",
      "Epoch 7\n"
     ]
    },
    {
     "name": "stderr",
     "output_type": "stream",
     "text": [
      "Training: 100%|██████████| 12500/12500 [00:04<00:00, 2574.01it/s, loss=0.181]\n"
     ]
    },
    {
     "name": "stdout",
     "output_type": "stream",
     "text": [
      "Train accuracy: 97.50\n",
      "Dev accuracy: 96.84\n",
      "Epoch 8\n"
     ]
    },
    {
     "name": "stderr",
     "output_type": "stream",
     "text": [
      "Training: 100%|██████████| 12500/12500 [00:04<00:00, 2702.57it/s, loss=0.17] \n"
     ]
    },
    {
     "name": "stdout",
     "output_type": "stream",
     "text": [
      "Train accuracy: 97.95\n",
      "Dev accuracy: 97.12\n",
      "Epoch 9\n"
     ]
    },
    {
     "name": "stderr",
     "output_type": "stream",
     "text": [
      "Training: 100%|██████████| 12500/12500 [00:04<00:00, 2729.86it/s, loss=0.161]\n"
     ]
    },
    {
     "name": "stdout",
     "output_type": "stream",
     "text": [
      "Train accuracy: 98.14\n",
      "Dev accuracy: 97.24\n",
      "Epoch 10\n"
     ]
    },
    {
     "name": "stderr",
     "output_type": "stream",
     "text": [
      "Training: 100%|██████████| 12500/12500 [00:04<00:00, 2653.63it/s, loss=0.152]\n"
     ]
    },
    {
     "name": "stdout",
     "output_type": "stream",
     "text": [
      "Train accuracy: 98.12\n",
      "Dev accuracy: 97.32\n",
      "New best dev accuracy: 0.9732\n"
     ]
    },
    {
     "name": "stderr",
     "output_type": "stream",
     "text": [
      "/var/folders/91/2fbkbbgj7471rgv8k0yy0sn40000gn/T/ipykernel_26651/2411159783.py:30: FutureWarning: The frame.append method is deprecated and will be removed from pandas in a future version. Use pandas.concat instead.\n",
      "  df = df.append({\n"
     ]
    },
    {
     "name": "stdout",
     "output_type": "stream",
     "text": [
      "****************************************************************************************************\n",
      "Running with lr: 0.001, n_epochs: 10, batch_size: 4, lr_scheduler: no scheduler, patience_threshold: 3\n",
      "Epoch 1\n"
     ]
    },
    {
     "name": "stderr",
     "output_type": "stream",
     "text": [
      "Training: 100%|██████████| 12500/12500 [00:04<00:00, 2747.18it/s, loss=0.358]\n"
     ]
    },
    {
     "name": "stdout",
     "output_type": "stream",
     "text": [
      "Train accuracy: 88.09\n",
      "Dev accuracy: 89.56\n",
      "Epoch 2\n"
     ]
    },
    {
     "name": "stderr",
     "output_type": "stream",
     "text": [
      "Training: 100%|██████████| 12500/12500 [00:04<00:00, 2607.41it/s, loss=0.289]\n"
     ]
    },
    {
     "name": "stdout",
     "output_type": "stream",
     "text": [
      "Train accuracy: 93.70\n",
      "Dev accuracy: 93.25\n",
      "Epoch 3\n"
     ]
    },
    {
     "name": "stderr",
     "output_type": "stream",
     "text": [
      "Training: 100%|██████████| 12500/12500 [00:04<00:00, 2825.49it/s, loss=0.257]\n"
     ]
    },
    {
     "name": "stdout",
     "output_type": "stream",
     "text": [
      "Train accuracy: 94.02\n",
      "Dev accuracy: 93.76\n",
      "Epoch 4\n"
     ]
    },
    {
     "name": "stderr",
     "output_type": "stream",
     "text": [
      "Training: 100%|██████████| 12500/12500 [00:04<00:00, 2826.67it/s, loss=0.236]\n"
     ]
    },
    {
     "name": "stdout",
     "output_type": "stream",
     "text": [
      "Train accuracy: 94.38\n",
      "Dev accuracy: 94.96\n",
      "Epoch 5\n"
     ]
    },
    {
     "name": "stderr",
     "output_type": "stream",
     "text": [
      "Training: 100%|██████████| 12500/12500 [00:04<00:00, 2633.48it/s, loss=0.22] \n"
     ]
    },
    {
     "name": "stdout",
     "output_type": "stream",
     "text": [
      "Train accuracy: 94.96\n",
      "Dev accuracy: 94.80\n",
      "Epoch 6\n"
     ]
    },
    {
     "name": "stderr",
     "output_type": "stream",
     "text": [
      "Training: 100%|██████████| 12500/12500 [00:04<00:00, 2704.70it/s, loss=0.208]\n"
     ]
    },
    {
     "name": "stdout",
     "output_type": "stream",
     "text": [
      "Train accuracy: 95.14\n",
      "Dev accuracy: 94.88\n",
      "Epoch 7\n"
     ]
    },
    {
     "name": "stderr",
     "output_type": "stream",
     "text": [
      "Training: 100%|██████████| 12500/12500 [00:04<00:00, 2775.96it/s, loss=0.201]\n"
     ]
    },
    {
     "name": "stdout",
     "output_type": "stream",
     "text": [
      "Train accuracy: 95.41\n",
      "Dev accuracy: 95.13\n",
      "Epoch 8\n"
     ]
    },
    {
     "name": "stderr",
     "output_type": "stream",
     "text": [
      "Training: 100%|██████████| 12500/12500 [00:04<00:00, 2851.74it/s, loss=0.195]\n"
     ]
    },
    {
     "name": "stdout",
     "output_type": "stream",
     "text": [
      "Train accuracy: 94.43\n",
      "Dev accuracy: 94.40\n",
      "Epoch 9\n"
     ]
    },
    {
     "name": "stderr",
     "output_type": "stream",
     "text": [
      "Training: 100%|██████████| 12500/12500 [00:04<00:00, 2734.70it/s, loss=0.188]\n"
     ]
    },
    {
     "name": "stdout",
     "output_type": "stream",
     "text": [
      "Train accuracy: 96.14\n",
      "Dev accuracy: 95.64\n",
      "Epoch 10\n"
     ]
    },
    {
     "name": "stderr",
     "output_type": "stream",
     "text": [
      "Training: 100%|██████████| 12500/12500 [00:04<00:00, 2907.46it/s, loss=0.183]\n"
     ]
    },
    {
     "name": "stdout",
     "output_type": "stream",
     "text": [
      "Train accuracy: 94.99\n",
      "Dev accuracy: 94.60\n"
     ]
    },
    {
     "name": "stderr",
     "output_type": "stream",
     "text": [
      "/var/folders/91/2fbkbbgj7471rgv8k0yy0sn40000gn/T/ipykernel_26651/2411159783.py:30: FutureWarning: The frame.append method is deprecated and will be removed from pandas in a future version. Use pandas.concat instead.\n",
      "  df = df.append({\n"
     ]
    },
    {
     "name": "stdout",
     "output_type": "stream",
     "text": [
      "****************************************************************************************************\n",
      "Running with lr: 0.001, n_epochs: 10, batch_size: 16, lr_scheduler: cosine, patience_threshold: 3\n",
      "Epoch 1\n"
     ]
    },
    {
     "name": "stderr",
     "output_type": "stream",
     "text": [
      "Training: 100%|██████████| 3125/3125 [00:06<00:00, 462.11it/s, loss=0.269]\n"
     ]
    },
    {
     "name": "stdout",
     "output_type": "stream",
     "text": [
      "Train accuracy: 85.35\n",
      "Dev accuracy: 87.77\n",
      "Epoch 2\n"
     ]
    },
    {
     "name": "stderr",
     "output_type": "stream",
     "text": [
      "Training: 100%|██████████| 3125/3125 [00:06<00:00, 494.57it/s, loss=0.208]\n"
     ]
    },
    {
     "name": "stdout",
     "output_type": "stream",
     "text": [
      "Train accuracy: 87.43\n",
      "Dev accuracy: 89.59\n",
      "Epoch 3\n"
     ]
    },
    {
     "name": "stderr",
     "output_type": "stream",
     "text": [
      "Training: 100%|██████████| 3125/3125 [00:06<00:00, 479.67it/s, loss=0.184]\n"
     ]
    },
    {
     "name": "stdout",
     "output_type": "stream",
     "text": [
      "Train accuracy: 90.47\n",
      "Dev accuracy: 91.09\n",
      "Epoch 4\n"
     ]
    },
    {
     "name": "stderr",
     "output_type": "stream",
     "text": [
      "Training: 100%|██████████| 3125/3125 [00:07<00:00, 409.41it/s, loss=0.177]\n"
     ]
    },
    {
     "name": "stdout",
     "output_type": "stream",
     "text": [
      "Train accuracy: 91.37\n",
      "Dev accuracy: 90.72\n",
      "Epoch 5\n"
     ]
    },
    {
     "name": "stderr",
     "output_type": "stream",
     "text": [
      "Training: 100%|██████████| 3125/3125 [00:06<00:00, 461.22it/s, loss=0.17] \n"
     ]
    },
    {
     "name": "stdout",
     "output_type": "stream",
     "text": [
      "Train accuracy: 93.56\n",
      "Dev accuracy: 92.93\n",
      "Epoch 6\n"
     ]
    },
    {
     "name": "stderr",
     "output_type": "stream",
     "text": [
      "Training: 100%|██████████| 3125/3125 [00:07<00:00, 441.80it/s, loss=0.161]\n"
     ]
    },
    {
     "name": "stdout",
     "output_type": "stream",
     "text": [
      "Train accuracy: 93.34\n",
      "Dev accuracy: 94.33\n",
      "Epoch 7\n"
     ]
    },
    {
     "name": "stderr",
     "output_type": "stream",
     "text": [
      "Training: 100%|██████████| 3125/3125 [00:06<00:00, 478.66it/s, loss=0.155]\n"
     ]
    },
    {
     "name": "stdout",
     "output_type": "stream",
     "text": [
      "Train accuracy: 94.39\n",
      "Dev accuracy: 94.86\n",
      "Epoch 8\n"
     ]
    },
    {
     "name": "stderr",
     "output_type": "stream",
     "text": [
      "Training: 100%|██████████| 3125/3125 [00:07<00:00, 444.50it/s, loss=0.152]\n"
     ]
    },
    {
     "name": "stdout",
     "output_type": "stream",
     "text": [
      "Train accuracy: 96.26\n",
      "Dev accuracy: 95.98\n",
      "Epoch 9\n"
     ]
    },
    {
     "name": "stderr",
     "output_type": "stream",
     "text": [
      "Training: 100%|██████████| 3125/3125 [00:06<00:00, 482.58it/s, loss=0.15] \n"
     ]
    },
    {
     "name": "stdout",
     "output_type": "stream",
     "text": [
      "Train accuracy: 96.51\n",
      "Dev accuracy: 97.12\n",
      "Epoch 10\n"
     ]
    },
    {
     "name": "stderr",
     "output_type": "stream",
     "text": [
      "Training: 100%|██████████| 3125/3125 [00:06<00:00, 471.55it/s, loss=0.149]\n"
     ]
    },
    {
     "name": "stdout",
     "output_type": "stream",
     "text": [
      "Train accuracy: 96.80\n",
      "Dev accuracy: 96.64\n"
     ]
    },
    {
     "name": "stderr",
     "output_type": "stream",
     "text": [
      "/var/folders/91/2fbkbbgj7471rgv8k0yy0sn40000gn/T/ipykernel_26651/2411159783.py:30: FutureWarning: The frame.append method is deprecated and will be removed from pandas in a future version. Use pandas.concat instead.\n",
      "  df = df.append({\n"
     ]
    },
    {
     "name": "stdout",
     "output_type": "stream",
     "text": [
      "****************************************************************************************************\n",
      "Running with lr: 0.001, n_epochs: 10, batch_size: 16, lr_scheduler: no scheduler, patience_threshold: 3\n",
      "Epoch 1\n"
     ]
    },
    {
     "name": "stderr",
     "output_type": "stream",
     "text": [
      "Training: 100%|██████████| 3125/3125 [00:06<00:00, 488.42it/s, loss=0.263]\n"
     ]
    },
    {
     "name": "stdout",
     "output_type": "stream",
     "text": [
      "Train accuracy: 86.10\n",
      "Dev accuracy: 88.07\n",
      "Epoch 2\n"
     ]
    },
    {
     "name": "stderr",
     "output_type": "stream",
     "text": [
      "Training: 100%|██████████| 3125/3125 [00:06<00:00, 462.92it/s, loss=0.203]\n"
     ]
    },
    {
     "name": "stdout",
     "output_type": "stream",
     "text": [
      "Train accuracy: 89.80\n",
      "Dev accuracy: 91.59\n",
      "Epoch 3\n"
     ]
    },
    {
     "name": "stderr",
     "output_type": "stream",
     "text": [
      "Training: 100%|██████████| 3125/3125 [00:06<00:00, 494.87it/s, loss=0.182]\n"
     ]
    },
    {
     "name": "stdout",
     "output_type": "stream",
     "text": [
      "Train accuracy: 91.21\n",
      "Dev accuracy: 92.78\n",
      "Epoch 4\n"
     ]
    },
    {
     "name": "stderr",
     "output_type": "stream",
     "text": [
      "Training: 100%|██████████| 3125/3125 [00:05<00:00, 527.81it/s, loss=0.165]\n"
     ]
    },
    {
     "name": "stdout",
     "output_type": "stream",
     "text": [
      "Train accuracy: 91.15\n",
      "Dev accuracy: 90.38\n",
      "Epoch 5\n"
     ]
    },
    {
     "name": "stderr",
     "output_type": "stream",
     "text": [
      "Training: 100%|██████████| 3125/3125 [00:05<00:00, 541.25it/s, loss=0.152]\n"
     ]
    },
    {
     "name": "stdout",
     "output_type": "stream",
     "text": [
      "Train accuracy: 93.35\n",
      "Dev accuracy: 93.35\n",
      "Epoch 6\n"
     ]
    },
    {
     "name": "stderr",
     "output_type": "stream",
     "text": [
      "Training: 100%|██████████| 3125/3125 [00:06<00:00, 508.85it/s, loss=0.147]\n"
     ]
    },
    {
     "name": "stdout",
     "output_type": "stream",
     "text": [
      "Train accuracy: 91.39\n",
      "Dev accuracy: 92.94\n",
      "Epoch 7\n"
     ]
    },
    {
     "name": "stderr",
     "output_type": "stream",
     "text": [
      "Training: 100%|██████████| 3125/3125 [00:05<00:00, 543.83it/s, loss=0.142]\n"
     ]
    },
    {
     "name": "stdout",
     "output_type": "stream",
     "text": [
      "Train accuracy: 91.27\n",
      "Dev accuracy: 92.85\n",
      "Epoch 8\n"
     ]
    },
    {
     "name": "stderr",
     "output_type": "stream",
     "text": [
      "Training: 100%|██████████| 3125/3125 [00:06<00:00, 512.34it/s, loss=0.136]\n"
     ]
    },
    {
     "name": "stdout",
     "output_type": "stream",
     "text": [
      "Train accuracy: 93.45\n",
      "Dev accuracy: 94.47\n",
      "Epoch 9\n"
     ]
    },
    {
     "name": "stderr",
     "output_type": "stream",
     "text": [
      "Training: 100%|██████████| 3125/3125 [00:06<00:00, 502.54it/s, loss=0.131]\n"
     ]
    },
    {
     "name": "stdout",
     "output_type": "stream",
     "text": [
      "Train accuracy: 91.78\n",
      "Dev accuracy: 93.03\n",
      "Epoch 10\n"
     ]
    },
    {
     "name": "stderr",
     "output_type": "stream",
     "text": [
      "Training: 100%|██████████| 3125/3125 [00:06<00:00, 452.02it/s, loss=0.129]\n"
     ]
    },
    {
     "name": "stdout",
     "output_type": "stream",
     "text": [
      "Train accuracy: 93.89\n",
      "Dev accuracy: 95.04\n"
     ]
    },
    {
     "name": "stderr",
     "output_type": "stream",
     "text": [
      "/var/folders/91/2fbkbbgj7471rgv8k0yy0sn40000gn/T/ipykernel_26651/2411159783.py:30: FutureWarning: The frame.append method is deprecated and will be removed from pandas in a future version. Use pandas.concat instead.\n",
      "  df = df.append({\n"
     ]
    },
    {
     "name": "stdout",
     "output_type": "stream",
     "text": [
      "****************************************************************************************************\n",
      "Running with lr: 0.001, n_epochs: 10, batch_size: 64, lr_scheduler: cosine, patience_threshold: 3\n",
      "Epoch 1\n"
     ]
    },
    {
     "name": "stderr",
     "output_type": "stream",
     "text": [
      "Training: 100%|██████████| 782/782 [00:02<00:00, 363.36it/s, loss=0.189]\n"
     ]
    },
    {
     "name": "stdout",
     "output_type": "stream",
     "text": [
      "Train accuracy: 87.70\n",
      "Dev accuracy: 90.94\n",
      "Epoch 2\n"
     ]
    },
    {
     "name": "stderr",
     "output_type": "stream",
     "text": [
      "Training: 100%|██████████| 782/782 [00:01<00:00, 399.45it/s, loss=0.125]\n"
     ]
    },
    {
     "name": "stdout",
     "output_type": "stream",
     "text": [
      "Train accuracy: 87.18\n",
      "Dev accuracy: 88.14\n",
      "Epoch 3\n"
     ]
    },
    {
     "name": "stderr",
     "output_type": "stream",
     "text": [
      "Training: 100%|██████████| 782/782 [00:01<00:00, 431.10it/s, loss=0.104]\n"
     ]
    },
    {
     "name": "stdout",
     "output_type": "stream",
     "text": [
      "Train accuracy: 86.45\n",
      "Dev accuracy: 89.38\n",
      "Epoch 4\n"
     ]
    },
    {
     "name": "stderr",
     "output_type": "stream",
     "text": [
      "Training: 100%|██████████| 782/782 [00:01<00:00, 427.02it/s, loss=0.0909]\n"
     ]
    },
    {
     "name": "stdout",
     "output_type": "stream",
     "text": [
      "Train accuracy: 89.59\n",
      "Dev accuracy: 91.12\n",
      "Epoch 5\n"
     ]
    },
    {
     "name": "stderr",
     "output_type": "stream",
     "text": [
      "Training: 100%|██████████| 782/782 [00:01<00:00, 437.20it/s, loss=0.0824]\n"
     ]
    },
    {
     "name": "stdout",
     "output_type": "stream",
     "text": [
      "Train accuracy: 88.88\n",
      "Dev accuracy: 90.53\n",
      "Epoch 6\n"
     ]
    },
    {
     "name": "stderr",
     "output_type": "stream",
     "text": [
      "Training: 100%|██████████| 782/782 [00:01<00:00, 448.11it/s, loss=0.0778]\n"
     ]
    },
    {
     "name": "stdout",
     "output_type": "stream",
     "text": [
      "Train accuracy: 92.35\n",
      "Dev accuracy: 93.58\n",
      "Epoch 7\n"
     ]
    },
    {
     "name": "stderr",
     "output_type": "stream",
     "text": [
      "Training: 100%|██████████| 782/782 [00:01<00:00, 399.46it/s, loss=0.0733]\n"
     ]
    },
    {
     "name": "stdout",
     "output_type": "stream",
     "text": [
      "Train accuracy: 91.05\n",
      "Dev accuracy: 93.77\n",
      "Epoch 8\n"
     ]
    },
    {
     "name": "stderr",
     "output_type": "stream",
     "text": [
      "Training: 100%|██████████| 782/782 [00:01<00:00, 445.28it/s, loss=0.074] \n"
     ]
    },
    {
     "name": "stdout",
     "output_type": "stream",
     "text": [
      "Train accuracy: 91.90\n",
      "Dev accuracy: 94.76\n",
      "Epoch 9\n"
     ]
    },
    {
     "name": "stderr",
     "output_type": "stream",
     "text": [
      "Training: 100%|██████████| 782/782 [00:01<00:00, 427.54it/s, loss=0.0807]\n"
     ]
    },
    {
     "name": "stdout",
     "output_type": "stream",
     "text": [
      "Train accuracy: 91.53\n",
      "Dev accuracy: 94.77\n",
      "Epoch 10\n"
     ]
    },
    {
     "name": "stderr",
     "output_type": "stream",
     "text": [
      "Training: 100%|██████████| 782/782 [00:01<00:00, 407.46it/s, loss=0.0929]\n"
     ]
    },
    {
     "name": "stdout",
     "output_type": "stream",
     "text": [
      "Train accuracy: 92.88\n",
      "Dev accuracy: 96.30\n"
     ]
    },
    {
     "name": "stderr",
     "output_type": "stream",
     "text": [
      "/var/folders/91/2fbkbbgj7471rgv8k0yy0sn40000gn/T/ipykernel_26651/2411159783.py:30: FutureWarning: The frame.append method is deprecated and will be removed from pandas in a future version. Use pandas.concat instead.\n",
      "  df = df.append({\n"
     ]
    },
    {
     "name": "stdout",
     "output_type": "stream",
     "text": [
      "****************************************************************************************************\n",
      "Running with lr: 0.001, n_epochs: 10, batch_size: 64, lr_scheduler: no scheduler, patience_threshold: 3\n",
      "Epoch 1\n"
     ]
    },
    {
     "name": "stderr",
     "output_type": "stream",
     "text": [
      "Training: 100%|██████████| 782/782 [00:01<00:00, 430.39it/s, loss=0.21] \n"
     ]
    },
    {
     "name": "stdout",
     "output_type": "stream",
     "text": [
      "Train accuracy: 81.50\n",
      "Dev accuracy: 85.37\n",
      "Epoch 2\n"
     ]
    },
    {
     "name": "stderr",
     "output_type": "stream",
     "text": [
      "Training: 100%|██████████| 782/782 [00:01<00:00, 422.15it/s, loss=0.133]\n"
     ]
    },
    {
     "name": "stdout",
     "output_type": "stream",
     "text": [
      "Train accuracy: 85.98\n",
      "Dev accuracy: 88.77\n",
      "Epoch 3\n"
     ]
    },
    {
     "name": "stderr",
     "output_type": "stream",
     "text": [
      "Training: 100%|██████████| 782/782 [00:01<00:00, 428.27it/s, loss=0.111]\n"
     ]
    },
    {
     "name": "stdout",
     "output_type": "stream",
     "text": [
      "Train accuracy: 88.17\n",
      "Dev accuracy: 89.35\n",
      "Epoch 4\n"
     ]
    },
    {
     "name": "stderr",
     "output_type": "stream",
     "text": [
      "Training: 100%|██████████| 782/782 [00:01<00:00, 426.49it/s, loss=0.0974]\n"
     ]
    },
    {
     "name": "stdout",
     "output_type": "stream",
     "text": [
      "Train accuracy: 87.42\n",
      "Dev accuracy: 92.91\n",
      "Epoch 5\n"
     ]
    },
    {
     "name": "stderr",
     "output_type": "stream",
     "text": [
      "Training: 100%|██████████| 782/782 [00:01<00:00, 422.95it/s, loss=0.0849]\n"
     ]
    },
    {
     "name": "stdout",
     "output_type": "stream",
     "text": [
      "Train accuracy: 88.31\n",
      "Dev accuracy: 95.22\n",
      "Epoch 6\n"
     ]
    },
    {
     "name": "stderr",
     "output_type": "stream",
     "text": [
      "Training: 100%|██████████| 782/782 [00:01<00:00, 480.95it/s, loss=0.0778]\n"
     ]
    },
    {
     "name": "stdout",
     "output_type": "stream",
     "text": [
      "Train accuracy: 91.84\n",
      "Dev accuracy: 96.20\n",
      "Epoch 7\n"
     ]
    },
    {
     "name": "stderr",
     "output_type": "stream",
     "text": [
      "Training: 100%|██████████| 782/782 [00:01<00:00, 558.46it/s, loss=0.0709]\n"
     ]
    },
    {
     "name": "stdout",
     "output_type": "stream",
     "text": [
      "Train accuracy: 92.01\n",
      "Dev accuracy: 94.52\n",
      "Epoch 8\n"
     ]
    },
    {
     "name": "stderr",
     "output_type": "stream",
     "text": [
      "Training: 100%|██████████| 782/782 [00:01<00:00, 572.56it/s, loss=0.0666]\n"
     ]
    },
    {
     "name": "stdout",
     "output_type": "stream",
     "text": [
      "Train accuracy: 89.22\n",
      "Dev accuracy: 91.26\n",
      "Epoch 9\n"
     ]
    },
    {
     "name": "stderr",
     "output_type": "stream",
     "text": [
      "Training: 100%|██████████| 782/782 [00:01<00:00, 552.89it/s, loss=0.063] \n"
     ]
    },
    {
     "name": "stdout",
     "output_type": "stream",
     "text": [
      "Train accuracy: 90.19\n",
      "Dev accuracy: 93.97\n",
      "Epoch 10\n"
     ]
    },
    {
     "name": "stderr",
     "output_type": "stream",
     "text": [
      "Training: 100%|██████████| 782/782 [00:01<00:00, 481.45it/s, loss=0.0596]\n"
     ]
    },
    {
     "name": "stdout",
     "output_type": "stream",
     "text": [
      "Train accuracy: 91.36\n",
      "Dev accuracy: 92.03\n",
      "Dev accuracy not improving for 3 epochs. Stopping.\n"
     ]
    },
    {
     "name": "stderr",
     "output_type": "stream",
     "text": [
      "/var/folders/91/2fbkbbgj7471rgv8k0yy0sn40000gn/T/ipykernel_26651/2411159783.py:30: FutureWarning: The frame.append method is deprecated and will be removed from pandas in a future version. Use pandas.concat instead.\n",
      "  df = df.append({\n"
     ]
    },
    {
     "name": "stdout",
     "output_type": "stream",
     "text": [
      "****************************************************************************************************\n",
      "Running with lr: 0.001, n_epochs: 20, batch_size: 4, lr_scheduler: cosine, patience_threshold: 3\n",
      "Epoch 1\n"
     ]
    },
    {
     "name": "stderr",
     "output_type": "stream",
     "text": [
      "Training: 100%|██████████| 12500/12500 [00:04<00:00, 2802.08it/s, loss=0.371]\n"
     ]
    },
    {
     "name": "stdout",
     "output_type": "stream",
     "text": [
      "Train accuracy: 92.40\n",
      "Dev accuracy: 92.32\n",
      "Epoch 2\n"
     ]
    },
    {
     "name": "stderr",
     "output_type": "stream",
     "text": [
      "Training: 100%|██████████| 12500/12500 [00:04<00:00, 2848.36it/s, loss=0.298]\n"
     ]
    },
    {
     "name": "stdout",
     "output_type": "stream",
     "text": [
      "Train accuracy: 93.17\n",
      "Dev accuracy: 93.65\n",
      "Epoch 3\n"
     ]
    },
    {
     "name": "stderr",
     "output_type": "stream",
     "text": [
      "Training: 100%|██████████| 12500/12500 [00:04<00:00, 2785.02it/s, loss=0.257]\n"
     ]
    },
    {
     "name": "stdout",
     "output_type": "stream",
     "text": [
      "Train accuracy: 94.96\n",
      "Dev accuracy: 94.84\n",
      "Epoch 4\n"
     ]
    },
    {
     "name": "stderr",
     "output_type": "stream",
     "text": [
      "Training: 100%|██████████| 12500/12500 [00:04<00:00, 2806.32it/s, loss=0.235]\n"
     ]
    },
    {
     "name": "stdout",
     "output_type": "stream",
     "text": [
      "Train accuracy: 94.82\n",
      "Dev accuracy: 95.01\n",
      "Epoch 5\n"
     ]
    },
    {
     "name": "stderr",
     "output_type": "stream",
     "text": [
      "Training: 100%|██████████| 12500/12500 [00:04<00:00, 2857.87it/s, loss=0.219]\n"
     ]
    },
    {
     "name": "stdout",
     "output_type": "stream",
     "text": [
      "Train accuracy: 95.37\n",
      "Dev accuracy: 95.36\n",
      "Epoch 6\n"
     ]
    },
    {
     "name": "stderr",
     "output_type": "stream",
     "text": [
      "Training: 100%|██████████| 12500/12500 [00:04<00:00, 2887.42it/s, loss=0.21] \n"
     ]
    },
    {
     "name": "stdout",
     "output_type": "stream",
     "text": [
      "Train accuracy: 95.47\n",
      "Dev accuracy: 95.64\n",
      "Epoch 7\n"
     ]
    },
    {
     "name": "stderr",
     "output_type": "stream",
     "text": [
      "Training: 100%|██████████| 12500/12500 [00:04<00:00, 2860.86it/s, loss=0.2]  \n"
     ]
    },
    {
     "name": "stdout",
     "output_type": "stream",
     "text": [
      "Train accuracy: 96.52\n",
      "Dev accuracy: 96.68\n",
      "Epoch 8\n"
     ]
    },
    {
     "name": "stderr",
     "output_type": "stream",
     "text": [
      "Training: 100%|██████████| 12500/12500 [00:04<00:00, 2863.02it/s, loss=0.191]\n"
     ]
    },
    {
     "name": "stdout",
     "output_type": "stream",
     "text": [
      "Train accuracy: 96.44\n",
      "Dev accuracy: 96.36\n",
      "Epoch 9\n"
     ]
    },
    {
     "name": "stderr",
     "output_type": "stream",
     "text": [
      "Training: 100%|██████████| 12500/12500 [00:04<00:00, 2890.43it/s, loss=0.183]\n"
     ]
    },
    {
     "name": "stdout",
     "output_type": "stream",
     "text": [
      "Train accuracy: 96.66\n",
      "Dev accuracy: 96.60\n",
      "Epoch 10\n"
     ]
    },
    {
     "name": "stderr",
     "output_type": "stream",
     "text": [
      "Training: 100%|██████████| 12500/12500 [00:04<00:00, 2860.05it/s, loss=0.175]\n"
     ]
    },
    {
     "name": "stdout",
     "output_type": "stream",
     "text": [
      "Train accuracy: 97.14\n",
      "Dev accuracy: 96.64\n",
      "Epoch 11\n"
     ]
    },
    {
     "name": "stderr",
     "output_type": "stream",
     "text": [
      "Training: 100%|██████████| 12500/12500 [00:04<00:00, 2862.20it/s, loss=0.167]\n"
     ]
    },
    {
     "name": "stdout",
     "output_type": "stream",
     "text": [
      "Train accuracy: 97.46\n",
      "Dev accuracy: 96.60\n",
      "Dev accuracy not improving for 3 epochs. Stopping.\n"
     ]
    },
    {
     "name": "stderr",
     "output_type": "stream",
     "text": [
      "/var/folders/91/2fbkbbgj7471rgv8k0yy0sn40000gn/T/ipykernel_26651/2411159783.py:30: FutureWarning: The frame.append method is deprecated and will be removed from pandas in a future version. Use pandas.concat instead.\n",
      "  df = df.append({\n"
     ]
    },
    {
     "name": "stdout",
     "output_type": "stream",
     "text": [
      "****************************************************************************************************\n",
      "Running with lr: 0.001, n_epochs: 20, batch_size: 4, lr_scheduler: no scheduler, patience_threshold: 3\n",
      "Epoch 1\n"
     ]
    },
    {
     "name": "stderr",
     "output_type": "stream",
     "text": [
      "Training: 100%|██████████| 12500/12500 [00:04<00:00, 2800.97it/s, loss=0.37] \n"
     ]
    },
    {
     "name": "stdout",
     "output_type": "stream",
     "text": [
      "Train accuracy: 90.95\n",
      "Dev accuracy: 91.76\n",
      "Epoch 2\n"
     ]
    },
    {
     "name": "stderr",
     "output_type": "stream",
     "text": [
      "Training: 100%|██████████| 12500/12500 [00:04<00:00, 2912.04it/s, loss=0.301]\n"
     ]
    },
    {
     "name": "stdout",
     "output_type": "stream",
     "text": [
      "Train accuracy: 93.38\n",
      "Dev accuracy: 93.52\n",
      "Epoch 3\n"
     ]
    },
    {
     "name": "stderr",
     "output_type": "stream",
     "text": [
      "Training: 100%|██████████| 12500/12500 [00:04<00:00, 2841.12it/s, loss=0.264]\n"
     ]
    },
    {
     "name": "stdout",
     "output_type": "stream",
     "text": [
      "Train accuracy: 93.95\n",
      "Dev accuracy: 94.12\n",
      "Epoch 4\n"
     ]
    },
    {
     "name": "stderr",
     "output_type": "stream",
     "text": [
      "Training: 100%|██████████| 12500/12500 [00:04<00:00, 2913.13it/s, loss=0.244]\n"
     ]
    },
    {
     "name": "stdout",
     "output_type": "stream",
     "text": [
      "Train accuracy: 94.53\n",
      "Dev accuracy: 95.00\n",
      "Epoch 5\n"
     ]
    },
    {
     "name": "stderr",
     "output_type": "stream",
     "text": [
      "Training: 100%|██████████| 12500/12500 [00:04<00:00, 2890.31it/s, loss=0.23] \n"
     ]
    },
    {
     "name": "stdout",
     "output_type": "stream",
     "text": [
      "Train accuracy: 94.08\n",
      "Dev accuracy: 93.99\n",
      "Epoch 6\n"
     ]
    },
    {
     "name": "stderr",
     "output_type": "stream",
     "text": [
      "Training: 100%|██████████| 12500/12500 [00:04<00:00, 2871.49it/s, loss=0.22] \n"
     ]
    },
    {
     "name": "stdout",
     "output_type": "stream",
     "text": [
      "Train accuracy: 95.24\n",
      "Dev accuracy: 95.12\n",
      "Epoch 7\n"
     ]
    },
    {
     "name": "stderr",
     "output_type": "stream",
     "text": [
      "Training: 100%|██████████| 12500/12500 [00:04<00:00, 2815.20it/s, loss=0.21] \n"
     ]
    },
    {
     "name": "stdout",
     "output_type": "stream",
     "text": [
      "Train accuracy: 95.39\n",
      "Dev accuracy: 94.72\n",
      "Epoch 8\n"
     ]
    },
    {
     "name": "stderr",
     "output_type": "stream",
     "text": [
      "Training: 100%|██████████| 12500/12500 [00:04<00:00, 2942.29it/s, loss=0.203]\n"
     ]
    },
    {
     "name": "stdout",
     "output_type": "stream",
     "text": [
      "Train accuracy: 95.74\n",
      "Dev accuracy: 95.36\n",
      "Epoch 9\n"
     ]
    },
    {
     "name": "stderr",
     "output_type": "stream",
     "text": [
      "Training: 100%|██████████| 12500/12500 [00:04<00:00, 2908.72it/s, loss=0.196]\n"
     ]
    },
    {
     "name": "stdout",
     "output_type": "stream",
     "text": [
      "Train accuracy: 95.61\n",
      "Dev accuracy: 95.80\n",
      "Epoch 10\n"
     ]
    },
    {
     "name": "stderr",
     "output_type": "stream",
     "text": [
      "Training: 100%|██████████| 12500/12500 [00:04<00:00, 2908.68it/s, loss=0.192]\n"
     ]
    },
    {
     "name": "stdout",
     "output_type": "stream",
     "text": [
      "Train accuracy: 95.35\n",
      "Dev accuracy: 94.80\n",
      "Epoch 11\n"
     ]
    },
    {
     "name": "stderr",
     "output_type": "stream",
     "text": [
      "Training: 100%|██████████| 12500/12500 [00:04<00:00, 2858.44it/s, loss=0.189]\n"
     ]
    },
    {
     "name": "stdout",
     "output_type": "stream",
     "text": [
      "Train accuracy: 95.41\n",
      "Dev accuracy: 95.64\n",
      "Epoch 12\n"
     ]
    },
    {
     "name": "stderr",
     "output_type": "stream",
     "text": [
      "Training: 100%|██████████| 12500/12500 [00:04<00:00, 2845.98it/s, loss=0.185]\n"
     ]
    },
    {
     "name": "stdout",
     "output_type": "stream",
     "text": [
      "Train accuracy: 95.38\n",
      "Dev accuracy: 96.00\n",
      "Epoch 13\n"
     ]
    },
    {
     "name": "stderr",
     "output_type": "stream",
     "text": [
      "Training: 100%|██████████| 12500/12500 [00:04<00:00, 2881.96it/s, loss=0.182]\n"
     ]
    },
    {
     "name": "stdout",
     "output_type": "stream",
     "text": [
      "Train accuracy: 94.69\n",
      "Dev accuracy: 94.16\n",
      "Epoch 14\n"
     ]
    },
    {
     "name": "stderr",
     "output_type": "stream",
     "text": [
      "Training: 100%|██████████| 12500/12500 [00:04<00:00, 2876.09it/s, loss=0.18] \n"
     ]
    },
    {
     "name": "stdout",
     "output_type": "stream",
     "text": [
      "Train accuracy: 96.60\n",
      "Dev accuracy: 96.24\n",
      "Epoch 15\n"
     ]
    },
    {
     "name": "stderr",
     "output_type": "stream",
     "text": [
      "Training: 100%|██████████| 12500/12500 [00:04<00:00, 2888.87it/s, loss=0.177]\n"
     ]
    },
    {
     "name": "stdout",
     "output_type": "stream",
     "text": [
      "Train accuracy: 94.61\n",
      "Dev accuracy: 94.96\n",
      "Epoch 16\n"
     ]
    },
    {
     "name": "stderr",
     "output_type": "stream",
     "text": [
      "Training: 100%|██████████| 12500/12500 [00:04<00:00, 2913.26it/s, loss=0.175]\n"
     ]
    },
    {
     "name": "stdout",
     "output_type": "stream",
     "text": [
      "Train accuracy: 96.18\n",
      "Dev accuracy: 95.64\n",
      "Epoch 17\n"
     ]
    },
    {
     "name": "stderr",
     "output_type": "stream",
     "text": [
      "Training: 100%|██████████| 12500/12500 [00:04<00:00, 2890.79it/s, loss=0.173]\n"
     ]
    },
    {
     "name": "stdout",
     "output_type": "stream",
     "text": [
      "Train accuracy: 96.04\n",
      "Dev accuracy: 95.28\n",
      "Epoch 18\n"
     ]
    },
    {
     "name": "stderr",
     "output_type": "stream",
     "text": [
      "Training: 100%|██████████| 12500/12500 [00:04<00:00, 2916.28it/s, loss=0.172]\n"
     ]
    },
    {
     "name": "stdout",
     "output_type": "stream",
     "text": [
      "Train accuracy: 95.18\n",
      "Dev accuracy: 95.16\n",
      "Dev accuracy not improving for 3 epochs. Stopping.\n"
     ]
    },
    {
     "name": "stderr",
     "output_type": "stream",
     "text": [
      "/var/folders/91/2fbkbbgj7471rgv8k0yy0sn40000gn/T/ipykernel_26651/2411159783.py:30: FutureWarning: The frame.append method is deprecated and will be removed from pandas in a future version. Use pandas.concat instead.\n",
      "  df = df.append({\n"
     ]
    },
    {
     "name": "stdout",
     "output_type": "stream",
     "text": [
      "****************************************************************************************************\n",
      "Running with lr: 0.001, n_epochs: 20, batch_size: 16, lr_scheduler: cosine, patience_threshold: 3\n",
      "Epoch 1\n"
     ]
    },
    {
     "name": "stderr",
     "output_type": "stream",
     "text": [
      "Training: 100%|██████████| 3125/3125 [00:04<00:00, 647.60it/s, loss=0.281]\n"
     ]
    },
    {
     "name": "stdout",
     "output_type": "stream",
     "text": [
      "Train accuracy: 83.47\n",
      "Dev accuracy: 84.52\n",
      "Epoch 2\n"
     ]
    },
    {
     "name": "stderr",
     "output_type": "stream",
     "text": [
      "Training: 100%|██████████| 3125/3125 [00:04<00:00, 693.70it/s, loss=0.218]\n"
     ]
    },
    {
     "name": "stdout",
     "output_type": "stream",
     "text": [
      "Train accuracy: 86.40\n",
      "Dev accuracy: 88.04\n",
      "Epoch 3\n"
     ]
    },
    {
     "name": "stderr",
     "output_type": "stream",
     "text": [
      "Training: 100%|██████████| 3125/3125 [00:04<00:00, 686.65it/s, loss=0.187]\n"
     ]
    },
    {
     "name": "stdout",
     "output_type": "stream",
     "text": [
      "Train accuracy: 89.81\n",
      "Dev accuracy: 91.04\n",
      "Epoch 4\n"
     ]
    },
    {
     "name": "stderr",
     "output_type": "stream",
     "text": [
      "Training: 100%|██████████| 3125/3125 [00:04<00:00, 639.29it/s, loss=0.171]\n"
     ]
    },
    {
     "name": "stdout",
     "output_type": "stream",
     "text": [
      "Train accuracy: 89.75\n",
      "Dev accuracy: 91.79\n",
      "Epoch 5\n"
     ]
    },
    {
     "name": "stderr",
     "output_type": "stream",
     "text": [
      "Training: 100%|██████████| 3125/3125 [00:04<00:00, 633.44it/s, loss=0.159]\n"
     ]
    },
    {
     "name": "stdout",
     "output_type": "stream",
     "text": [
      "Train accuracy: 90.99\n",
      "Dev accuracy: 92.46\n",
      "Epoch 6\n"
     ]
    },
    {
     "name": "stderr",
     "output_type": "stream",
     "text": [
      "Training: 100%|██████████| 3125/3125 [00:04<00:00, 687.77it/s, loss=0.15] \n"
     ]
    },
    {
     "name": "stdout",
     "output_type": "stream",
     "text": [
      "Train accuracy: 90.78\n",
      "Dev accuracy: 93.37\n",
      "Epoch 7\n"
     ]
    },
    {
     "name": "stderr",
     "output_type": "stream",
     "text": [
      "Training: 100%|██████████| 3125/3125 [00:04<00:00, 728.55it/s, loss=0.145]\n"
     ]
    },
    {
     "name": "stdout",
     "output_type": "stream",
     "text": [
      "Train accuracy: 92.27\n",
      "Dev accuracy: 93.83\n",
      "Epoch 8\n"
     ]
    },
    {
     "name": "stderr",
     "output_type": "stream",
     "text": [
      "Training: 100%|██████████| 3125/3125 [00:04<00:00, 683.98it/s, loss=0.142]\n"
     ]
    },
    {
     "name": "stdout",
     "output_type": "stream",
     "text": [
      "Train accuracy: 94.32\n",
      "Dev accuracy: 95.34\n",
      "Epoch 9\n"
     ]
    },
    {
     "name": "stderr",
     "output_type": "stream",
     "text": [
      "Training: 100%|██████████| 3125/3125 [00:04<00:00, 674.19it/s, loss=0.14] \n"
     ]
    },
    {
     "name": "stdout",
     "output_type": "stream",
     "text": [
      "Train accuracy: 93.90\n",
      "Dev accuracy: 94.37\n",
      "Epoch 10\n"
     ]
    },
    {
     "name": "stderr",
     "output_type": "stream",
     "text": [
      "Training: 100%|██████████| 3125/3125 [00:04<00:00, 695.83it/s, loss=0.138]\n"
     ]
    },
    {
     "name": "stdout",
     "output_type": "stream",
     "text": [
      "Train accuracy: 93.87\n",
      "Dev accuracy: 95.82\n",
      "Epoch 11\n"
     ]
    },
    {
     "name": "stderr",
     "output_type": "stream",
     "text": [
      "Training: 100%|██████████| 3125/3125 [00:04<00:00, 637.12it/s, loss=0.134]\n"
     ]
    },
    {
     "name": "stdout",
     "output_type": "stream",
     "text": [
      "Train accuracy: 94.32\n",
      "Dev accuracy: 95.36\n",
      "Epoch 12\n"
     ]
    },
    {
     "name": "stderr",
     "output_type": "stream",
     "text": [
      "Training: 100%|██████████| 3125/3125 [00:04<00:00, 730.23it/s, loss=0.131]\n"
     ]
    },
    {
     "name": "stdout",
     "output_type": "stream",
     "text": [
      "Train accuracy: 94.93\n",
      "Dev accuracy: 96.16\n",
      "Epoch 13\n"
     ]
    },
    {
     "name": "stderr",
     "output_type": "stream",
     "text": [
      "Training: 100%|██████████| 3125/3125 [00:04<00:00, 694.62it/s, loss=0.129]\n"
     ]
    },
    {
     "name": "stdout",
     "output_type": "stream",
     "text": [
      "Train accuracy: 94.42\n",
      "Dev accuracy: 96.46\n",
      "Epoch 14\n"
     ]
    },
    {
     "name": "stderr",
     "output_type": "stream",
     "text": [
      "Training: 100%|██████████| 3125/3125 [00:04<00:00, 690.30it/s, loss=0.127]\n"
     ]
    },
    {
     "name": "stdout",
     "output_type": "stream",
     "text": [
      "Train accuracy: 96.42\n",
      "Dev accuracy: 97.44\n",
      "Epoch 15\n"
     ]
    },
    {
     "name": "stderr",
     "output_type": "stream",
     "text": [
      "Training: 100%|██████████| 3125/3125 [00:05<00:00, 597.09it/s, loss=0.125]\n"
     ]
    },
    {
     "name": "stdout",
     "output_type": "stream",
     "text": [
      "Train accuracy: 96.05\n",
      "Dev accuracy: 97.44\n",
      "Epoch 16\n"
     ]
    },
    {
     "name": "stderr",
     "output_type": "stream",
     "text": [
      "Training: 100%|██████████| 3125/3125 [00:04<00:00, 639.91it/s, loss=0.123]\n"
     ]
    },
    {
     "name": "stdout",
     "output_type": "stream",
     "text": [
      "Train accuracy: 96.63\n",
      "Dev accuracy: 97.92\n",
      "Epoch 17\n"
     ]
    },
    {
     "name": "stderr",
     "output_type": "stream",
     "text": [
      "Training: 100%|██████████| 3125/3125 [00:04<00:00, 670.71it/s, loss=0.121]\n"
     ]
    },
    {
     "name": "stdout",
     "output_type": "stream",
     "text": [
      "Train accuracy: 96.66\n",
      "Dev accuracy: 97.90\n",
      "Epoch 18\n"
     ]
    },
    {
     "name": "stderr",
     "output_type": "stream",
     "text": [
      "Training: 100%|██████████| 3125/3125 [00:04<00:00, 635.39it/s, loss=0.12] \n"
     ]
    },
    {
     "name": "stdout",
     "output_type": "stream",
     "text": [
      "Train accuracy: 97.17\n",
      "Dev accuracy: 98.40\n",
      "Epoch 19\n"
     ]
    },
    {
     "name": "stderr",
     "output_type": "stream",
     "text": [
      "Training: 100%|██████████| 3125/3125 [00:05<00:00, 612.44it/s, loss=0.119]\n"
     ]
    },
    {
     "name": "stdout",
     "output_type": "stream",
     "text": [
      "Train accuracy: 97.07\n",
      "Dev accuracy: 98.22\n",
      "Epoch 20\n"
     ]
    },
    {
     "name": "stderr",
     "output_type": "stream",
     "text": [
      "Training: 100%|██████████| 3125/3125 [00:04<00:00, 636.55it/s, loss=0.118]\n"
     ]
    },
    {
     "name": "stdout",
     "output_type": "stream",
     "text": [
      "Train accuracy: 97.04\n",
      "Dev accuracy: 98.22\n",
      "New best dev accuracy: 0.984\n"
     ]
    },
    {
     "name": "stderr",
     "output_type": "stream",
     "text": [
      "/var/folders/91/2fbkbbgj7471rgv8k0yy0sn40000gn/T/ipykernel_26651/2411159783.py:30: FutureWarning: The frame.append method is deprecated and will be removed from pandas in a future version. Use pandas.concat instead.\n",
      "  df = df.append({\n"
     ]
    },
    {
     "name": "stdout",
     "output_type": "stream",
     "text": [
      "****************************************************************************************************\n",
      "Running with lr: 0.001, n_epochs: 20, batch_size: 16, lr_scheduler: no scheduler, patience_threshold: 3\n",
      "Epoch 1\n"
     ]
    },
    {
     "name": "stderr",
     "output_type": "stream",
     "text": [
      "Training: 100%|██████████| 3125/3125 [00:04<00:00, 627.98it/s, loss=0.299]\n"
     ]
    },
    {
     "name": "stdout",
     "output_type": "stream",
     "text": [
      "Train accuracy: 88.80\n",
      "Dev accuracy: 91.31\n",
      "Epoch 2\n"
     ]
    },
    {
     "name": "stderr",
     "output_type": "stream",
     "text": [
      "Training: 100%|██████████| 3125/3125 [00:04<00:00, 654.35it/s, loss=0.216]\n"
     ]
    },
    {
     "name": "stdout",
     "output_type": "stream",
     "text": [
      "Train accuracy: 91.80\n",
      "Dev accuracy: 91.42\n",
      "Epoch 3\n"
     ]
    },
    {
     "name": "stderr",
     "output_type": "stream",
     "text": [
      "Training: 100%|██████████| 3125/3125 [00:08<00:00, 351.61it/s, loss=0.183]\n"
     ]
    },
    {
     "name": "stdout",
     "output_type": "stream",
     "text": [
      "Train accuracy: 89.07\n",
      "Dev accuracy: 91.93\n",
      "Epoch 4\n"
     ]
    },
    {
     "name": "stderr",
     "output_type": "stream",
     "text": [
      "Training: 100%|██████████| 3125/3125 [00:10<00:00, 310.65it/s, loss=0.17] \n"
     ]
    },
    {
     "name": "stdout",
     "output_type": "stream",
     "text": [
      "Train accuracy: 89.64\n",
      "Dev accuracy: 93.50\n",
      "Epoch 5\n"
     ]
    },
    {
     "name": "stderr",
     "output_type": "stream",
     "text": [
      "Training: 100%|██████████| 3125/3125 [00:06<00:00, 447.98it/s, loss=0.163]\n"
     ]
    },
    {
     "name": "stdout",
     "output_type": "stream",
     "text": [
      "Train accuracy: 92.78\n",
      "Dev accuracy: 93.57\n",
      "Epoch 6\n"
     ]
    },
    {
     "name": "stderr",
     "output_type": "stream",
     "text": [
      "Training: 100%|██████████| 3125/3125 [00:05<00:00, 542.88it/s, loss=0.157]\n"
     ]
    },
    {
     "name": "stdout",
     "output_type": "stream",
     "text": [
      "Train accuracy: 92.06\n",
      "Dev accuracy: 92.16\n",
      "Epoch 7\n"
     ]
    },
    {
     "name": "stderr",
     "output_type": "stream",
     "text": [
      "Training: 100%|██████████| 3125/3125 [00:05<00:00, 561.02it/s, loss=0.149]\n"
     ]
    },
    {
     "name": "stdout",
     "output_type": "stream",
     "text": [
      "Train accuracy: 94.11\n",
      "Dev accuracy: 95.31\n",
      "Epoch 8\n"
     ]
    },
    {
     "name": "stderr",
     "output_type": "stream",
     "text": [
      "Training: 100%|██████████| 3125/3125 [00:05<00:00, 596.49it/s, loss=0.143]\n"
     ]
    },
    {
     "name": "stdout",
     "output_type": "stream",
     "text": [
      "Train accuracy: 92.87\n",
      "Dev accuracy: 93.60\n",
      "Epoch 9\n"
     ]
    },
    {
     "name": "stderr",
     "output_type": "stream",
     "text": [
      "Training: 100%|██████████| 3125/3125 [00:04<00:00, 682.46it/s, loss=0.139]\n"
     ]
    },
    {
     "name": "stdout",
     "output_type": "stream",
     "text": [
      "Train accuracy: 92.42\n",
      "Dev accuracy: 95.33\n",
      "Epoch 10\n"
     ]
    },
    {
     "name": "stderr",
     "output_type": "stream",
     "text": [
      "Training: 100%|██████████| 3125/3125 [00:04<00:00, 699.18it/s, loss=0.137]\n"
     ]
    },
    {
     "name": "stdout",
     "output_type": "stream",
     "text": [
      "Train accuracy: 92.08\n",
      "Dev accuracy: 94.21\n",
      "Epoch 11\n"
     ]
    },
    {
     "name": "stderr",
     "output_type": "stream",
     "text": [
      "Training: 100%|██████████| 3125/3125 [00:04<00:00, 681.68it/s, loss=0.132]\n"
     ]
    },
    {
     "name": "stdout",
     "output_type": "stream",
     "text": [
      "Train accuracy: 94.05\n",
      "Dev accuracy: 94.62\n",
      "Epoch 12\n"
     ]
    },
    {
     "name": "stderr",
     "output_type": "stream",
     "text": [
      "Training: 100%|██████████| 3125/3125 [00:04<00:00, 741.35it/s, loss=0.128]\n"
     ]
    },
    {
     "name": "stdout",
     "output_type": "stream",
     "text": [
      "Train accuracy: 92.48\n",
      "Dev accuracy: 93.92\n",
      "Epoch 13\n"
     ]
    },
    {
     "name": "stderr",
     "output_type": "stream",
     "text": [
      "Training: 100%|██████████| 3125/3125 [00:07<00:00, 436.46it/s, loss=0.125]\n"
     ]
    },
    {
     "name": "stdout",
     "output_type": "stream",
     "text": [
      "Train accuracy: 92.31\n",
      "Dev accuracy: 93.50\n",
      "Dev accuracy not improving for 3 epochs. Stopping.\n"
     ]
    },
    {
     "name": "stderr",
     "output_type": "stream",
     "text": [
      "/var/folders/91/2fbkbbgj7471rgv8k0yy0sn40000gn/T/ipykernel_26651/2411159783.py:30: FutureWarning: The frame.append method is deprecated and will be removed from pandas in a future version. Use pandas.concat instead.\n",
      "  df = df.append({\n"
     ]
    },
    {
     "name": "stdout",
     "output_type": "stream",
     "text": [
      "****************************************************************************************************\n",
      "Running with lr: 0.001, n_epochs: 20, batch_size: 64, lr_scheduler: cosine, patience_threshold: 3\n",
      "Epoch 1\n"
     ]
    },
    {
     "name": "stderr",
     "output_type": "stream",
     "text": [
      "Training: 100%|██████████| 782/782 [00:02<00:00, 294.04it/s, loss=0.187]\n"
     ]
    },
    {
     "name": "stdout",
     "output_type": "stream",
     "text": [
      "Train accuracy: 81.26\n",
      "Dev accuracy: 82.35\n",
      "Epoch 2\n"
     ]
    },
    {
     "name": "stderr",
     "output_type": "stream",
     "text": [
      "Training: 100%|██████████| 782/782 [00:02<00:00, 266.24it/s, loss=0.129]\n"
     ]
    },
    {
     "name": "stdout",
     "output_type": "stream",
     "text": [
      "Train accuracy: 88.07\n",
      "Dev accuracy: 88.34\n",
      "Epoch 3\n"
     ]
    },
    {
     "name": "stderr",
     "output_type": "stream",
     "text": [
      "Training: 100%|██████████| 782/782 [00:02<00:00, 309.84it/s, loss=0.106]\n"
     ]
    },
    {
     "name": "stdout",
     "output_type": "stream",
     "text": [
      "Train accuracy: 88.48\n",
      "Dev accuracy: 91.26\n",
      "Epoch 4\n"
     ]
    },
    {
     "name": "stderr",
     "output_type": "stream",
     "text": [
      "Training: 100%|██████████| 782/782 [00:01<00:00, 392.62it/s, loss=0.0936]\n"
     ]
    },
    {
     "name": "stdout",
     "output_type": "stream",
     "text": [
      "Train accuracy: 88.02\n",
      "Dev accuracy: 91.11\n",
      "Epoch 5\n"
     ]
    },
    {
     "name": "stderr",
     "output_type": "stream",
     "text": [
      "Training: 100%|██████████| 782/782 [00:02<00:00, 357.96it/s, loss=0.0833]\n"
     ]
    },
    {
     "name": "stdout",
     "output_type": "stream",
     "text": [
      "Train accuracy: 89.33\n",
      "Dev accuracy: 92.44\n",
      "Epoch 6\n"
     ]
    },
    {
     "name": "stderr",
     "output_type": "stream",
     "text": [
      "Training: 100%|██████████| 782/782 [00:02<00:00, 343.33it/s, loss=0.0742]\n"
     ]
    },
    {
     "name": "stdout",
     "output_type": "stream",
     "text": [
      "Train accuracy: 91.49\n",
      "Dev accuracy: 92.91\n",
      "Epoch 7\n"
     ]
    },
    {
     "name": "stderr",
     "output_type": "stream",
     "text": [
      "Training: 100%|██████████| 782/782 [00:01<00:00, 417.29it/s, loss=0.069] \n"
     ]
    },
    {
     "name": "stdout",
     "output_type": "stream",
     "text": [
      "Train accuracy: 90.77\n",
      "Dev accuracy: 90.41\n",
      "Epoch 8\n"
     ]
    },
    {
     "name": "stderr",
     "output_type": "stream",
     "text": [
      "Training: 100%|██████████| 782/782 [00:02<00:00, 347.03it/s, loss=0.065] \n"
     ]
    },
    {
     "name": "stdout",
     "output_type": "stream",
     "text": [
      "Train accuracy: 91.01\n",
      "Dev accuracy: 92.07\n",
      "Epoch 9\n"
     ]
    },
    {
     "name": "stderr",
     "output_type": "stream",
     "text": [
      "Training: 100%|██████████| 782/782 [00:02<00:00, 267.83it/s, loss=0.0617]\n"
     ]
    },
    {
     "name": "stdout",
     "output_type": "stream",
     "text": [
      "Train accuracy: 90.54\n",
      "Dev accuracy: 94.52\n",
      "Epoch 10\n"
     ]
    },
    {
     "name": "stderr",
     "output_type": "stream",
     "text": [
      "Training: 100%|██████████| 782/782 [00:02<00:00, 309.83it/s, loss=0.0595]\n"
     ]
    },
    {
     "name": "stdout",
     "output_type": "stream",
     "text": [
      "Train accuracy: 91.06\n",
      "Dev accuracy: 90.38\n",
      "Epoch 11\n"
     ]
    },
    {
     "name": "stderr",
     "output_type": "stream",
     "text": [
      "Training: 100%|██████████| 782/782 [00:02<00:00, 303.61it/s, loss=0.0583]\n"
     ]
    },
    {
     "name": "stdout",
     "output_type": "stream",
     "text": [
      "Train accuracy: 91.99\n",
      "Dev accuracy: 90.51\n",
      "Epoch 12\n"
     ]
    },
    {
     "name": "stderr",
     "output_type": "stream",
     "text": [
      "Training: 100%|██████████| 782/782 [00:02<00:00, 348.92it/s, loss=0.0583]\n"
     ]
    },
    {
     "name": "stdout",
     "output_type": "stream",
     "text": [
      "Train accuracy: 91.51\n",
      "Dev accuracy: 92.86\n",
      "Epoch 13\n"
     ]
    },
    {
     "name": "stderr",
     "output_type": "stream",
     "text": [
      "Training: 100%|██████████| 782/782 [00:03<00:00, 215.64it/s, loss=0.0568]\n"
     ]
    },
    {
     "name": "stdout",
     "output_type": "stream",
     "text": [
      "Train accuracy: 92.73\n",
      "Dev accuracy: 93.79\n",
      "Dev accuracy not improving for 3 epochs. Stopping.\n"
     ]
    },
    {
     "name": "stderr",
     "output_type": "stream",
     "text": [
      "/var/folders/91/2fbkbbgj7471rgv8k0yy0sn40000gn/T/ipykernel_26651/2411159783.py:30: FutureWarning: The frame.append method is deprecated and will be removed from pandas in a future version. Use pandas.concat instead.\n",
      "  df = df.append({\n"
     ]
    },
    {
     "name": "stdout",
     "output_type": "stream",
     "text": [
      "****************************************************************************************************\n",
      "Running with lr: 0.001, n_epochs: 20, batch_size: 64, lr_scheduler: no scheduler, patience_threshold: 3\n",
      "Epoch 1\n"
     ]
    },
    {
     "name": "stderr",
     "output_type": "stream",
     "text": [
      "Training: 100%|██████████| 782/782 [00:03<00:00, 239.96it/s, loss=0.163]\n"
     ]
    },
    {
     "name": "stdout",
     "output_type": "stream",
     "text": [
      "Train accuracy: 82.47\n",
      "Dev accuracy: 88.18\n",
      "Epoch 2\n"
     ]
    },
    {
     "name": "stderr",
     "output_type": "stream",
     "text": [
      "Training: 100%|██████████| 782/782 [00:01<00:00, 402.18it/s, loss=0.108]\n"
     ]
    },
    {
     "name": "stdout",
     "output_type": "stream",
     "text": [
      "Train accuracy: 86.91\n",
      "Dev accuracy: 91.53\n",
      "Epoch 3\n"
     ]
    },
    {
     "name": "stderr",
     "output_type": "stream",
     "text": [
      "Training: 100%|██████████| 782/782 [00:02<00:00, 316.80it/s, loss=0.0938]\n"
     ]
    },
    {
     "name": "stdout",
     "output_type": "stream",
     "text": [
      "Train accuracy: 86.76\n",
      "Dev accuracy: 88.03\n",
      "Epoch 4\n"
     ]
    },
    {
     "name": "stderr",
     "output_type": "stream",
     "text": [
      "Training: 100%|██████████| 782/782 [00:02<00:00, 368.44it/s, loss=0.0806]\n"
     ]
    },
    {
     "name": "stdout",
     "output_type": "stream",
     "text": [
      "Train accuracy: 87.71\n",
      "Dev accuracy: 89.05\n",
      "Epoch 5\n"
     ]
    },
    {
     "name": "stderr",
     "output_type": "stream",
     "text": [
      "Training: 100%|██████████| 782/782 [00:01<00:00, 449.92it/s, loss=0.0752]\n"
     ]
    },
    {
     "name": "stdout",
     "output_type": "stream",
     "text": [
      "Train accuracy: 90.43\n",
      "Dev accuracy: 92.60\n",
      "Epoch 6\n"
     ]
    },
    {
     "name": "stderr",
     "output_type": "stream",
     "text": [
      "Training: 100%|██████████| 782/782 [00:01<00:00, 512.16it/s, loss=0.0713]\n"
     ]
    },
    {
     "name": "stdout",
     "output_type": "stream",
     "text": [
      "Train accuracy: 91.10\n",
      "Dev accuracy: 91.88\n",
      "Epoch 7\n"
     ]
    },
    {
     "name": "stderr",
     "output_type": "stream",
     "text": [
      "Training: 100%|██████████| 782/782 [00:01<00:00, 467.81it/s, loss=0.0665]\n"
     ]
    },
    {
     "name": "stdout",
     "output_type": "stream",
     "text": [
      "Train accuracy: 89.30\n",
      "Dev accuracy: 89.74\n",
      "Epoch 8\n"
     ]
    },
    {
     "name": "stderr",
     "output_type": "stream",
     "text": [
      "Training: 100%|██████████| 782/782 [00:02<00:00, 385.28it/s, loss=0.0631]\n"
     ]
    },
    {
     "name": "stdout",
     "output_type": "stream",
     "text": [
      "Train accuracy: 90.02\n",
      "Dev accuracy: 92.24\n",
      "Epoch 9\n"
     ]
    },
    {
     "name": "stderr",
     "output_type": "stream",
     "text": [
      "Training: 100%|██████████| 782/782 [00:01<00:00, 415.98it/s, loss=0.0605]\n"
     ]
    },
    {
     "name": "stdout",
     "output_type": "stream",
     "text": [
      "Train accuracy: 88.72\n",
      "Dev accuracy: 89.98\n",
      "Dev accuracy not improving for 3 epochs. Stopping.\n"
     ]
    },
    {
     "name": "stderr",
     "output_type": "stream",
     "text": [
      "/var/folders/91/2fbkbbgj7471rgv8k0yy0sn40000gn/T/ipykernel_26651/2411159783.py:30: FutureWarning: The frame.append method is deprecated and will be removed from pandas in a future version. Use pandas.concat instead.\n",
      "  df = df.append({\n"
     ]
    },
    {
     "name": "stdout",
     "output_type": "stream",
     "text": [
      "****************************************************************************************************\n",
      "Running with lr: 0.0001, n_epochs: 5, batch_size: 4, lr_scheduler: cosine, patience_threshold: 3\n",
      "Epoch 1\n"
     ]
    },
    {
     "name": "stderr",
     "output_type": "stream",
     "text": [
      "Training: 100%|██████████| 12500/12500 [00:05<00:00, 2467.30it/s, loss=0.57] \n"
     ]
    },
    {
     "name": "stdout",
     "output_type": "stream",
     "text": [
      "Train accuracy: 90.42\n",
      "Dev accuracy: 91.29\n",
      "Epoch 2\n"
     ]
    },
    {
     "name": "stderr",
     "output_type": "stream",
     "text": [
      "Training: 100%|██████████| 12500/12500 [00:04<00:00, 2531.31it/s, loss=0.422]\n"
     ]
    },
    {
     "name": "stdout",
     "output_type": "stream",
     "text": [
      "Train accuracy: 93.21\n",
      "Dev accuracy: 93.89\n",
      "Epoch 3\n"
     ]
    },
    {
     "name": "stderr",
     "output_type": "stream",
     "text": [
      "Training: 100%|██████████| 12500/12500 [00:04<00:00, 2595.96it/s, loss=0.354]\n"
     ]
    },
    {
     "name": "stdout",
     "output_type": "stream",
     "text": [
      "Train accuracy: 94.28\n",
      "Dev accuracy: 94.84\n",
      "Epoch 4\n"
     ]
    },
    {
     "name": "stderr",
     "output_type": "stream",
     "text": [
      "Training: 100%|██████████| 12500/12500 [00:04<00:00, 2596.47it/s, loss=0.314]\n"
     ]
    },
    {
     "name": "stdout",
     "output_type": "stream",
     "text": [
      "Train accuracy: 94.63\n",
      "Dev accuracy: 95.44\n",
      "Epoch 5\n"
     ]
    },
    {
     "name": "stderr",
     "output_type": "stream",
     "text": [
      "Training: 100%|██████████| 12500/12500 [00:04<00:00, 2753.49it/s, loss=0.289]\n"
     ]
    },
    {
     "name": "stdout",
     "output_type": "stream",
     "text": [
      "Train accuracy: 94.59\n",
      "Dev accuracy: 95.40\n"
     ]
    },
    {
     "name": "stderr",
     "output_type": "stream",
     "text": [
      "/var/folders/91/2fbkbbgj7471rgv8k0yy0sn40000gn/T/ipykernel_26651/2411159783.py:30: FutureWarning: The frame.append method is deprecated and will be removed from pandas in a future version. Use pandas.concat instead.\n",
      "  df = df.append({\n"
     ]
    },
    {
     "name": "stdout",
     "output_type": "stream",
     "text": [
      "****************************************************************************************************\n",
      "Running with lr: 0.0001, n_epochs: 5, batch_size: 4, lr_scheduler: no scheduler, patience_threshold: 3\n",
      "Epoch 1\n"
     ]
    },
    {
     "name": "stderr",
     "output_type": "stream",
     "text": [
      "Training: 100%|██████████| 12500/12500 [00:05<00:00, 2445.44it/s, loss=0.578]\n"
     ]
    },
    {
     "name": "stdout",
     "output_type": "stream",
     "text": [
      "Train accuracy: 91.10\n",
      "Dev accuracy: 92.09\n",
      "Epoch 2\n"
     ]
    },
    {
     "name": "stderr",
     "output_type": "stream",
     "text": [
      "Training: 100%|██████████| 12500/12500 [00:04<00:00, 2511.32it/s, loss=0.422]\n"
     ]
    },
    {
     "name": "stdout",
     "output_type": "stream",
     "text": [
      "Train accuracy: 93.12\n",
      "Dev accuracy: 93.25\n",
      "Epoch 3\n"
     ]
    },
    {
     "name": "stderr",
     "output_type": "stream",
     "text": [
      "Training: 100%|██████████| 12500/12500 [00:04<00:00, 2648.32it/s, loss=0.354]\n"
     ]
    },
    {
     "name": "stdout",
     "output_type": "stream",
     "text": [
      "Train accuracy: 93.95\n",
      "Dev accuracy: 94.76\n",
      "Epoch 4\n"
     ]
    },
    {
     "name": "stderr",
     "output_type": "stream",
     "text": [
      "Training: 100%|██████████| 12500/12500 [00:04<00:00, 2657.33it/s, loss=0.312]\n"
     ]
    },
    {
     "name": "stdout",
     "output_type": "stream",
     "text": [
      "Train accuracy: 95.16\n",
      "Dev accuracy: 95.12\n",
      "Epoch 5\n"
     ]
    },
    {
     "name": "stderr",
     "output_type": "stream",
     "text": [
      "Training: 100%|██████████| 12500/12500 [00:04<00:00, 2730.68it/s, loss=0.282]\n"
     ]
    },
    {
     "name": "stdout",
     "output_type": "stream",
     "text": [
      "Train accuracy: 95.83\n",
      "Dev accuracy: 96.12\n"
     ]
    },
    {
     "name": "stderr",
     "output_type": "stream",
     "text": [
      "/var/folders/91/2fbkbbgj7471rgv8k0yy0sn40000gn/T/ipykernel_26651/2411159783.py:30: FutureWarning: The frame.append method is deprecated and will be removed from pandas in a future version. Use pandas.concat instead.\n",
      "  df = df.append({\n"
     ]
    },
    {
     "name": "stdout",
     "output_type": "stream",
     "text": [
      "****************************************************************************************************\n",
      "Running with lr: 0.0001, n_epochs: 5, batch_size: 16, lr_scheduler: cosine, patience_threshold: 3\n",
      "Epoch 1\n"
     ]
    },
    {
     "name": "stderr",
     "output_type": "stream",
     "text": [
      "Training: 100%|██████████| 3125/3125 [00:04<00:00, 639.29it/s, loss=0.749]\n"
     ]
    },
    {
     "name": "stdout",
     "output_type": "stream",
     "text": [
      "Train accuracy: 87.80\n",
      "Dev accuracy: 91.15\n",
      "Epoch 2\n"
     ]
    },
    {
     "name": "stderr",
     "output_type": "stream",
     "text": [
      "Training: 100%|██████████| 3125/3125 [00:04<00:00, 681.97it/s, loss=0.532]\n"
     ]
    },
    {
     "name": "stdout",
     "output_type": "stream",
     "text": [
      "Train accuracy: 89.46\n",
      "Dev accuracy: 91.90\n",
      "Epoch 3\n"
     ]
    },
    {
     "name": "stderr",
     "output_type": "stream",
     "text": [
      "Training: 100%|██████████| 3125/3125 [00:04<00:00, 689.40it/s, loss=0.453]\n"
     ]
    },
    {
     "name": "stdout",
     "output_type": "stream",
     "text": [
      "Train accuracy: 91.53\n",
      "Dev accuracy: 93.35\n",
      "Epoch 4\n"
     ]
    },
    {
     "name": "stderr",
     "output_type": "stream",
     "text": [
      "Training: 100%|██████████| 3125/3125 [00:04<00:00, 759.46it/s, loss=0.41] \n"
     ]
    },
    {
     "name": "stdout",
     "output_type": "stream",
     "text": [
      "Train accuracy: 93.07\n",
      "Dev accuracy: 94.31\n",
      "Epoch 5\n"
     ]
    },
    {
     "name": "stderr",
     "output_type": "stream",
     "text": [
      "Training: 100%|██████████| 3125/3125 [00:04<00:00, 747.02it/s, loss=0.381]\n"
     ]
    },
    {
     "name": "stdout",
     "output_type": "stream",
     "text": [
      "Train accuracy: 93.45\n",
      "Dev accuracy: 93.67\n"
     ]
    },
    {
     "name": "stderr",
     "output_type": "stream",
     "text": [
      "/var/folders/91/2fbkbbgj7471rgv8k0yy0sn40000gn/T/ipykernel_26651/2411159783.py:30: FutureWarning: The frame.append method is deprecated and will be removed from pandas in a future version. Use pandas.concat instead.\n",
      "  df = df.append({\n"
     ]
    },
    {
     "name": "stdout",
     "output_type": "stream",
     "text": [
      "****************************************************************************************************\n",
      "Running with lr: 0.0001, n_epochs: 5, batch_size: 16, lr_scheduler: no scheduler, patience_threshold: 3\n",
      "Epoch 1\n"
     ]
    },
    {
     "name": "stderr",
     "output_type": "stream",
     "text": [
      "Training: 100%|██████████| 3125/3125 [00:04<00:00, 696.37it/s, loss=0.77] \n"
     ]
    },
    {
     "name": "stdout",
     "output_type": "stream",
     "text": [
      "Train accuracy: 88.08\n",
      "Dev accuracy: 89.19\n",
      "Epoch 2\n"
     ]
    },
    {
     "name": "stderr",
     "output_type": "stream",
     "text": [
      "Training: 100%|██████████| 3125/3125 [00:03<00:00, 796.90it/s, loss=0.537]\n"
     ]
    },
    {
     "name": "stdout",
     "output_type": "stream",
     "text": [
      "Train accuracy: 88.87\n",
      "Dev accuracy: 90.45\n",
      "Epoch 3\n"
     ]
    },
    {
     "name": "stderr",
     "output_type": "stream",
     "text": [
      "Training: 100%|██████████| 3125/3125 [00:06<00:00, 485.93it/s, loss=0.447]\n"
     ]
    },
    {
     "name": "stdout",
     "output_type": "stream",
     "text": [
      "Train accuracy: 89.07\n",
      "Dev accuracy: 89.99\n",
      "Epoch 4\n"
     ]
    },
    {
     "name": "stderr",
     "output_type": "stream",
     "text": [
      "Training: 100%|██████████| 3125/3125 [00:09<00:00, 314.68it/s, loss=0.395]\n"
     ]
    },
    {
     "name": "stdout",
     "output_type": "stream",
     "text": [
      "Train accuracy: 92.01\n",
      "Dev accuracy: 92.85\n",
      "Epoch 5\n"
     ]
    },
    {
     "name": "stderr",
     "output_type": "stream",
     "text": [
      "Training: 100%|██████████| 3125/3125 [00:10<00:00, 305.96it/s, loss=0.359]\n"
     ]
    },
    {
     "name": "stdout",
     "output_type": "stream",
     "text": [
      "Train accuracy: 92.05\n",
      "Dev accuracy: 93.28\n"
     ]
    },
    {
     "name": "stderr",
     "output_type": "stream",
     "text": [
      "/var/folders/91/2fbkbbgj7471rgv8k0yy0sn40000gn/T/ipykernel_26651/2411159783.py:30: FutureWarning: The frame.append method is deprecated and will be removed from pandas in a future version. Use pandas.concat instead.\n",
      "  df = df.append({\n"
     ]
    },
    {
     "name": "stdout",
     "output_type": "stream",
     "text": [
      "****************************************************************************************************\n",
      "Running with lr: 0.0001, n_epochs: 5, batch_size: 64, lr_scheduler: cosine, patience_threshold: 3\n",
      "Epoch 1\n"
     ]
    },
    {
     "name": "stderr",
     "output_type": "stream",
     "text": [
      "Training: 100%|██████████| 782/782 [00:03<00:00, 204.23it/s, loss=1.22]\n"
     ]
    },
    {
     "name": "stdout",
     "output_type": "stream",
     "text": [
      "Train accuracy: 80.71\n",
      "Dev accuracy: 86.39\n",
      "Epoch 2\n"
     ]
    },
    {
     "name": "stderr",
     "output_type": "stream",
     "text": [
      "Training: 100%|██████████| 782/782 [00:04<00:00, 185.01it/s, loss=0.802]\n"
     ]
    },
    {
     "name": "stdout",
     "output_type": "stream",
     "text": [
      "Train accuracy: 83.43\n",
      "Dev accuracy: 89.96\n",
      "Epoch 3\n"
     ]
    },
    {
     "name": "stderr",
     "output_type": "stream",
     "text": [
      "Training: 100%|██████████| 782/782 [00:01<00:00, 406.28it/s, loss=0.621]\n"
     ]
    },
    {
     "name": "stdout",
     "output_type": "stream",
     "text": [
      "Train accuracy: 87.62\n",
      "Dev accuracy: 88.35\n",
      "Epoch 4\n"
     ]
    },
    {
     "name": "stderr",
     "output_type": "stream",
     "text": [
      "Training: 100%|██████████| 782/782 [00:01<00:00, 413.35it/s, loss=0.546]\n"
     ]
    },
    {
     "name": "stdout",
     "output_type": "stream",
     "text": [
      "Train accuracy: 90.18\n",
      "Dev accuracy: 91.63\n",
      "Epoch 5\n"
     ]
    },
    {
     "name": "stderr",
     "output_type": "stream",
     "text": [
      "Training: 100%|██████████| 782/782 [00:02<00:00, 380.94it/s, loss=0.51] \n"
     ]
    },
    {
     "name": "stdout",
     "output_type": "stream",
     "text": [
      "Train accuracy: 89.81\n",
      "Dev accuracy: 92.68\n"
     ]
    },
    {
     "name": "stderr",
     "output_type": "stream",
     "text": [
      "/var/folders/91/2fbkbbgj7471rgv8k0yy0sn40000gn/T/ipykernel_26651/2411159783.py:30: FutureWarning: The frame.append method is deprecated and will be removed from pandas in a future version. Use pandas.concat instead.\n",
      "  df = df.append({\n"
     ]
    },
    {
     "name": "stdout",
     "output_type": "stream",
     "text": [
      "****************************************************************************************************\n",
      "Running with lr: 0.0001, n_epochs: 5, batch_size: 64, lr_scheduler: no scheduler, patience_threshold: 3\n",
      "Epoch 1\n"
     ]
    },
    {
     "name": "stderr",
     "output_type": "stream",
     "text": [
      "Training: 100%|██████████| 782/782 [00:02<00:00, 307.90it/s, loss=1.1] \n"
     ]
    },
    {
     "name": "stdout",
     "output_type": "stream",
     "text": [
      "Train accuracy: 83.27\n",
      "Dev accuracy: 84.79\n",
      "Epoch 2\n"
     ]
    },
    {
     "name": "stderr",
     "output_type": "stream",
     "text": [
      "Training: 100%|██████████| 782/782 [00:02<00:00, 317.52it/s, loss=0.711]\n"
     ]
    },
    {
     "name": "stdout",
     "output_type": "stream",
     "text": [
      "Train accuracy: 87.10\n",
      "Dev accuracy: 89.69\n",
      "Epoch 3\n"
     ]
    },
    {
     "name": "stderr",
     "output_type": "stream",
     "text": [
      "Training: 100%|██████████| 782/782 [00:02<00:00, 360.72it/s, loss=0.536]\n"
     ]
    },
    {
     "name": "stdout",
     "output_type": "stream",
     "text": [
      "Train accuracy: 88.72\n",
      "Dev accuracy: 93.76\n",
      "Epoch 4\n"
     ]
    },
    {
     "name": "stderr",
     "output_type": "stream",
     "text": [
      "Training: 100%|██████████| 782/782 [00:02<00:00, 265.22it/s, loss=0.459]\n"
     ]
    },
    {
     "name": "stdout",
     "output_type": "stream",
     "text": [
      "Train accuracy: 88.37\n",
      "Dev accuracy: 94.24\n",
      "Epoch 5\n"
     ]
    },
    {
     "name": "stderr",
     "output_type": "stream",
     "text": [
      "Training: 100%|██████████| 782/782 [00:09<00:00, 83.96it/s, loss=0.399] \n"
     ]
    },
    {
     "name": "stdout",
     "output_type": "stream",
     "text": [
      "Train accuracy: 88.30\n",
      "Dev accuracy: 91.81\n"
     ]
    },
    {
     "name": "stderr",
     "output_type": "stream",
     "text": [
      "/var/folders/91/2fbkbbgj7471rgv8k0yy0sn40000gn/T/ipykernel_26651/2411159783.py:30: FutureWarning: The frame.append method is deprecated and will be removed from pandas in a future version. Use pandas.concat instead.\n",
      "  df = df.append({\n"
     ]
    },
    {
     "name": "stdout",
     "output_type": "stream",
     "text": [
      "****************************************************************************************************\n",
      "Running with lr: 0.0001, n_epochs: 10, batch_size: 4, lr_scheduler: cosine, patience_threshold: 3\n",
      "Epoch 1\n"
     ]
    },
    {
     "name": "stderr",
     "output_type": "stream",
     "text": [
      "Training: 100%|██████████| 12500/12500 [00:05<00:00, 2474.24it/s, loss=0.555]\n"
     ]
    },
    {
     "name": "stdout",
     "output_type": "stream",
     "text": [
      "Train accuracy: 90.66\n",
      "Dev accuracy: 92.25\n",
      "Epoch 2\n"
     ]
    },
    {
     "name": "stderr",
     "output_type": "stream",
     "text": [
      "Training: 100%|██████████| 12500/12500 [00:05<00:00, 2371.71it/s, loss=0.409]\n"
     ]
    },
    {
     "name": "stdout",
     "output_type": "stream",
     "text": [
      "Train accuracy: 92.90\n",
      "Dev accuracy: 93.73\n",
      "Epoch 3\n"
     ]
    },
    {
     "name": "stderr",
     "output_type": "stream",
     "text": [
      "Training: 100%|██████████| 12500/12500 [00:05<00:00, 2444.03it/s, loss=0.347]\n"
     ]
    },
    {
     "name": "stdout",
     "output_type": "stream",
     "text": [
      "Train accuracy: 93.73\n",
      "Dev accuracy: 94.49\n",
      "Epoch 4\n"
     ]
    },
    {
     "name": "stderr",
     "output_type": "stream",
     "text": [
      "Training: 100%|██████████| 12500/12500 [00:05<00:00, 2195.13it/s, loss=0.309]\n"
     ]
    },
    {
     "name": "stdout",
     "output_type": "stream",
     "text": [
      "Train accuracy: 94.59\n",
      "Dev accuracy: 95.16\n",
      "Epoch 5\n"
     ]
    },
    {
     "name": "stderr",
     "output_type": "stream",
     "text": [
      "Training: 100%|██████████| 12500/12500 [00:04<00:00, 2570.40it/s, loss=0.28] \n"
     ]
    },
    {
     "name": "stdout",
     "output_type": "stream",
     "text": [
      "Train accuracy: 95.08\n",
      "Dev accuracy: 95.52\n",
      "Epoch 6\n"
     ]
    },
    {
     "name": "stderr",
     "output_type": "stream",
     "text": [
      "Training: 100%|██████████| 12500/12500 [00:04<00:00, 2621.82it/s, loss=0.258]\n"
     ]
    },
    {
     "name": "stdout",
     "output_type": "stream",
     "text": [
      "Train accuracy: 95.79\n",
      "Dev accuracy: 96.00\n",
      "Epoch 7\n"
     ]
    },
    {
     "name": "stderr",
     "output_type": "stream",
     "text": [
      "Training: 100%|██████████| 12500/12500 [00:04<00:00, 2518.76it/s, loss=0.242]\n"
     ]
    },
    {
     "name": "stdout",
     "output_type": "stream",
     "text": [
      "Train accuracy: 96.17\n",
      "Dev accuracy: 95.96\n",
      "Epoch 8\n"
     ]
    },
    {
     "name": "stderr",
     "output_type": "stream",
     "text": [
      "Training: 100%|██████████| 12500/12500 [00:05<00:00, 2350.66it/s, loss=0.229]\n"
     ]
    },
    {
     "name": "stdout",
     "output_type": "stream",
     "text": [
      "Train accuracy: 96.29\n",
      "Dev accuracy: 96.08\n",
      "Epoch 9\n"
     ]
    },
    {
     "name": "stderr",
     "output_type": "stream",
     "text": [
      "Training: 100%|██████████| 12500/12500 [00:04<00:00, 2574.99it/s, loss=0.219]\n"
     ]
    },
    {
     "name": "stdout",
     "output_type": "stream",
     "text": [
      "Train accuracy: 96.38\n",
      "Dev accuracy: 96.00\n",
      "Epoch 10\n"
     ]
    },
    {
     "name": "stderr",
     "output_type": "stream",
     "text": [
      "Training: 100%|██████████| 12500/12500 [00:04<00:00, 2511.59it/s, loss=0.209]\n"
     ]
    },
    {
     "name": "stdout",
     "output_type": "stream",
     "text": [
      "Train accuracy: 96.38\n",
      "Dev accuracy: 95.96\n"
     ]
    },
    {
     "name": "stderr",
     "output_type": "stream",
     "text": [
      "/var/folders/91/2fbkbbgj7471rgv8k0yy0sn40000gn/T/ipykernel_26651/2411159783.py:30: FutureWarning: The frame.append method is deprecated and will be removed from pandas in a future version. Use pandas.concat instead.\n",
      "  df = df.append({\n"
     ]
    },
    {
     "name": "stdout",
     "output_type": "stream",
     "text": [
      "****************************************************************************************************\n",
      "Running with lr: 0.0001, n_epochs: 10, batch_size: 4, lr_scheduler: no scheduler, patience_threshold: 3\n",
      "Epoch 1\n"
     ]
    },
    {
     "name": "stderr",
     "output_type": "stream",
     "text": [
      "Training: 100%|██████████| 12500/12500 [00:05<00:00, 2325.63it/s, loss=0.553]\n"
     ]
    },
    {
     "name": "stdout",
     "output_type": "stream",
     "text": [
      "Train accuracy: 91.06\n",
      "Dev accuracy: 92.25\n",
      "Epoch 2\n"
     ]
    },
    {
     "name": "stderr",
     "output_type": "stream",
     "text": [
      "Training: 100%|██████████| 12500/12500 [00:04<00:00, 2504.69it/s, loss=0.411]\n"
     ]
    },
    {
     "name": "stdout",
     "output_type": "stream",
     "text": [
      "Train accuracy: 92.54\n",
      "Dev accuracy: 92.97\n",
      "Epoch 3\n"
     ]
    },
    {
     "name": "stderr",
     "output_type": "stream",
     "text": [
      "Training: 100%|██████████| 12500/12500 [00:04<00:00, 2564.86it/s, loss=0.347]\n"
     ]
    },
    {
     "name": "stdout",
     "output_type": "stream",
     "text": [
      "Train accuracy: 94.02\n",
      "Dev accuracy: 95.08\n",
      "Epoch 4\n"
     ]
    },
    {
     "name": "stderr",
     "output_type": "stream",
     "text": [
      "Training: 100%|██████████| 12500/12500 [00:04<00:00, 2755.17it/s, loss=0.309]\n"
     ]
    },
    {
     "name": "stdout",
     "output_type": "stream",
     "text": [
      "Train accuracy: 94.62\n",
      "Dev accuracy: 95.04\n",
      "Epoch 5\n"
     ]
    },
    {
     "name": "stderr",
     "output_type": "stream",
     "text": [
      "Training: 100%|██████████| 12500/12500 [00:04<00:00, 2689.29it/s, loss=0.281]\n"
     ]
    },
    {
     "name": "stdout",
     "output_type": "stream",
     "text": [
      "Train accuracy: 94.84\n",
      "Dev accuracy: 95.16\n",
      "Epoch 6\n"
     ]
    },
    {
     "name": "stderr",
     "output_type": "stream",
     "text": [
      "Training: 100%|██████████| 12500/12500 [00:04<00:00, 2708.52it/s, loss=0.26] \n"
     ]
    },
    {
     "name": "stdout",
     "output_type": "stream",
     "text": [
      "Train accuracy: 95.86\n",
      "Dev accuracy: 96.24\n",
      "Epoch 7\n"
     ]
    },
    {
     "name": "stderr",
     "output_type": "stream",
     "text": [
      "Training: 100%|██████████| 12500/12500 [00:04<00:00, 2769.65it/s, loss=0.243]\n"
     ]
    },
    {
     "name": "stdout",
     "output_type": "stream",
     "text": [
      "Train accuracy: 95.67\n",
      "Dev accuracy: 95.64\n",
      "Epoch 8\n"
     ]
    },
    {
     "name": "stderr",
     "output_type": "stream",
     "text": [
      "Training: 100%|██████████| 12500/12500 [00:04<00:00, 2540.07it/s, loss=0.228]\n"
     ]
    },
    {
     "name": "stdout",
     "output_type": "stream",
     "text": [
      "Train accuracy: 96.28\n",
      "Dev accuracy: 95.80\n",
      "Epoch 9\n"
     ]
    },
    {
     "name": "stderr",
     "output_type": "stream",
     "text": [
      "Training: 100%|██████████| 12500/12500 [00:04<00:00, 2726.39it/s, loss=0.216]\n"
     ]
    },
    {
     "name": "stdout",
     "output_type": "stream",
     "text": [
      "Train accuracy: 96.18\n",
      "Dev accuracy: 96.44\n",
      "Epoch 10\n"
     ]
    },
    {
     "name": "stderr",
     "output_type": "stream",
     "text": [
      "Training: 100%|██████████| 12500/12500 [00:04<00:00, 2690.95it/s, loss=0.205]\n"
     ]
    },
    {
     "name": "stdout",
     "output_type": "stream",
     "text": [
      "Train accuracy: 96.82\n",
      "Dev accuracy: 96.24\n"
     ]
    },
    {
     "name": "stderr",
     "output_type": "stream",
     "text": [
      "/var/folders/91/2fbkbbgj7471rgv8k0yy0sn40000gn/T/ipykernel_26651/2411159783.py:30: FutureWarning: The frame.append method is deprecated and will be removed from pandas in a future version. Use pandas.concat instead.\n",
      "  df = df.append({\n"
     ]
    },
    {
     "name": "stdout",
     "output_type": "stream",
     "text": [
      "****************************************************************************************************\n",
      "Running with lr: 0.0001, n_epochs: 10, batch_size: 16, lr_scheduler: cosine, patience_threshold: 3\n",
      "Epoch 1\n"
     ]
    },
    {
     "name": "stderr",
     "output_type": "stream",
     "text": [
      "Training: 100%|██████████| 3125/3125 [00:05<00:00, 560.75it/s, loss=0.802]\n"
     ]
    },
    {
     "name": "stdout",
     "output_type": "stream",
     "text": [
      "Train accuracy: 86.56\n",
      "Dev accuracy: 89.02\n",
      "Epoch 2\n"
     ]
    },
    {
     "name": "stderr",
     "output_type": "stream",
     "text": [
      "Training: 100%|██████████| 3125/3125 [00:05<00:00, 537.26it/s, loss=0.554]\n"
     ]
    },
    {
     "name": "stdout",
     "output_type": "stream",
     "text": [
      "Train accuracy: 89.68\n",
      "Dev accuracy: 91.49\n",
      "Epoch 3\n"
     ]
    },
    {
     "name": "stderr",
     "output_type": "stream",
     "text": [
      "Training: 100%|██████████| 3125/3125 [00:06<00:00, 449.26it/s, loss=0.453]\n"
     ]
    },
    {
     "name": "stdout",
     "output_type": "stream",
     "text": [
      "Train accuracy: 91.83\n",
      "Dev accuracy: 92.61\n",
      "Epoch 4\n"
     ]
    },
    {
     "name": "stderr",
     "output_type": "stream",
     "text": [
      "Training: 100%|██████████| 3125/3125 [00:06<00:00, 471.95it/s, loss=0.4]  \n"
     ]
    },
    {
     "name": "stdout",
     "output_type": "stream",
     "text": [
      "Train accuracy: 91.39\n",
      "Dev accuracy: 91.66\n",
      "Epoch 5\n"
     ]
    },
    {
     "name": "stderr",
     "output_type": "stream",
     "text": [
      "Training: 100%|██████████| 3125/3125 [00:09<00:00, 327.96it/s, loss=0.364]\n"
     ]
    },
    {
     "name": "stdout",
     "output_type": "stream",
     "text": [
      "Train accuracy: 93.18\n",
      "Dev accuracy: 93.35\n",
      "Epoch 6\n"
     ]
    },
    {
     "name": "stderr",
     "output_type": "stream",
     "text": [
      "Training: 100%|██████████| 3125/3125 [00:07<00:00, 427.03it/s, loss=0.339]\n"
     ]
    },
    {
     "name": "stdout",
     "output_type": "stream",
     "text": [
      "Train accuracy: 93.38\n",
      "Dev accuracy: 93.58\n",
      "Epoch 7\n"
     ]
    },
    {
     "name": "stderr",
     "output_type": "stream",
     "text": [
      "Training: 100%|██████████| 3125/3125 [00:05<00:00, 535.31it/s, loss=0.32] \n"
     ]
    },
    {
     "name": "stdout",
     "output_type": "stream",
     "text": [
      "Train accuracy: 94.59\n",
      "Dev accuracy: 93.58\n",
      "Epoch 8\n"
     ]
    },
    {
     "name": "stderr",
     "output_type": "stream",
     "text": [
      "Training: 100%|██████████| 3125/3125 [00:06<00:00, 514.44it/s, loss=0.304]\n"
     ]
    },
    {
     "name": "stdout",
     "output_type": "stream",
     "text": [
      "Train accuracy: 94.59\n",
      "Dev accuracy: 93.83\n",
      "Epoch 9\n"
     ]
    },
    {
     "name": "stderr",
     "output_type": "stream",
     "text": [
      "Training: 100%|██████████| 3125/3125 [00:06<00:00, 453.91it/s, loss=0.293]\n"
     ]
    },
    {
     "name": "stdout",
     "output_type": "stream",
     "text": [
      "Train accuracy: 94.78\n",
      "Dev accuracy: 94.31\n",
      "Epoch 10\n"
     ]
    },
    {
     "name": "stderr",
     "output_type": "stream",
     "text": [
      "Training: 100%|██████████| 3125/3125 [00:05<00:00, 548.09it/s, loss=0.284]\n"
     ]
    },
    {
     "name": "stdout",
     "output_type": "stream",
     "text": [
      "Train accuracy: 94.82\n",
      "Dev accuracy: 93.99\n"
     ]
    },
    {
     "name": "stderr",
     "output_type": "stream",
     "text": [
      "/var/folders/91/2fbkbbgj7471rgv8k0yy0sn40000gn/T/ipykernel_26651/2411159783.py:30: FutureWarning: The frame.append method is deprecated and will be removed from pandas in a future version. Use pandas.concat instead.\n",
      "  df = df.append({\n"
     ]
    },
    {
     "name": "stdout",
     "output_type": "stream",
     "text": [
      "****************************************************************************************************\n",
      "Running with lr: 0.0001, n_epochs: 10, batch_size: 16, lr_scheduler: no scheduler, patience_threshold: 3\n",
      "Epoch 1\n"
     ]
    },
    {
     "name": "stderr",
     "output_type": "stream",
     "text": [
      "Training: 100%|██████████| 3125/3125 [00:07<00:00, 439.52it/s, loss=0.751]\n"
     ]
    },
    {
     "name": "stdout",
     "output_type": "stream",
     "text": [
      "Train accuracy: 87.05\n",
      "Dev accuracy: 88.46\n",
      "Epoch 2\n"
     ]
    },
    {
     "name": "stderr",
     "output_type": "stream",
     "text": [
      "Training: 100%|██████████| 3125/3125 [00:07<00:00, 401.44it/s, loss=0.525]\n"
     ]
    },
    {
     "name": "stdout",
     "output_type": "stream",
     "text": [
      "Train accuracy: 89.10\n",
      "Dev accuracy: 90.21\n",
      "Epoch 3\n"
     ]
    },
    {
     "name": "stderr",
     "output_type": "stream",
     "text": [
      "Training: 100%|██████████| 3125/3125 [00:08<00:00, 350.03it/s, loss=0.436]\n"
     ]
    },
    {
     "name": "stdout",
     "output_type": "stream",
     "text": [
      "Train accuracy: 90.81\n",
      "Dev accuracy: 92.36\n",
      "Epoch 4\n"
     ]
    },
    {
     "name": "stderr",
     "output_type": "stream",
     "text": [
      "Training: 100%|██████████| 3125/3125 [00:08<00:00, 372.73it/s, loss=0.383]\n"
     ]
    },
    {
     "name": "stdout",
     "output_type": "stream",
     "text": [
      "Train accuracy: 92.84\n",
      "Dev accuracy: 93.98\n",
      "Epoch 5\n"
     ]
    },
    {
     "name": "stderr",
     "output_type": "stream",
     "text": [
      "Training: 100%|██████████| 3125/3125 [00:05<00:00, 616.22it/s, loss=0.348]\n"
     ]
    },
    {
     "name": "stdout",
     "output_type": "stream",
     "text": [
      "Train accuracy: 92.96\n",
      "Dev accuracy: 93.83\n",
      "Epoch 6\n"
     ]
    },
    {
     "name": "stderr",
     "output_type": "stream",
     "text": [
      "Training: 100%|██████████| 3125/3125 [00:10<00:00, 310.49it/s, loss=0.32] \n"
     ]
    },
    {
     "name": "stdout",
     "output_type": "stream",
     "text": [
      "Train accuracy: 92.89\n",
      "Dev accuracy: 93.32\n",
      "Epoch 7\n"
     ]
    },
    {
     "name": "stderr",
     "output_type": "stream",
     "text": [
      "Training: 100%|██████████| 3125/3125 [00:06<00:00, 467.45it/s, loss=0.302]\n"
     ]
    },
    {
     "name": "stdout",
     "output_type": "stream",
     "text": [
      "Train accuracy: 93.79\n",
      "Dev accuracy: 94.21\n",
      "Epoch 8\n"
     ]
    },
    {
     "name": "stderr",
     "output_type": "stream",
     "text": [
      "Training: 100%|██████████| 3125/3125 [00:05<00:00, 566.18it/s, loss=0.283]\n"
     ]
    },
    {
     "name": "stdout",
     "output_type": "stream",
     "text": [
      "Train accuracy: 92.30\n",
      "Dev accuracy: 94.06\n",
      "Epoch 9\n"
     ]
    },
    {
     "name": "stderr",
     "output_type": "stream",
     "text": [
      "Training: 100%|██████████| 3125/3125 [00:04<00:00, 744.34it/s, loss=0.268]\n"
     ]
    },
    {
     "name": "stdout",
     "output_type": "stream",
     "text": [
      "Train accuracy: 94.34\n",
      "Dev accuracy: 93.51\n",
      "Epoch 10\n"
     ]
    },
    {
     "name": "stderr",
     "output_type": "stream",
     "text": [
      "Training: 100%|██████████| 3125/3125 [00:08<00:00, 347.78it/s, loss=0.255]\n"
     ]
    },
    {
     "name": "stdout",
     "output_type": "stream",
     "text": [
      "Train accuracy: 94.05\n",
      "Dev accuracy: 93.99\n"
     ]
    },
    {
     "name": "stderr",
     "output_type": "stream",
     "text": [
      "/var/folders/91/2fbkbbgj7471rgv8k0yy0sn40000gn/T/ipykernel_26651/2411159783.py:30: FutureWarning: The frame.append method is deprecated and will be removed from pandas in a future version. Use pandas.concat instead.\n",
      "  df = df.append({\n"
     ]
    },
    {
     "name": "stdout",
     "output_type": "stream",
     "text": [
      "****************************************************************************************************\n",
      "Running with lr: 0.0001, n_epochs: 10, batch_size: 64, lr_scheduler: cosine, patience_threshold: 3\n",
      "Epoch 1\n"
     ]
    },
    {
     "name": "stderr",
     "output_type": "stream",
     "text": [
      "Training: 100%|██████████| 782/782 [00:01<00:00, 450.25it/s, loss=1.01]\n"
     ]
    },
    {
     "name": "stdout",
     "output_type": "stream",
     "text": [
      "Train accuracy: 80.90\n",
      "Dev accuracy: 85.66\n",
      "Epoch 2\n"
     ]
    },
    {
     "name": "stderr",
     "output_type": "stream",
     "text": [
      "Training: 100%|██████████| 782/782 [00:01<00:00, 438.02it/s, loss=0.632]\n"
     ]
    },
    {
     "name": "stdout",
     "output_type": "stream",
     "text": [
      "Train accuracy: 86.05\n",
      "Dev accuracy: 91.70\n",
      "Epoch 3\n"
     ]
    },
    {
     "name": "stderr",
     "output_type": "stream",
     "text": [
      "Training: 100%|██████████| 782/782 [00:03<00:00, 215.61it/s, loss=0.497]\n"
     ]
    },
    {
     "name": "stdout",
     "output_type": "stream",
     "text": [
      "Train accuracy: 87.83\n",
      "Dev accuracy: 91.41\n",
      "Epoch 4\n"
     ]
    },
    {
     "name": "stderr",
     "output_type": "stream",
     "text": [
      "Training: 100%|██████████| 782/782 [00:02<00:00, 307.14it/s, loss=0.417]\n"
     ]
    },
    {
     "name": "stdout",
     "output_type": "stream",
     "text": [
      "Train accuracy: 89.24\n",
      "Dev accuracy: 92.51\n",
      "Epoch 5\n"
     ]
    },
    {
     "name": "stderr",
     "output_type": "stream",
     "text": [
      "Training: 100%|██████████| 782/782 [00:06<00:00, 122.37it/s, loss=0.369]\n"
     ]
    },
    {
     "name": "stdout",
     "output_type": "stream",
     "text": [
      "Train accuracy: 89.10\n",
      "Dev accuracy: 91.72\n",
      "Epoch 6\n"
     ]
    },
    {
     "name": "stderr",
     "output_type": "stream",
     "text": [
      "Training: 100%|██████████| 782/782 [00:01<00:00, 435.42it/s, loss=0.338]\n"
     ]
    },
    {
     "name": "stdout",
     "output_type": "stream",
     "text": [
      "Train accuracy: 90.41\n",
      "Dev accuracy: 93.46\n",
      "Epoch 7\n"
     ]
    },
    {
     "name": "stderr",
     "output_type": "stream",
     "text": [
      "Training: 100%|██████████| 782/782 [00:07<00:00, 103.89it/s, loss=0.317]\n"
     ]
    },
    {
     "name": "stdout",
     "output_type": "stream",
     "text": [
      "Train accuracy: 90.06\n",
      "Dev accuracy: 93.25\n",
      "Epoch 8\n"
     ]
    },
    {
     "name": "stderr",
     "output_type": "stream",
     "text": [
      "Training: 100%|██████████| 782/782 [00:02<00:00, 349.97it/s, loss=0.306]\n"
     ]
    },
    {
     "name": "stdout",
     "output_type": "stream",
     "text": [
      "Train accuracy: 91.51\n",
      "Dev accuracy: 95.99\n",
      "Epoch 9\n"
     ]
    },
    {
     "name": "stderr",
     "output_type": "stream",
     "text": [
      "Training: 100%|██████████| 782/782 [00:02<00:00, 303.63it/s, loss=0.296]\n"
     ]
    },
    {
     "name": "stdout",
     "output_type": "stream",
     "text": [
      "Train accuracy: 92.16\n",
      "Dev accuracy: 96.23\n",
      "Epoch 10\n"
     ]
    },
    {
     "name": "stderr",
     "output_type": "stream",
     "text": [
      "Training: 100%|██████████| 782/782 [00:02<00:00, 374.75it/s, loss=0.293]\n"
     ]
    },
    {
     "name": "stdout",
     "output_type": "stream",
     "text": [
      "Train accuracy: 92.00\n",
      "Dev accuracy: 95.93\n"
     ]
    },
    {
     "name": "stderr",
     "output_type": "stream",
     "text": [
      "/var/folders/91/2fbkbbgj7471rgv8k0yy0sn40000gn/T/ipykernel_26651/2411159783.py:30: FutureWarning: The frame.append method is deprecated and will be removed from pandas in a future version. Use pandas.concat instead.\n",
      "  df = df.append({\n"
     ]
    },
    {
     "name": "stdout",
     "output_type": "stream",
     "text": [
      "****************************************************************************************************\n",
      "Running with lr: 0.0001, n_epochs: 10, batch_size: 64, lr_scheduler: no scheduler, patience_threshold: 3\n",
      "Epoch 1\n"
     ]
    },
    {
     "name": "stderr",
     "output_type": "stream",
     "text": [
      "Training: 100%|██████████| 782/782 [00:01<00:00, 403.02it/s, loss=1.13]\n"
     ]
    },
    {
     "name": "stdout",
     "output_type": "stream",
     "text": [
      "Train accuracy: 80.85\n",
      "Dev accuracy: 83.39\n",
      "Epoch 2\n"
     ]
    },
    {
     "name": "stderr",
     "output_type": "stream",
     "text": [
      "Training: 100%|██████████| 782/782 [00:01<00:00, 441.39it/s, loss=0.722]\n"
     ]
    },
    {
     "name": "stdout",
     "output_type": "stream",
     "text": [
      "Train accuracy: 84.49\n",
      "Dev accuracy: 87.55\n",
      "Epoch 3\n"
     ]
    },
    {
     "name": "stderr",
     "output_type": "stream",
     "text": [
      "Training: 100%|██████████| 782/782 [00:01<00:00, 460.83it/s, loss=0.568]\n"
     ]
    },
    {
     "name": "stdout",
     "output_type": "stream",
     "text": [
      "Train accuracy: 88.47\n",
      "Dev accuracy: 91.48\n",
      "Epoch 4\n"
     ]
    },
    {
     "name": "stderr",
     "output_type": "stream",
     "text": [
      "Training: 100%|██████████| 782/782 [00:01<00:00, 522.28it/s, loss=0.472]\n"
     ]
    },
    {
     "name": "stdout",
     "output_type": "stream",
     "text": [
      "Train accuracy: 88.35\n",
      "Dev accuracy: 90.27\n",
      "Epoch 5\n"
     ]
    },
    {
     "name": "stderr",
     "output_type": "stream",
     "text": [
      "Training: 100%|██████████| 782/782 [00:01<00:00, 396.19it/s, loss=0.413]\n"
     ]
    },
    {
     "name": "stdout",
     "output_type": "stream",
     "text": [
      "Train accuracy: 87.83\n",
      "Dev accuracy: 90.88\n",
      "Epoch 6\n"
     ]
    },
    {
     "name": "stderr",
     "output_type": "stream",
     "text": [
      "Training: 100%|██████████| 782/782 [00:02<00:00, 348.78it/s, loss=0.373]\n"
     ]
    },
    {
     "name": "stdout",
     "output_type": "stream",
     "text": [
      "Train accuracy: 89.24\n",
      "Dev accuracy: 92.40\n",
      "Epoch 7\n"
     ]
    },
    {
     "name": "stderr",
     "output_type": "stream",
     "text": [
      "Training: 100%|██████████| 782/782 [00:02<00:00, 382.06it/s, loss=0.342]\n"
     ]
    },
    {
     "name": "stdout",
     "output_type": "stream",
     "text": [
      "Train accuracy: 89.39\n",
      "Dev accuracy: 92.23\n",
      "Epoch 8\n"
     ]
    },
    {
     "name": "stderr",
     "output_type": "stream",
     "text": [
      "Training: 100%|██████████| 782/782 [00:05<00:00, 134.25it/s, loss=0.314]\n"
     ]
    },
    {
     "name": "stdout",
     "output_type": "stream",
     "text": [
      "Train accuracy: 90.97\n",
      "Dev accuracy: 92.89\n",
      "Epoch 9\n"
     ]
    },
    {
     "name": "stderr",
     "output_type": "stream",
     "text": [
      "Training: 100%|██████████| 782/782 [00:01<00:00, 391.94it/s, loss=0.292]\n"
     ]
    },
    {
     "name": "stdout",
     "output_type": "stream",
     "text": [
      "Train accuracy: 90.43\n",
      "Dev accuracy: 93.16\n",
      "Epoch 10\n"
     ]
    },
    {
     "name": "stderr",
     "output_type": "stream",
     "text": [
      "Training: 100%|██████████| 782/782 [00:02<00:00, 303.66it/s, loss=0.278]\n"
     ]
    },
    {
     "name": "stdout",
     "output_type": "stream",
     "text": [
      "Train accuracy: 89.93\n",
      "Dev accuracy: 92.95\n"
     ]
    },
    {
     "name": "stderr",
     "output_type": "stream",
     "text": [
      "/var/folders/91/2fbkbbgj7471rgv8k0yy0sn40000gn/T/ipykernel_26651/2411159783.py:30: FutureWarning: The frame.append method is deprecated and will be removed from pandas in a future version. Use pandas.concat instead.\n",
      "  df = df.append({\n"
     ]
    },
    {
     "name": "stdout",
     "output_type": "stream",
     "text": [
      "****************************************************************************************************\n",
      "Running with lr: 0.0001, n_epochs: 20, batch_size: 4, lr_scheduler: cosine, patience_threshold: 3\n",
      "Epoch 1\n"
     ]
    },
    {
     "name": "stderr",
     "output_type": "stream",
     "text": [
      "Training: 100%|██████████| 12500/12500 [00:05<00:00, 2443.68it/s, loss=0.571]\n"
     ]
    },
    {
     "name": "stdout",
     "output_type": "stream",
     "text": [
      "Train accuracy: 91.13\n",
      "Dev accuracy: 92.41\n",
      "Epoch 2\n"
     ]
    },
    {
     "name": "stderr",
     "output_type": "stream",
     "text": [
      "Training: 100%|██████████| 12500/12500 [00:05<00:00, 2267.16it/s, loss=0.413]\n"
     ]
    },
    {
     "name": "stdout",
     "output_type": "stream",
     "text": [
      "Train accuracy: 93.25\n",
      "Dev accuracy: 94.01\n",
      "Epoch 3\n"
     ]
    },
    {
     "name": "stderr",
     "output_type": "stream",
     "text": [
      "Training: 100%|██████████| 12500/12500 [00:05<00:00, 2412.15it/s, loss=0.346]\n"
     ]
    },
    {
     "name": "stdout",
     "output_type": "stream",
     "text": [
      "Train accuracy: 94.24\n",
      "Dev accuracy: 94.96\n",
      "Epoch 4\n"
     ]
    },
    {
     "name": "stderr",
     "output_type": "stream",
     "text": [
      "Training: 100%|██████████| 12500/12500 [00:04<00:00, 2584.66it/s, loss=0.305]\n"
     ]
    },
    {
     "name": "stdout",
     "output_type": "stream",
     "text": [
      "Train accuracy: 94.40\n",
      "Dev accuracy: 94.64\n",
      "Epoch 5\n"
     ]
    },
    {
     "name": "stderr",
     "output_type": "stream",
     "text": [
      "Training: 100%|██████████| 12500/12500 [00:04<00:00, 2624.99it/s, loss=0.276]\n"
     ]
    },
    {
     "name": "stdout",
     "output_type": "stream",
     "text": [
      "Train accuracy: 95.13\n",
      "Dev accuracy: 95.64\n",
      "Epoch 6\n"
     ]
    },
    {
     "name": "stderr",
     "output_type": "stream",
     "text": [
      "Training: 100%|██████████| 12500/12500 [00:05<00:00, 2471.16it/s, loss=0.253]\n"
     ]
    },
    {
     "name": "stdout",
     "output_type": "stream",
     "text": [
      "Train accuracy: 94.58\n",
      "Dev accuracy: 95.24\n",
      "Epoch 7\n"
     ]
    },
    {
     "name": "stderr",
     "output_type": "stream",
     "text": [
      "Training: 100%|██████████| 12500/12500 [00:04<00:00, 2589.04it/s, loss=0.237]\n"
     ]
    },
    {
     "name": "stdout",
     "output_type": "stream",
     "text": [
      "Train accuracy: 96.46\n",
      "Dev accuracy: 96.24\n",
      "Epoch 8\n"
     ]
    },
    {
     "name": "stderr",
     "output_type": "stream",
     "text": [
      "Training: 100%|██████████| 12500/12500 [00:04<00:00, 2634.84it/s, loss=0.222]\n"
     ]
    },
    {
     "name": "stdout",
     "output_type": "stream",
     "text": [
      "Train accuracy: 96.08\n",
      "Dev accuracy: 96.44\n",
      "Epoch 9\n"
     ]
    },
    {
     "name": "stderr",
     "output_type": "stream",
     "text": [
      "Training: 100%|██████████| 12500/12500 [00:04<00:00, 2725.87it/s, loss=0.21] \n"
     ]
    },
    {
     "name": "stdout",
     "output_type": "stream",
     "text": [
      "Train accuracy: 96.84\n",
      "Dev accuracy: 96.92\n",
      "Epoch 10\n"
     ]
    },
    {
     "name": "stderr",
     "output_type": "stream",
     "text": [
      "Training: 100%|██████████| 12500/12500 [00:04<00:00, 2786.09it/s, loss=0.2]  \n"
     ]
    },
    {
     "name": "stdout",
     "output_type": "stream",
     "text": [
      "Train accuracy: 96.99\n",
      "Dev accuracy: 96.84\n",
      "Epoch 11\n"
     ]
    },
    {
     "name": "stderr",
     "output_type": "stream",
     "text": [
      "Training: 100%|██████████| 12500/12500 [00:04<00:00, 2593.04it/s, loss=0.19] \n"
     ]
    },
    {
     "name": "stdout",
     "output_type": "stream",
     "text": [
      "Train accuracy: 97.05\n",
      "Dev accuracy: 96.84\n",
      "Epoch 12\n"
     ]
    },
    {
     "name": "stderr",
     "output_type": "stream",
     "text": [
      "Training: 100%|██████████| 12500/12500 [00:04<00:00, 2745.14it/s, loss=0.182]\n"
     ]
    },
    {
     "name": "stdout",
     "output_type": "stream",
     "text": [
      "Train accuracy: 97.20\n",
      "Dev accuracy: 96.84\n",
      "Epoch 13\n"
     ]
    },
    {
     "name": "stderr",
     "output_type": "stream",
     "text": [
      "Training: 100%|██████████| 12500/12500 [00:04<00:00, 2666.28it/s, loss=0.175]\n"
     ]
    },
    {
     "name": "stdout",
     "output_type": "stream",
     "text": [
      "Train accuracy: 97.42\n",
      "Dev accuracy: 96.92\n",
      "Dev accuracy not improving for 3 epochs. Stopping.\n"
     ]
    },
    {
     "name": "stderr",
     "output_type": "stream",
     "text": [
      "/var/folders/91/2fbkbbgj7471rgv8k0yy0sn40000gn/T/ipykernel_26651/2411159783.py:30: FutureWarning: The frame.append method is deprecated and will be removed from pandas in a future version. Use pandas.concat instead.\n",
      "  df = df.append({\n"
     ]
    },
    {
     "name": "stdout",
     "output_type": "stream",
     "text": [
      "****************************************************************************************************\n",
      "Running with lr: 0.0001, n_epochs: 20, batch_size: 4, lr_scheduler: no scheduler, patience_threshold: 3\n",
      "Epoch 1\n"
     ]
    },
    {
     "name": "stderr",
     "output_type": "stream",
     "text": [
      "Training: 100%|██████████| 12500/12500 [00:04<00:00, 2615.42it/s, loss=0.619]\n"
     ]
    },
    {
     "name": "stdout",
     "output_type": "stream",
     "text": [
      "Train accuracy: 90.50\n",
      "Dev accuracy: 91.36\n",
      "Epoch 2\n"
     ]
    },
    {
     "name": "stderr",
     "output_type": "stream",
     "text": [
      "Training: 100%|██████████| 12500/12500 [00:04<00:00, 2597.97it/s, loss=0.445]\n"
     ]
    },
    {
     "name": "stdout",
     "output_type": "stream",
     "text": [
      "Train accuracy: 92.70\n",
      "Dev accuracy: 93.40\n",
      "Epoch 3\n"
     ]
    },
    {
     "name": "stderr",
     "output_type": "stream",
     "text": [
      "Training: 100%|██████████| 12500/12500 [00:04<00:00, 2620.78it/s, loss=0.375]\n"
     ]
    },
    {
     "name": "stdout",
     "output_type": "stream",
     "text": [
      "Train accuracy: 93.10\n",
      "Dev accuracy: 93.32\n",
      "Epoch 4\n"
     ]
    },
    {
     "name": "stderr",
     "output_type": "stream",
     "text": [
      "Training: 100%|██████████| 12500/12500 [00:04<00:00, 2575.60it/s, loss=0.33] \n"
     ]
    },
    {
     "name": "stdout",
     "output_type": "stream",
     "text": [
      "Train accuracy: 94.82\n",
      "Dev accuracy: 95.28\n",
      "Epoch 5\n"
     ]
    },
    {
     "name": "stderr",
     "output_type": "stream",
     "text": [
      "Training: 100%|██████████| 12500/12500 [00:05<00:00, 2402.70it/s, loss=0.295]\n"
     ]
    },
    {
     "name": "stdout",
     "output_type": "stream",
     "text": [
      "Train accuracy: 95.24\n",
      "Dev accuracy: 95.84\n",
      "Epoch 6\n"
     ]
    },
    {
     "name": "stderr",
     "output_type": "stream",
     "text": [
      "Training: 100%|██████████| 12500/12500 [00:04<00:00, 2515.84it/s, loss=0.272]\n"
     ]
    },
    {
     "name": "stdout",
     "output_type": "stream",
     "text": [
      "Train accuracy: 95.33\n",
      "Dev accuracy: 95.88\n",
      "Epoch 7\n"
     ]
    },
    {
     "name": "stderr",
     "output_type": "stream",
     "text": [
      "Training: 100%|██████████| 12500/12500 [00:05<00:00, 2401.62it/s, loss=0.252]\n"
     ]
    },
    {
     "name": "stdout",
     "output_type": "stream",
     "text": [
      "Train accuracy: 95.78\n",
      "Dev accuracy: 96.12\n",
      "Epoch 8\n"
     ]
    },
    {
     "name": "stderr",
     "output_type": "stream",
     "text": [
      "Training: 100%|██████████| 12500/12500 [00:04<00:00, 2520.15it/s, loss=0.237]\n"
     ]
    },
    {
     "name": "stdout",
     "output_type": "stream",
     "text": [
      "Train accuracy: 96.21\n",
      "Dev accuracy: 96.36\n",
      "Epoch 9\n"
     ]
    },
    {
     "name": "stderr",
     "output_type": "stream",
     "text": [
      "Training: 100%|██████████| 12500/12500 [00:04<00:00, 2689.72it/s, loss=0.223]\n"
     ]
    },
    {
     "name": "stdout",
     "output_type": "stream",
     "text": [
      "Train accuracy: 96.93\n",
      "Dev accuracy: 96.48\n",
      "Epoch 10\n"
     ]
    },
    {
     "name": "stderr",
     "output_type": "stream",
     "text": [
      "Training: 100%|██████████| 12500/12500 [00:04<00:00, 2779.65it/s, loss=0.212]\n"
     ]
    },
    {
     "name": "stdout",
     "output_type": "stream",
     "text": [
      "Train accuracy: 96.90\n",
      "Dev accuracy: 96.96\n",
      "Epoch 11\n"
     ]
    },
    {
     "name": "stderr",
     "output_type": "stream",
     "text": [
      "Training: 100%|██████████| 12500/12500 [00:04<00:00, 2811.10it/s, loss=0.202]\n"
     ]
    },
    {
     "name": "stdout",
     "output_type": "stream",
     "text": [
      "Train accuracy: 95.46\n",
      "Dev accuracy: 95.88\n",
      "Epoch 12\n"
     ]
    },
    {
     "name": "stderr",
     "output_type": "stream",
     "text": [
      "Training: 100%|██████████| 12500/12500 [00:04<00:00, 2529.37it/s, loss=0.193]\n"
     ]
    },
    {
     "name": "stdout",
     "output_type": "stream",
     "text": [
      "Train accuracy: 97.18\n",
      "Dev accuracy: 96.88\n",
      "Epoch 13\n"
     ]
    },
    {
     "name": "stderr",
     "output_type": "stream",
     "text": [
      "Training: 100%|██████████| 12500/12500 [00:05<00:00, 2342.79it/s, loss=0.185]\n"
     ]
    },
    {
     "name": "stdout",
     "output_type": "stream",
     "text": [
      "Train accuracy: 97.46\n",
      "Dev accuracy: 96.84\n",
      "Epoch 14\n"
     ]
    },
    {
     "name": "stderr",
     "output_type": "stream",
     "text": [
      "Training: 100%|██████████| 12500/12500 [00:04<00:00, 2567.91it/s, loss=0.179]\n"
     ]
    },
    {
     "name": "stdout",
     "output_type": "stream",
     "text": [
      "Train accuracy: 97.44\n",
      "Dev accuracy: 96.80\n",
      "Dev accuracy not improving for 3 epochs. Stopping.\n"
     ]
    },
    {
     "name": "stderr",
     "output_type": "stream",
     "text": [
      "/var/folders/91/2fbkbbgj7471rgv8k0yy0sn40000gn/T/ipykernel_26651/2411159783.py:30: FutureWarning: The frame.append method is deprecated and will be removed from pandas in a future version. Use pandas.concat instead.\n",
      "  df = df.append({\n"
     ]
    },
    {
     "name": "stdout",
     "output_type": "stream",
     "text": [
      "****************************************************************************************************\n",
      "Running with lr: 0.0001, n_epochs: 20, batch_size: 16, lr_scheduler: cosine, patience_threshold: 3\n",
      "Epoch 1\n"
     ]
    },
    {
     "name": "stderr",
     "output_type": "stream",
     "text": [
      "Training: 100%|██████████| 3125/3125 [00:07<00:00, 414.93it/s, loss=0.804]\n"
     ]
    },
    {
     "name": "stdout",
     "output_type": "stream",
     "text": [
      "Train accuracy: 85.61\n",
      "Dev accuracy: 87.16\n",
      "Epoch 2\n"
     ]
    },
    {
     "name": "stderr",
     "output_type": "stream",
     "text": [
      "Training: 100%|██████████| 3125/3125 [00:04<00:00, 697.95it/s, loss=0.555]\n"
     ]
    },
    {
     "name": "stdout",
     "output_type": "stream",
     "text": [
      "Train accuracy: 89.43\n",
      "Dev accuracy: 91.33\n",
      "Epoch 3\n"
     ]
    },
    {
     "name": "stderr",
     "output_type": "stream",
     "text": [
      "Training: 100%|██████████| 3125/3125 [00:04<00:00, 679.54it/s, loss=0.459]\n"
     ]
    },
    {
     "name": "stdout",
     "output_type": "stream",
     "text": [
      "Train accuracy: 87.99\n",
      "Dev accuracy: 89.90\n",
      "Epoch 4\n"
     ]
    },
    {
     "name": "stderr",
     "output_type": "stream",
     "text": [
      "Training: 100%|██████████| 3125/3125 [00:05<00:00, 575.45it/s, loss=0.401]\n"
     ]
    },
    {
     "name": "stdout",
     "output_type": "stream",
     "text": [
      "Train accuracy: 89.54\n",
      "Dev accuracy: 87.65\n",
      "Epoch 5\n"
     ]
    },
    {
     "name": "stderr",
     "output_type": "stream",
     "text": [
      "Training: 100%|██████████| 3125/3125 [00:08<00:00, 361.85it/s, loss=0.365]\n"
     ]
    },
    {
     "name": "stdout",
     "output_type": "stream",
     "text": [
      "Train accuracy: 92.79\n",
      "Dev accuracy: 92.39\n",
      "Epoch 6\n"
     ]
    },
    {
     "name": "stderr",
     "output_type": "stream",
     "text": [
      "Training: 100%|██████████| 3125/3125 [00:07<00:00, 421.54it/s, loss=0.339]\n"
     ]
    },
    {
     "name": "stdout",
     "output_type": "stream",
     "text": [
      "Train accuracy: 92.59\n",
      "Dev accuracy: 93.51\n",
      "Epoch 7\n"
     ]
    },
    {
     "name": "stderr",
     "output_type": "stream",
     "text": [
      "Training: 100%|██████████| 3125/3125 [00:07<00:00, 421.65it/s, loss=0.316]\n"
     ]
    },
    {
     "name": "stdout",
     "output_type": "stream",
     "text": [
      "Train accuracy: 93.72\n",
      "Dev accuracy: 94.15\n",
      "Epoch 8\n"
     ]
    },
    {
     "name": "stderr",
     "output_type": "stream",
     "text": [
      "Training: 100%|██████████| 3125/3125 [00:07<00:00, 413.54it/s, loss=0.299]\n"
     ]
    },
    {
     "name": "stdout",
     "output_type": "stream",
     "text": [
      "Train accuracy: 94.40\n",
      "Dev accuracy: 94.08\n",
      "Epoch 9\n"
     ]
    },
    {
     "name": "stderr",
     "output_type": "stream",
     "text": [
      "Training: 100%|██████████| 3125/3125 [00:09<00:00, 346.81it/s, loss=0.286]\n"
     ]
    },
    {
     "name": "stdout",
     "output_type": "stream",
     "text": [
      "Train accuracy: 94.27\n",
      "Dev accuracy: 94.31\n",
      "Epoch 10\n"
     ]
    },
    {
     "name": "stderr",
     "output_type": "stream",
     "text": [
      "Training: 100%|██████████| 3125/3125 [00:04<00:00, 677.05it/s, loss=0.272]\n"
     ]
    },
    {
     "name": "stdout",
     "output_type": "stream",
     "text": [
      "Train accuracy: 95.07\n",
      "Dev accuracy: 95.75\n",
      "Epoch 11\n"
     ]
    },
    {
     "name": "stderr",
     "output_type": "stream",
     "text": [
      "Training: 100%|██████████| 3125/3125 [00:04<00:00, 727.53it/s, loss=0.263]\n"
     ]
    },
    {
     "name": "stdout",
     "output_type": "stream",
     "text": [
      "Train accuracy: 94.80\n",
      "Dev accuracy: 95.50\n",
      "Epoch 12\n"
     ]
    },
    {
     "name": "stderr",
     "output_type": "stream",
     "text": [
      "Training: 100%|██████████| 3125/3125 [00:05<00:00, 531.24it/s, loss=0.253]\n"
     ]
    },
    {
     "name": "stdout",
     "output_type": "stream",
     "text": [
      "Train accuracy: 94.94\n",
      "Dev accuracy: 95.20\n",
      "Epoch 13\n"
     ]
    },
    {
     "name": "stderr",
     "output_type": "stream",
     "text": [
      "Training: 100%|██████████| 3125/3125 [00:05<00:00, 572.74it/s, loss=0.247]\n"
     ]
    },
    {
     "name": "stdout",
     "output_type": "stream",
     "text": [
      "Train accuracy: 95.34\n",
      "Dev accuracy: 96.32\n",
      "Epoch 14\n"
     ]
    },
    {
     "name": "stderr",
     "output_type": "stream",
     "text": [
      "Training: 100%|██████████| 3125/3125 [00:05<00:00, 530.09it/s, loss=0.242]\n"
     ]
    },
    {
     "name": "stdout",
     "output_type": "stream",
     "text": [
      "Train accuracy: 95.51\n",
      "Dev accuracy: 95.77\n",
      "Epoch 15\n"
     ]
    },
    {
     "name": "stderr",
     "output_type": "stream",
     "text": [
      "Training: 100%|██████████| 3125/3125 [00:09<00:00, 320.30it/s, loss=0.236]\n"
     ]
    },
    {
     "name": "stdout",
     "output_type": "stream",
     "text": [
      "Train accuracy: 96.01\n",
      "Dev accuracy: 95.52\n",
      "Epoch 16\n"
     ]
    },
    {
     "name": "stderr",
     "output_type": "stream",
     "text": [
      "Training: 100%|██████████| 3125/3125 [00:11<00:00, 265.61it/s, loss=0.23] \n"
     ]
    },
    {
     "name": "stdout",
     "output_type": "stream",
     "text": [
      "Train accuracy: 96.04\n",
      "Dev accuracy: 95.84\n",
      "Epoch 17\n"
     ]
    },
    {
     "name": "stderr",
     "output_type": "stream",
     "text": [
      "Training: 100%|██████████| 3125/3125 [00:07<00:00, 427.79it/s, loss=0.226]\n"
     ]
    },
    {
     "name": "stdout",
     "output_type": "stream",
     "text": [
      "Train accuracy: 96.01\n",
      "Dev accuracy: 96.16\n",
      "Dev accuracy not improving for 3 epochs. Stopping.\n"
     ]
    },
    {
     "name": "stderr",
     "output_type": "stream",
     "text": [
      "/var/folders/91/2fbkbbgj7471rgv8k0yy0sn40000gn/T/ipykernel_26651/2411159783.py:30: FutureWarning: The frame.append method is deprecated and will be removed from pandas in a future version. Use pandas.concat instead.\n",
      "  df = df.append({\n"
     ]
    },
    {
     "name": "stdout",
     "output_type": "stream",
     "text": [
      "****************************************************************************************************\n",
      "Running with lr: 0.0001, n_epochs: 20, batch_size: 16, lr_scheduler: no scheduler, patience_threshold: 3\n",
      "Epoch 1\n"
     ]
    },
    {
     "name": "stderr",
     "output_type": "stream",
     "text": [
      "Training: 100%|██████████| 3125/3125 [00:04<00:00, 662.24it/s, loss=0.756]\n"
     ]
    },
    {
     "name": "stdout",
     "output_type": "stream",
     "text": [
      "Train accuracy: 85.39\n",
      "Dev accuracy: 87.49\n",
      "Epoch 2\n"
     ]
    },
    {
     "name": "stderr",
     "output_type": "stream",
     "text": [
      "Training: 100%|██████████| 3125/3125 [00:05<00:00, 539.63it/s, loss=0.538]\n"
     ]
    },
    {
     "name": "stdout",
     "output_type": "stream",
     "text": [
      "Train accuracy: 87.76\n",
      "Dev accuracy: 89.25\n",
      "Epoch 3\n"
     ]
    },
    {
     "name": "stderr",
     "output_type": "stream",
     "text": [
      "Training: 100%|██████████| 3125/3125 [00:08<00:00, 382.14it/s, loss=0.446]\n"
     ]
    },
    {
     "name": "stdout",
     "output_type": "stream",
     "text": [
      "Train accuracy: 90.81\n",
      "Dev accuracy: 91.33\n",
      "Epoch 4\n"
     ]
    },
    {
     "name": "stderr",
     "output_type": "stream",
     "text": [
      "Training: 100%|██████████| 3125/3125 [00:07<00:00, 426.09it/s, loss=0.391]\n"
     ]
    },
    {
     "name": "stdout",
     "output_type": "stream",
     "text": [
      "Train accuracy: 92.00\n",
      "Dev accuracy: 92.11\n",
      "Epoch 5\n"
     ]
    },
    {
     "name": "stderr",
     "output_type": "stream",
     "text": [
      "Training: 100%|██████████| 3125/3125 [00:06<00:00, 517.20it/s, loss=0.357]\n"
     ]
    },
    {
     "name": "stdout",
     "output_type": "stream",
     "text": [
      "Train accuracy: 90.82\n",
      "Dev accuracy: 91.56\n",
      "Epoch 6\n"
     ]
    },
    {
     "name": "stderr",
     "output_type": "stream",
     "text": [
      "Training: 100%|██████████| 3125/3125 [00:05<00:00, 585.63it/s, loss=0.329]\n"
     ]
    },
    {
     "name": "stdout",
     "output_type": "stream",
     "text": [
      "Train accuracy: 93.28\n",
      "Dev accuracy: 94.30\n",
      "Epoch 7\n"
     ]
    },
    {
     "name": "stderr",
     "output_type": "stream",
     "text": [
      "Training: 100%|██████████| 3125/3125 [00:04<00:00, 661.17it/s, loss=0.31] \n"
     ]
    },
    {
     "name": "stdout",
     "output_type": "stream",
     "text": [
      "Train accuracy: 92.27\n",
      "Dev accuracy: 93.12\n",
      "Epoch 8\n"
     ]
    },
    {
     "name": "stderr",
     "output_type": "stream",
     "text": [
      "Training: 100%|██████████| 3125/3125 [00:04<00:00, 732.93it/s, loss=0.292]\n"
     ]
    },
    {
     "name": "stdout",
     "output_type": "stream",
     "text": [
      "Train accuracy: 93.98\n",
      "Dev accuracy: 94.24\n",
      "Epoch 9\n"
     ]
    },
    {
     "name": "stderr",
     "output_type": "stream",
     "text": [
      "Training: 100%|██████████| 3125/3125 [00:04<00:00, 709.92it/s, loss=0.28] \n"
     ]
    },
    {
     "name": "stdout",
     "output_type": "stream",
     "text": [
      "Train accuracy: 93.64\n",
      "Dev accuracy: 94.08\n",
      "Epoch 10\n"
     ]
    },
    {
     "name": "stderr",
     "output_type": "stream",
     "text": [
      "Training: 100%|██████████| 3125/3125 [00:06<00:00, 458.02it/s, loss=0.267]\n"
     ]
    },
    {
     "name": "stdout",
     "output_type": "stream",
     "text": [
      "Train accuracy: 93.70\n",
      "Dev accuracy: 94.01\n",
      "Dev accuracy not improving for 3 epochs. Stopping.\n"
     ]
    },
    {
     "name": "stderr",
     "output_type": "stream",
     "text": [
      "/var/folders/91/2fbkbbgj7471rgv8k0yy0sn40000gn/T/ipykernel_26651/2411159783.py:30: FutureWarning: The frame.append method is deprecated and will be removed from pandas in a future version. Use pandas.concat instead.\n",
      "  df = df.append({\n"
     ]
    },
    {
     "name": "stdout",
     "output_type": "stream",
     "text": [
      "****************************************************************************************************\n",
      "Running with lr: 0.0001, n_epochs: 20, batch_size: 64, lr_scheduler: cosine, patience_threshold: 3\n",
      "Epoch 1\n"
     ]
    },
    {
     "name": "stderr",
     "output_type": "stream",
     "text": [
      "Training: 100%|██████████| 782/782 [00:02<00:00, 286.43it/s, loss=1.11]\n"
     ]
    },
    {
     "name": "stdout",
     "output_type": "stream",
     "text": [
      "Train accuracy: 78.24\n",
      "Dev accuracy: 86.66\n",
      "Epoch 2\n"
     ]
    },
    {
     "name": "stderr",
     "output_type": "stream",
     "text": [
      "Training: 100%|██████████| 782/782 [00:01<00:00, 413.53it/s, loss=0.686]\n"
     ]
    },
    {
     "name": "stdout",
     "output_type": "stream",
     "text": [
      "Train accuracy: 85.36\n",
      "Dev accuracy: 85.71\n",
      "Epoch 3\n"
     ]
    },
    {
     "name": "stderr",
     "output_type": "stream",
     "text": [
      "Training: 100%|██████████| 782/782 [00:02<00:00, 263.41it/s, loss=0.513]\n"
     ]
    },
    {
     "name": "stdout",
     "output_type": "stream",
     "text": [
      "Train accuracy: 85.56\n",
      "Dev accuracy: 86.92\n",
      "Epoch 4\n"
     ]
    },
    {
     "name": "stderr",
     "output_type": "stream",
     "text": [
      "Training: 100%|██████████| 782/782 [00:01<00:00, 442.65it/s, loss=0.437]\n"
     ]
    },
    {
     "name": "stdout",
     "output_type": "stream",
     "text": [
      "Train accuracy: 87.39\n",
      "Dev accuracy: 94.10\n",
      "Epoch 5\n"
     ]
    },
    {
     "name": "stderr",
     "output_type": "stream",
     "text": [
      "Training: 100%|██████████| 782/782 [00:02<00:00, 295.81it/s, loss=0.39] \n"
     ]
    },
    {
     "name": "stdout",
     "output_type": "stream",
     "text": [
      "Train accuracy: 85.45\n",
      "Dev accuracy: 88.34\n",
      "Epoch 6\n"
     ]
    },
    {
     "name": "stderr",
     "output_type": "stream",
     "text": [
      "Training: 100%|██████████| 782/782 [00:02<00:00, 366.36it/s, loss=0.355]\n"
     ]
    },
    {
     "name": "stdout",
     "output_type": "stream",
     "text": [
      "Train accuracy: 88.46\n",
      "Dev accuracy: 89.03\n",
      "Epoch 7\n"
     ]
    },
    {
     "name": "stderr",
     "output_type": "stream",
     "text": [
      "Training: 100%|██████████| 782/782 [00:01<00:00, 441.95it/s, loss=0.328]\n"
     ]
    },
    {
     "name": "stdout",
     "output_type": "stream",
     "text": [
      "Train accuracy: 88.85\n",
      "Dev accuracy: 93.16\n",
      "Epoch 8\n"
     ]
    },
    {
     "name": "stderr",
     "output_type": "stream",
     "text": [
      "Training: 100%|██████████| 782/782 [00:02<00:00, 368.28it/s, loss=0.309]\n"
     ]
    },
    {
     "name": "stdout",
     "output_type": "stream",
     "text": [
      "Train accuracy: 89.55\n",
      "Dev accuracy: 92.78\n",
      "Dev accuracy not improving for 3 epochs. Stopping.\n"
     ]
    },
    {
     "name": "stderr",
     "output_type": "stream",
     "text": [
      "/var/folders/91/2fbkbbgj7471rgv8k0yy0sn40000gn/T/ipykernel_26651/2411159783.py:30: FutureWarning: The frame.append method is deprecated and will be removed from pandas in a future version. Use pandas.concat instead.\n",
      "  df = df.append({\n"
     ]
    },
    {
     "name": "stdout",
     "output_type": "stream",
     "text": [
      "****************************************************************************************************\n",
      "Running with lr: 0.0001, n_epochs: 20, batch_size: 64, lr_scheduler: no scheduler, patience_threshold: 3\n",
      "Epoch 1\n"
     ]
    },
    {
     "name": "stderr",
     "output_type": "stream",
     "text": [
      "Training: 100%|██████████| 782/782 [00:02<00:00, 355.86it/s, loss=1.11]\n"
     ]
    },
    {
     "name": "stdout",
     "output_type": "stream",
     "text": [
      "Train accuracy: 80.11\n",
      "Dev accuracy: 85.37\n",
      "Epoch 2\n"
     ]
    },
    {
     "name": "stderr",
     "output_type": "stream",
     "text": [
      "Training: 100%|██████████| 782/782 [00:01<00:00, 464.02it/s, loss=0.735]\n"
     ]
    },
    {
     "name": "stdout",
     "output_type": "stream",
     "text": [
      "Train accuracy: 87.03\n",
      "Dev accuracy: 85.44\n",
      "Epoch 3\n"
     ]
    },
    {
     "name": "stderr",
     "output_type": "stream",
     "text": [
      "Training: 100%|██████████| 782/782 [00:01<00:00, 489.84it/s, loss=0.555]\n"
     ]
    },
    {
     "name": "stdout",
     "output_type": "stream",
     "text": [
      "Train accuracy: 85.18\n",
      "Dev accuracy: 88.72\n",
      "Epoch 4\n"
     ]
    },
    {
     "name": "stderr",
     "output_type": "stream",
     "text": [
      "Training: 100%|██████████| 782/782 [00:01<00:00, 438.48it/s, loss=0.454]\n"
     ]
    },
    {
     "name": "stdout",
     "output_type": "stream",
     "text": [
      "Train accuracy: 90.16\n",
      "Dev accuracy: 93.39\n",
      "Epoch 5\n"
     ]
    },
    {
     "name": "stderr",
     "output_type": "stream",
     "text": [
      "Training: 100%|██████████| 782/782 [00:01<00:00, 453.89it/s, loss=0.394]\n"
     ]
    },
    {
     "name": "stdout",
     "output_type": "stream",
     "text": [
      "Train accuracy: 89.34\n",
      "Dev accuracy: 93.06\n",
      "Epoch 6\n"
     ]
    },
    {
     "name": "stderr",
     "output_type": "stream",
     "text": [
      "Training: 100%|██████████| 782/782 [00:01<00:00, 448.88it/s, loss=0.353]\n"
     ]
    },
    {
     "name": "stdout",
     "output_type": "stream",
     "text": [
      "Train accuracy: 89.56\n",
      "Dev accuracy: 93.87\n",
      "Epoch 7\n"
     ]
    },
    {
     "name": "stderr",
     "output_type": "stream",
     "text": [
      "Training: 100%|██████████| 782/782 [00:01<00:00, 512.21it/s, loss=0.321]\n"
     ]
    },
    {
     "name": "stdout",
     "output_type": "stream",
     "text": [
      "Train accuracy: 87.97\n",
      "Dev accuracy: 92.12\n",
      "Epoch 8\n"
     ]
    },
    {
     "name": "stderr",
     "output_type": "stream",
     "text": [
      "Training: 100%|██████████| 782/782 [00:01<00:00, 424.70it/s, loss=0.297]\n"
     ]
    },
    {
     "name": "stdout",
     "output_type": "stream",
     "text": [
      "Train accuracy: 90.07\n",
      "Dev accuracy: 93.36\n",
      "Epoch 9\n"
     ]
    },
    {
     "name": "stderr",
     "output_type": "stream",
     "text": [
      "Training: 100%|██████████| 782/782 [00:01<00:00, 409.94it/s, loss=0.276]\n"
     ]
    },
    {
     "name": "stdout",
     "output_type": "stream",
     "text": [
      "Train accuracy: 90.63\n",
      "Dev accuracy: 94.12\n",
      "Epoch 10\n"
     ]
    },
    {
     "name": "stderr",
     "output_type": "stream",
     "text": [
      "Training: 100%|██████████| 782/782 [00:01<00:00, 503.34it/s, loss=0.26] \n"
     ]
    },
    {
     "name": "stdout",
     "output_type": "stream",
     "text": [
      "Train accuracy: 88.71\n",
      "Dev accuracy: 90.98\n",
      "Epoch 11\n"
     ]
    },
    {
     "name": "stderr",
     "output_type": "stream",
     "text": [
      "Training: 100%|██████████| 782/782 [00:01<00:00, 436.91it/s, loss=0.247]\n"
     ]
    },
    {
     "name": "stdout",
     "output_type": "stream",
     "text": [
      "Train accuracy: 91.65\n",
      "Dev accuracy: 93.75\n",
      "Epoch 12\n"
     ]
    },
    {
     "name": "stderr",
     "output_type": "stream",
     "text": [
      "Training: 100%|██████████| 782/782 [00:01<00:00, 492.84it/s, loss=0.237]\n"
     ]
    },
    {
     "name": "stdout",
     "output_type": "stream",
     "text": [
      "Train accuracy: 90.51\n",
      "Dev accuracy: 92.11\n",
      "Epoch 13\n"
     ]
    },
    {
     "name": "stderr",
     "output_type": "stream",
     "text": [
      "Training: 100%|██████████| 782/782 [00:02<00:00, 357.82it/s, loss=0.228]\n"
     ]
    },
    {
     "name": "stdout",
     "output_type": "stream",
     "text": [
      "Train accuracy: 92.58\n",
      "Dev accuracy: 96.17\n",
      "Epoch 14\n"
     ]
    },
    {
     "name": "stderr",
     "output_type": "stream",
     "text": [
      "Training: 100%|██████████| 782/782 [00:02<00:00, 383.64it/s, loss=0.219]\n"
     ]
    },
    {
     "name": "stdout",
     "output_type": "stream",
     "text": [
      "Train accuracy: 91.68\n",
      "Dev accuracy: 94.00\n",
      "Epoch 15\n"
     ]
    },
    {
     "name": "stderr",
     "output_type": "stream",
     "text": [
      "Training: 100%|██████████| 782/782 [00:04<00:00, 163.13it/s, loss=0.211]\n"
     ]
    },
    {
     "name": "stdout",
     "output_type": "stream",
     "text": [
      "Train accuracy: 91.92\n",
      "Dev accuracy: 93.22\n",
      "Epoch 16\n"
     ]
    },
    {
     "name": "stderr",
     "output_type": "stream",
     "text": [
      "Training: 100%|██████████| 782/782 [00:03<00:00, 231.06it/s, loss=0.202]\n"
     ]
    },
    {
     "name": "stdout",
     "output_type": "stream",
     "text": [
      "Train accuracy: 90.35\n",
      "Dev accuracy: 94.65\n",
      "Epoch 17\n"
     ]
    },
    {
     "name": "stderr",
     "output_type": "stream",
     "text": [
      "Training: 100%|██████████| 782/782 [00:04<00:00, 179.27it/s, loss=0.195]\n"
     ]
    },
    {
     "name": "stdout",
     "output_type": "stream",
     "text": [
      "Train accuracy: 90.84\n",
      "Dev accuracy: 96.40\n",
      "Epoch 18\n"
     ]
    },
    {
     "name": "stderr",
     "output_type": "stream",
     "text": [
      "Training: 100%|██████████| 782/782 [00:03<00:00, 217.49it/s, loss=0.188]\n"
     ]
    },
    {
     "name": "stdout",
     "output_type": "stream",
     "text": [
      "Train accuracy: 91.81\n",
      "Dev accuracy: 96.42\n",
      "Epoch 19\n"
     ]
    },
    {
     "name": "stderr",
     "output_type": "stream",
     "text": [
      "Training: 100%|██████████| 782/782 [00:01<00:00, 399.01it/s, loss=0.182]\n"
     ]
    },
    {
     "name": "stdout",
     "output_type": "stream",
     "text": [
      "Train accuracy: 92.52\n",
      "Dev accuracy: 98.08\n",
      "Epoch 20\n"
     ]
    },
    {
     "name": "stderr",
     "output_type": "stream",
     "text": [
      "Training: 100%|██████████| 782/782 [00:01<00:00, 468.36it/s, loss=0.177]\n"
     ]
    },
    {
     "name": "stdout",
     "output_type": "stream",
     "text": [
      "Train accuracy: 90.86\n",
      "Dev accuracy: 97.33\n"
     ]
    },
    {
     "name": "stderr",
     "output_type": "stream",
     "text": [
      "/var/folders/91/2fbkbbgj7471rgv8k0yy0sn40000gn/T/ipykernel_26651/2411159783.py:30: FutureWarning: The frame.append method is deprecated and will be removed from pandas in a future version. Use pandas.concat instead.\n",
      "  df = df.append({\n"
     ]
    }
   ],
   "source": [
    "experiment_no = 0\n",
    "dim_input = 28*28\n",
    "dim_output = 10\n",
    "\n",
    "best_dev_acc_overall = 0\n",
    "best_params = None\n",
    "\n",
    "for lr in grid_params['lr']:\n",
    "    for n_epochs in grid_params['n_epochs']:\n",
    "        for batch_size in grid_params['batch_size']:\n",
    "            for lr_scheduler in grid_params['lr_scheduler']:\n",
    "                for patience_threshold in grid_params['patience_threshold']:\n",
    "\n",
    "                    gc.collect()\n",
    "                    start = time.time()\n",
    "\n",
    "                    max_iter = n_epochs*len(train_data[0])//batch_size\n",
    "\n",
    "                    print('*'*100)\n",
    "                    print(f'Running with lr: {lr}, n_epochs: {n_epochs}, batch_size: {batch_size}, lr_scheduler: {lr_scheduler if lr_scheduler is not None else \"no scheduler\"}, patience_threshold: {patience_threshold}')\n",
    "\n",
    "\n",
    "                    network = DeepNetworkBatch(dim_input, dim_output, hidden_dims = [100, 50, 20])\n",
    "                    optimizer = Adam(network.parameters(), lr=lr, lr_scheduler=lr_scheduler, max_iter=max_iter)\n",
    "\n",
    "                    running_loss, train_accs, dev_accs, best_W, best_b, best_dev_acc = training_loop_batch(network, optimizer, train_data, dev_data, n_epochs=n_epochs, batch_size=batch_size, patience_threshold=patience_threshold)\n",
    "\n",
    "                    end = time.time()\n",
    "\n",
    "                    df = df.append({\n",
    "                        'lr': lr,\n",
    "                        'n_epochs': n_epochs,\n",
    "                        'batch_size': batch_size,\n",
    "                        'lr_scheduler': lr_scheduler,\n",
    "                        'patience_threshold': patience_threshold,\n",
    "                        'train_accuracy': train_accs[-1],\n",
    "                        'dev_accuracy': dev_accs[-1],\n",
    "                        'best_dev_accuracy': best_dev_acc, \n",
    "                        'time': end-start\n",
    "                    } , ignore_index=True)\n",
    "\n",
    "                    df.to_csv('experiment.csv', index=False)\n",
    "\n",
    "                    pickle_json = {\n",
    "                        'W': best_W,\n",
    "                        'b': best_b,\n",
    "                        'train_accuracy': train_accs,\n",
    "                        'dev_accuracy': dev_accs,\n",
    "                        'loss_list': running_loss.loss_history,\n",
    "                        'best_dev_accuracy': best_dev_acc\n",
    "                    }\n",
    "\n",
    "                    with open(f'./experiment_{experiment_no}.pkl', 'wb') as f:\n",
    "                        pickle.dump(pickle_json, f)\n",
    "\n",
    "                    experiment_no += 1\n",
    "\n",
    "                    if best_dev_acc > best_dev_acc_overall:\n",
    "                        best_dev_acc_overall = best_dev_acc\n",
    "                        print(f'New best dev accuracy: {best_dev_acc_overall}')\n",
    "                        best_params = {\n",
    "                            'lr': lr,\n",
    "                            'n_epochs': n_epochs,\n",
    "                            'batch_size': batch_size,\n",
    "                            'lr_scheduler': lr_scheduler,\n",
    "                            'patience_threshold': patience_threshold,\n",
    "                            'best_W': best_W,\n",
    "                            'best_b': best_b,\n",
    "                            'loss_list': running_loss.loss_history,\n",
    "                            'train_accs': train_accs,\n",
    "                            'dev_accs': dev_accs\n",
    "                        }"
   ]
  },
  {
   "cell_type": "code",
   "execution_count": 539,
   "metadata": {},
   "outputs": [
    {
     "data": {
      "text/html": [
       "<div>\n",
       "<style scoped>\n",
       "    .dataframe tbody tr th:only-of-type {\n",
       "        vertical-align: middle;\n",
       "    }\n",
       "\n",
       "    .dataframe tbody tr th {\n",
       "        vertical-align: top;\n",
       "    }\n",
       "\n",
       "    .dataframe thead th {\n",
       "        text-align: right;\n",
       "    }\n",
       "</style>\n",
       "<table border=\"1\" class=\"dataframe\">\n",
       "  <thead>\n",
       "    <tr style=\"text-align: right;\">\n",
       "      <th></th>\n",
       "      <th>lr</th>\n",
       "      <th>n_epochs</th>\n",
       "      <th>batch_size</th>\n",
       "      <th>lr_scheduler</th>\n",
       "      <th>patience_threshold</th>\n",
       "      <th>train_accuracy</th>\n",
       "      <th>dev_accuracy</th>\n",
       "      <th>best_dev_accuracy</th>\n",
       "      <th>time</th>\n",
       "    </tr>\n",
       "  </thead>\n",
       "  <tbody>\n",
       "    <tr>\n",
       "      <th>0</th>\n",
       "      <td>0.0100</td>\n",
       "      <td>5</td>\n",
       "      <td>4.0</td>\n",
       "      <td>cosine</td>\n",
       "      <td>3</td>\n",
       "      <td>0.835800</td>\n",
       "      <td>0.837300</td>\n",
       "      <td>0.837300</td>\n",
       "      <td>26.056545</td>\n",
       "    </tr>\n",
       "    <tr>\n",
       "      <th>1</th>\n",
       "      <td>0.0100</td>\n",
       "      <td>5.0</td>\n",
       "      <td>4.0</td>\n",
       "      <td>NaN</td>\n",
       "      <td>3.0</td>\n",
       "      <td>0.355600</td>\n",
       "      <td>0.367800</td>\n",
       "      <td>0.714500</td>\n",
       "      <td>26.466447</td>\n",
       "    </tr>\n",
       "    <tr>\n",
       "      <th>2</th>\n",
       "      <td>0.0100</td>\n",
       "      <td>5</td>\n",
       "      <td>16.0</td>\n",
       "      <td>cosine</td>\n",
       "      <td>3</td>\n",
       "      <td>0.880200</td>\n",
       "      <td>0.895000</td>\n",
       "      <td>0.895000</td>\n",
       "      <td>49.146702</td>\n",
       "    </tr>\n",
       "    <tr>\n",
       "      <th>3</th>\n",
       "      <td>0.0100</td>\n",
       "      <td>5.0</td>\n",
       "      <td>16.0</td>\n",
       "      <td>NaN</td>\n",
       "      <td>3.0</td>\n",
       "      <td>0.806700</td>\n",
       "      <td>0.829400</td>\n",
       "      <td>0.829400</td>\n",
       "      <td>35.355222</td>\n",
       "    </tr>\n",
       "    <tr>\n",
       "      <th>4</th>\n",
       "      <td>0.0100</td>\n",
       "      <td>5</td>\n",
       "      <td>64.0</td>\n",
       "      <td>cosine</td>\n",
       "      <td>3</td>\n",
       "      <td>0.885770</td>\n",
       "      <td>0.937301</td>\n",
       "      <td>0.937301</td>\n",
       "      <td>11.146196</td>\n",
       "    </tr>\n",
       "    <tr>\n",
       "      <th>5</th>\n",
       "      <td>0.0100</td>\n",
       "      <td>5.0</td>\n",
       "      <td>64.0</td>\n",
       "      <td>NaN</td>\n",
       "      <td>3.0</td>\n",
       "      <td>0.778373</td>\n",
       "      <td>0.817178</td>\n",
       "      <td>0.889829</td>\n",
       "      <td>11.197112</td>\n",
       "    </tr>\n",
       "    <tr>\n",
       "      <th>6</th>\n",
       "      <td>0.0100</td>\n",
       "      <td>10</td>\n",
       "      <td>4.0</td>\n",
       "      <td>cosine</td>\n",
       "      <td>3</td>\n",
       "      <td>0.586920</td>\n",
       "      <td>0.595200</td>\n",
       "      <td>0.706900</td>\n",
       "      <td>26.273140</td>\n",
       "    </tr>\n",
       "    <tr>\n",
       "      <th>7</th>\n",
       "      <td>0.0100</td>\n",
       "      <td>10.0</td>\n",
       "      <td>4.0</td>\n",
       "      <td>NaN</td>\n",
       "      <td>3.0</td>\n",
       "      <td>0.437740</td>\n",
       "      <td>0.460700</td>\n",
       "      <td>0.644000</td>\n",
       "      <td>28.059290</td>\n",
       "    </tr>\n",
       "    <tr>\n",
       "      <th>8</th>\n",
       "      <td>0.0100</td>\n",
       "      <td>10</td>\n",
       "      <td>16.0</td>\n",
       "      <td>cosine</td>\n",
       "      <td>3</td>\n",
       "      <td>0.911040</td>\n",
       "      <td>0.914700</td>\n",
       "      <td>0.914700</td>\n",
       "      <td>110.613092</td>\n",
       "    </tr>\n",
       "    <tr>\n",
       "      <th>9</th>\n",
       "      <td>0.0100</td>\n",
       "      <td>10.0</td>\n",
       "      <td>16.0</td>\n",
       "      <td>NaN</td>\n",
       "      <td>3.0</td>\n",
       "      <td>0.654760</td>\n",
       "      <td>0.667000</td>\n",
       "      <td>0.817500</td>\n",
       "      <td>78.591252</td>\n",
       "    </tr>\n",
       "    <tr>\n",
       "      <th>10</th>\n",
       "      <td>0.0100</td>\n",
       "      <td>10</td>\n",
       "      <td>64.0</td>\n",
       "      <td>cosine</td>\n",
       "      <td>3</td>\n",
       "      <td>0.897498</td>\n",
       "      <td>0.939391</td>\n",
       "      <td>0.939391</td>\n",
       "      <td>34.630888</td>\n",
       "    </tr>\n",
       "    <tr>\n",
       "      <th>11</th>\n",
       "      <td>0.0100</td>\n",
       "      <td>10.0</td>\n",
       "      <td>64.0</td>\n",
       "      <td>NaN</td>\n",
       "      <td>3.0</td>\n",
       "      <td>0.835398</td>\n",
       "      <td>0.831011</td>\n",
       "      <td>0.905951</td>\n",
       "      <td>26.520456</td>\n",
       "    </tr>\n",
       "    <tr>\n",
       "      <th>12</th>\n",
       "      <td>0.0100</td>\n",
       "      <td>20</td>\n",
       "      <td>4.0</td>\n",
       "      <td>cosine</td>\n",
       "      <td>3</td>\n",
       "      <td>0.370180</td>\n",
       "      <td>0.385200</td>\n",
       "      <td>0.614000</td>\n",
       "      <td>26.923552</td>\n",
       "    </tr>\n",
       "    <tr>\n",
       "      <th>13</th>\n",
       "      <td>0.0100</td>\n",
       "      <td>20.0</td>\n",
       "      <td>4.0</td>\n",
       "      <td>NaN</td>\n",
       "      <td>3.0</td>\n",
       "      <td>0.208880</td>\n",
       "      <td>0.197600</td>\n",
       "      <td>0.591700</td>\n",
       "      <td>26.980327</td>\n",
       "    </tr>\n",
       "    <tr>\n",
       "      <th>14</th>\n",
       "      <td>0.0100</td>\n",
       "      <td>20</td>\n",
       "      <td>16.0</td>\n",
       "      <td>cosine</td>\n",
       "      <td>3</td>\n",
       "      <td>0.707680</td>\n",
       "      <td>0.753400</td>\n",
       "      <td>0.847500</td>\n",
       "      <td>41.739444</td>\n",
       "    </tr>\n",
       "    <tr>\n",
       "      <th>15</th>\n",
       "      <td>0.0100</td>\n",
       "      <td>20.0</td>\n",
       "      <td>16.0</td>\n",
       "      <td>NaN</td>\n",
       "      <td>3.0</td>\n",
       "      <td>0.704340</td>\n",
       "      <td>0.726500</td>\n",
       "      <td>0.821300</td>\n",
       "      <td>57.544172</td>\n",
       "    </tr>\n",
       "    <tr>\n",
       "      <th>16</th>\n",
       "      <td>0.0100</td>\n",
       "      <td>20</td>\n",
       "      <td>64.0</td>\n",
       "      <td>cosine</td>\n",
       "      <td>3</td>\n",
       "      <td>0.896180</td>\n",
       "      <td>0.933121</td>\n",
       "      <td>0.933121</td>\n",
       "      <td>58.291984</td>\n",
       "    </tr>\n",
       "    <tr>\n",
       "      <th>17</th>\n",
       "      <td>0.0100</td>\n",
       "      <td>20.0</td>\n",
       "      <td>64.0</td>\n",
       "      <td>NaN</td>\n",
       "      <td>3.0</td>\n",
       "      <td>0.861113</td>\n",
       "      <td>0.897492</td>\n",
       "      <td>0.899881</td>\n",
       "      <td>75.231702</td>\n",
       "    </tr>\n",
       "    <tr>\n",
       "      <th>18</th>\n",
       "      <td>0.0010</td>\n",
       "      <td>5</td>\n",
       "      <td>4.0</td>\n",
       "      <td>cosine</td>\n",
       "      <td>3</td>\n",
       "      <td>0.971040</td>\n",
       "      <td>0.966000</td>\n",
       "      <td>0.967600</td>\n",
       "      <td>26.140442</td>\n",
       "    </tr>\n",
       "    <tr>\n",
       "      <th>19</th>\n",
       "      <td>0.0010</td>\n",
       "      <td>5.0</td>\n",
       "      <td>4.0</td>\n",
       "      <td>NaN</td>\n",
       "      <td>3.0</td>\n",
       "      <td>0.952000</td>\n",
       "      <td>0.959200</td>\n",
       "      <td>0.959200</td>\n",
       "      <td>25.762881</td>\n",
       "    </tr>\n",
       "    <tr>\n",
       "      <th>20</th>\n",
       "      <td>0.0010</td>\n",
       "      <td>5</td>\n",
       "      <td>16.0</td>\n",
       "      <td>cosine</td>\n",
       "      <td>3</td>\n",
       "      <td>0.951540</td>\n",
       "      <td>0.960000</td>\n",
       "      <td>0.960000</td>\n",
       "      <td>39.940569</td>\n",
       "    </tr>\n",
       "    <tr>\n",
       "      <th>21</th>\n",
       "      <td>0.0010</td>\n",
       "      <td>5.0</td>\n",
       "      <td>16.0</td>\n",
       "      <td>NaN</td>\n",
       "      <td>3.0</td>\n",
       "      <td>0.913380</td>\n",
       "      <td>0.920700</td>\n",
       "      <td>0.925900</td>\n",
       "      <td>50.126463</td>\n",
       "    </tr>\n",
       "    <tr>\n",
       "      <th>22</th>\n",
       "      <td>0.0010</td>\n",
       "      <td>5</td>\n",
       "      <td>64.0</td>\n",
       "      <td>cosine</td>\n",
       "      <td>3</td>\n",
       "      <td>0.913063</td>\n",
       "      <td>0.956708</td>\n",
       "      <td>0.956708</td>\n",
       "      <td>25.088587</td>\n",
       "    </tr>\n",
       "    <tr>\n",
       "      <th>23</th>\n",
       "      <td>0.0010</td>\n",
       "      <td>5.0</td>\n",
       "      <td>64.0</td>\n",
       "      <td>NaN</td>\n",
       "      <td>3.0</td>\n",
       "      <td>0.881474</td>\n",
       "      <td>0.912918</td>\n",
       "      <td>0.925060</td>\n",
       "      <td>21.322497</td>\n",
       "    </tr>\n",
       "    <tr>\n",
       "      <th>24</th>\n",
       "      <td>0.0010</td>\n",
       "      <td>10</td>\n",
       "      <td>4.0</td>\n",
       "      <td>cosine</td>\n",
       "      <td>3</td>\n",
       "      <td>0.981200</td>\n",
       "      <td>0.973200</td>\n",
       "      <td>0.973200</td>\n",
       "      <td>53.285697</td>\n",
       "    </tr>\n",
       "    <tr>\n",
       "      <th>25</th>\n",
       "      <td>0.0010</td>\n",
       "      <td>10.0</td>\n",
       "      <td>4.0</td>\n",
       "      <td>NaN</td>\n",
       "      <td>3.0</td>\n",
       "      <td>0.949920</td>\n",
       "      <td>0.946000</td>\n",
       "      <td>0.956400</td>\n",
       "      <td>50.052248</td>\n",
       "    </tr>\n",
       "    <tr>\n",
       "      <th>26</th>\n",
       "      <td>0.0010</td>\n",
       "      <td>10</td>\n",
       "      <td>16.0</td>\n",
       "      <td>cosine</td>\n",
       "      <td>3</td>\n",
       "      <td>0.968000</td>\n",
       "      <td>0.966400</td>\n",
       "      <td>0.971200</td>\n",
       "      <td>83.049522</td>\n",
       "    </tr>\n",
       "    <tr>\n",
       "      <th>27</th>\n",
       "      <td>0.0010</td>\n",
       "      <td>10.0</td>\n",
       "      <td>16.0</td>\n",
       "      <td>NaN</td>\n",
       "      <td>3.0</td>\n",
       "      <td>0.938860</td>\n",
       "      <td>0.950400</td>\n",
       "      <td>0.950400</td>\n",
       "      <td>76.957153</td>\n",
       "    </tr>\n",
       "    <tr>\n",
       "      <th>28</th>\n",
       "      <td>0.0010</td>\n",
       "      <td>10</td>\n",
       "      <td>64.0</td>\n",
       "      <td>cosine</td>\n",
       "      <td>3</td>\n",
       "      <td>0.928828</td>\n",
       "      <td>0.962978</td>\n",
       "      <td>0.962978</td>\n",
       "      <td>23.850039</td>\n",
       "    </tr>\n",
       "    <tr>\n",
       "      <th>29</th>\n",
       "      <td>0.0010</td>\n",
       "      <td>10.0</td>\n",
       "      <td>64.0</td>\n",
       "      <td>NaN</td>\n",
       "      <td>3.0</td>\n",
       "      <td>0.913623</td>\n",
       "      <td>0.920283</td>\n",
       "      <td>0.961982</td>\n",
       "      <td>21.587300</td>\n",
       "    </tr>\n",
       "    <tr>\n",
       "      <th>30</th>\n",
       "      <td>0.0010</td>\n",
       "      <td>20</td>\n",
       "      <td>4.0</td>\n",
       "      <td>cosine</td>\n",
       "      <td>3</td>\n",
       "      <td>0.974640</td>\n",
       "      <td>0.966000</td>\n",
       "      <td>0.966800</td>\n",
       "      <td>53.430004</td>\n",
       "    </tr>\n",
       "    <tr>\n",
       "      <th>31</th>\n",
       "      <td>0.0010</td>\n",
       "      <td>20.0</td>\n",
       "      <td>4.0</td>\n",
       "      <td>NaN</td>\n",
       "      <td>3.0</td>\n",
       "      <td>0.951840</td>\n",
       "      <td>0.951600</td>\n",
       "      <td>0.962400</td>\n",
       "      <td>86.218170</td>\n",
       "    </tr>\n",
       "    <tr>\n",
       "      <th>32</th>\n",
       "      <td>0.0010</td>\n",
       "      <td>20</td>\n",
       "      <td>16.0</td>\n",
       "      <td>cosine</td>\n",
       "      <td>3</td>\n",
       "      <td>0.970420</td>\n",
       "      <td>0.982200</td>\n",
       "      <td>0.984000</td>\n",
       "      <td>119.080513</td>\n",
       "    </tr>\n",
       "    <tr>\n",
       "      <th>33</th>\n",
       "      <td>0.0010</td>\n",
       "      <td>20.0</td>\n",
       "      <td>16.0</td>\n",
       "      <td>NaN</td>\n",
       "      <td>3.0</td>\n",
       "      <td>0.923080</td>\n",
       "      <td>0.935000</td>\n",
       "      <td>0.953300</td>\n",
       "      <td>97.080804</td>\n",
       "    </tr>\n",
       "    <tr>\n",
       "      <th>34</th>\n",
       "      <td>0.0010</td>\n",
       "      <td>20</td>\n",
       "      <td>64.0</td>\n",
       "      <td>cosine</td>\n",
       "      <td>3</td>\n",
       "      <td>0.927310</td>\n",
       "      <td>0.937898</td>\n",
       "      <td>0.945163</td>\n",
       "      <td>45.219236</td>\n",
       "    </tr>\n",
       "    <tr>\n",
       "      <th>35</th>\n",
       "      <td>0.0010</td>\n",
       "      <td>20.0</td>\n",
       "      <td>64.0</td>\n",
       "      <td>NaN</td>\n",
       "      <td>3.0</td>\n",
       "      <td>0.887208</td>\n",
       "      <td>0.899781</td>\n",
       "      <td>0.925955</td>\n",
       "      <td>24.520635</td>\n",
       "    </tr>\n",
       "    <tr>\n",
       "      <th>36</th>\n",
       "      <td>0.0001</td>\n",
       "      <td>5</td>\n",
       "      <td>4.0</td>\n",
       "      <td>cosine</td>\n",
       "      <td>3</td>\n",
       "      <td>0.945920</td>\n",
       "      <td>0.954000</td>\n",
       "      <td>0.954400</td>\n",
       "      <td>26.635183</td>\n",
       "    </tr>\n",
       "    <tr>\n",
       "      <th>37</th>\n",
       "      <td>0.0001</td>\n",
       "      <td>5.0</td>\n",
       "      <td>4.0</td>\n",
       "      <td>NaN</td>\n",
       "      <td>3.0</td>\n",
       "      <td>0.958320</td>\n",
       "      <td>0.961200</td>\n",
       "      <td>0.961200</td>\n",
       "      <td>26.519762</td>\n",
       "    </tr>\n",
       "    <tr>\n",
       "      <th>38</th>\n",
       "      <td>0.0001</td>\n",
       "      <td>5</td>\n",
       "      <td>16.0</td>\n",
       "      <td>cosine</td>\n",
       "      <td>3</td>\n",
       "      <td>0.934520</td>\n",
       "      <td>0.936700</td>\n",
       "      <td>0.943100</td>\n",
       "      <td>27.425412</td>\n",
       "    </tr>\n",
       "    <tr>\n",
       "      <th>39</th>\n",
       "      <td>0.0001</td>\n",
       "      <td>5.0</td>\n",
       "      <td>16.0</td>\n",
       "      <td>NaN</td>\n",
       "      <td>3.0</td>\n",
       "      <td>0.920500</td>\n",
       "      <td>0.932800</td>\n",
       "      <td>0.932800</td>\n",
       "      <td>46.873546</td>\n",
       "    </tr>\n",
       "    <tr>\n",
       "      <th>40</th>\n",
       "      <td>0.0001</td>\n",
       "      <td>5</td>\n",
       "      <td>64.0</td>\n",
       "      <td>cosine</td>\n",
       "      <td>3</td>\n",
       "      <td>0.898118</td>\n",
       "      <td>0.926752</td>\n",
       "      <td>0.926752</td>\n",
       "      <td>16.824355</td>\n",
       "    </tr>\n",
       "    <tr>\n",
       "      <th>41</th>\n",
       "      <td>0.0001</td>\n",
       "      <td>5.0</td>\n",
       "      <td>64.0</td>\n",
       "      <td>NaN</td>\n",
       "      <td>3.0</td>\n",
       "      <td>0.883032</td>\n",
       "      <td>0.918093</td>\n",
       "      <td>0.942377</td>\n",
       "      <td>24.439442</td>\n",
       "    </tr>\n",
       "    <tr>\n",
       "      <th>42</th>\n",
       "      <td>0.0001</td>\n",
       "      <td>10</td>\n",
       "      <td>4.0</td>\n",
       "      <td>cosine</td>\n",
       "      <td>3</td>\n",
       "      <td>0.963840</td>\n",
       "      <td>0.959600</td>\n",
       "      <td>0.960800</td>\n",
       "      <td>56.327372</td>\n",
       "    </tr>\n",
       "    <tr>\n",
       "      <th>43</th>\n",
       "      <td>0.0001</td>\n",
       "      <td>10.0</td>\n",
       "      <td>4.0</td>\n",
       "      <td>NaN</td>\n",
       "      <td>3.0</td>\n",
       "      <td>0.968160</td>\n",
       "      <td>0.962400</td>\n",
       "      <td>0.964400</td>\n",
       "      <td>52.821643</td>\n",
       "    </tr>\n",
       "    <tr>\n",
       "      <th>44</th>\n",
       "      <td>0.0001</td>\n",
       "      <td>10</td>\n",
       "      <td>16.0</td>\n",
       "      <td>cosine</td>\n",
       "      <td>3</td>\n",
       "      <td>0.948160</td>\n",
       "      <td>0.939900</td>\n",
       "      <td>0.943100</td>\n",
       "      <td>82.969690</td>\n",
       "    </tr>\n",
       "    <tr>\n",
       "      <th>45</th>\n",
       "      <td>0.0001</td>\n",
       "      <td>10.0</td>\n",
       "      <td>16.0</td>\n",
       "      <td>NaN</td>\n",
       "      <td>3.0</td>\n",
       "      <td>0.940520</td>\n",
       "      <td>0.939900</td>\n",
       "      <td>0.942100</td>\n",
       "      <td>89.553592</td>\n",
       "    </tr>\n",
       "    <tr>\n",
       "      <th>46</th>\n",
       "      <td>0.0001</td>\n",
       "      <td>10</td>\n",
       "      <td>64.0</td>\n",
       "      <td>cosine</td>\n",
       "      <td>3</td>\n",
       "      <td>0.920037</td>\n",
       "      <td>0.959295</td>\n",
       "      <td>0.962281</td>\n",
       "      <td>42.352957</td>\n",
       "    </tr>\n",
       "    <tr>\n",
       "      <th>47</th>\n",
       "      <td>0.0001</td>\n",
       "      <td>10.0</td>\n",
       "      <td>64.0</td>\n",
       "      <td>NaN</td>\n",
       "      <td>3.0</td>\n",
       "      <td>0.899297</td>\n",
       "      <td>0.929538</td>\n",
       "      <td>0.931628</td>\n",
       "      <td>31.960392</td>\n",
       "    </tr>\n",
       "    <tr>\n",
       "      <th>48</th>\n",
       "      <td>0.0001</td>\n",
       "      <td>20</td>\n",
       "      <td>4.0</td>\n",
       "      <td>cosine</td>\n",
       "      <td>3</td>\n",
       "      <td>0.974160</td>\n",
       "      <td>0.969200</td>\n",
       "      <td>0.969200</td>\n",
       "      <td>69.678566</td>\n",
       "    </tr>\n",
       "    <tr>\n",
       "      <th>49</th>\n",
       "      <td>0.0001</td>\n",
       "      <td>20.0</td>\n",
       "      <td>4.0</td>\n",
       "      <td>NaN</td>\n",
       "      <td>3.0</td>\n",
       "      <td>0.974400</td>\n",
       "      <td>0.968000</td>\n",
       "      <td>0.969600</td>\n",
       "      <td>75.262942</td>\n",
       "    </tr>\n",
       "    <tr>\n",
       "      <th>50</th>\n",
       "      <td>0.0001</td>\n",
       "      <td>20</td>\n",
       "      <td>16.0</td>\n",
       "      <td>cosine</td>\n",
       "      <td>3</td>\n",
       "      <td>0.960120</td>\n",
       "      <td>0.961600</td>\n",
       "      <td>0.963200</td>\n",
       "      <td>144.611784</td>\n",
       "    </tr>\n",
       "    <tr>\n",
       "      <th>51</th>\n",
       "      <td>0.0001</td>\n",
       "      <td>20.0</td>\n",
       "      <td>16.0</td>\n",
       "      <td>NaN</td>\n",
       "      <td>3.0</td>\n",
       "      <td>0.937000</td>\n",
       "      <td>0.940100</td>\n",
       "      <td>0.943000</td>\n",
       "      <td>81.988964</td>\n",
       "    </tr>\n",
       "    <tr>\n",
       "      <th>52</th>\n",
       "      <td>0.0001</td>\n",
       "      <td>20</td>\n",
       "      <td>64.0</td>\n",
       "      <td>cosine</td>\n",
       "      <td>3</td>\n",
       "      <td>0.895540</td>\n",
       "      <td>0.927846</td>\n",
       "      <td>0.940983</td>\n",
       "      <td>24.688917</td>\n",
       "    </tr>\n",
       "    <tr>\n",
       "      <th>53</th>\n",
       "      <td>0.0001</td>\n",
       "      <td>20.0</td>\n",
       "      <td>64.0</td>\n",
       "      <td>NaN</td>\n",
       "      <td>3.0</td>\n",
       "      <td>0.908568</td>\n",
       "      <td>0.973328</td>\n",
       "      <td>0.980792</td>\n",
       "      <td>59.940841</td>\n",
       "    </tr>\n",
       "  </tbody>\n",
       "</table>\n",
       "</div>"
      ],
      "text/plain": [
       "        lr n_epochs  batch_size lr_scheduler patience_threshold  \\\n",
       "0   0.0100        5         4.0       cosine                  3   \n",
       "1   0.0100      5.0         4.0          NaN                3.0   \n",
       "2   0.0100        5        16.0       cosine                  3   \n",
       "3   0.0100      5.0        16.0          NaN                3.0   \n",
       "4   0.0100        5        64.0       cosine                  3   \n",
       "5   0.0100      5.0        64.0          NaN                3.0   \n",
       "6   0.0100       10         4.0       cosine                  3   \n",
       "7   0.0100     10.0         4.0          NaN                3.0   \n",
       "8   0.0100       10        16.0       cosine                  3   \n",
       "9   0.0100     10.0        16.0          NaN                3.0   \n",
       "10  0.0100       10        64.0       cosine                  3   \n",
       "11  0.0100     10.0        64.0          NaN                3.0   \n",
       "12  0.0100       20         4.0       cosine                  3   \n",
       "13  0.0100     20.0         4.0          NaN                3.0   \n",
       "14  0.0100       20        16.0       cosine                  3   \n",
       "15  0.0100     20.0        16.0          NaN                3.0   \n",
       "16  0.0100       20        64.0       cosine                  3   \n",
       "17  0.0100     20.0        64.0          NaN                3.0   \n",
       "18  0.0010        5         4.0       cosine                  3   \n",
       "19  0.0010      5.0         4.0          NaN                3.0   \n",
       "20  0.0010        5        16.0       cosine                  3   \n",
       "21  0.0010      5.0        16.0          NaN                3.0   \n",
       "22  0.0010        5        64.0       cosine                  3   \n",
       "23  0.0010      5.0        64.0          NaN                3.0   \n",
       "24  0.0010       10         4.0       cosine                  3   \n",
       "25  0.0010     10.0         4.0          NaN                3.0   \n",
       "26  0.0010       10        16.0       cosine                  3   \n",
       "27  0.0010     10.0        16.0          NaN                3.0   \n",
       "28  0.0010       10        64.0       cosine                  3   \n",
       "29  0.0010     10.0        64.0          NaN                3.0   \n",
       "30  0.0010       20         4.0       cosine                  3   \n",
       "31  0.0010     20.0         4.0          NaN                3.0   \n",
       "32  0.0010       20        16.0       cosine                  3   \n",
       "33  0.0010     20.0        16.0          NaN                3.0   \n",
       "34  0.0010       20        64.0       cosine                  3   \n",
       "35  0.0010     20.0        64.0          NaN                3.0   \n",
       "36  0.0001        5         4.0       cosine                  3   \n",
       "37  0.0001      5.0         4.0          NaN                3.0   \n",
       "38  0.0001        5        16.0       cosine                  3   \n",
       "39  0.0001      5.0        16.0          NaN                3.0   \n",
       "40  0.0001        5        64.0       cosine                  3   \n",
       "41  0.0001      5.0        64.0          NaN                3.0   \n",
       "42  0.0001       10         4.0       cosine                  3   \n",
       "43  0.0001     10.0         4.0          NaN                3.0   \n",
       "44  0.0001       10        16.0       cosine                  3   \n",
       "45  0.0001     10.0        16.0          NaN                3.0   \n",
       "46  0.0001       10        64.0       cosine                  3   \n",
       "47  0.0001     10.0        64.0          NaN                3.0   \n",
       "48  0.0001       20         4.0       cosine                  3   \n",
       "49  0.0001     20.0         4.0          NaN                3.0   \n",
       "50  0.0001       20        16.0       cosine                  3   \n",
       "51  0.0001     20.0        16.0          NaN                3.0   \n",
       "52  0.0001       20        64.0       cosine                  3   \n",
       "53  0.0001     20.0        64.0          NaN                3.0   \n",
       "\n",
       "    train_accuracy  dev_accuracy  best_dev_accuracy        time  \n",
       "0         0.835800      0.837300           0.837300   26.056545  \n",
       "1         0.355600      0.367800           0.714500   26.466447  \n",
       "2         0.880200      0.895000           0.895000   49.146702  \n",
       "3         0.806700      0.829400           0.829400   35.355222  \n",
       "4         0.885770      0.937301           0.937301   11.146196  \n",
       "5         0.778373      0.817178           0.889829   11.197112  \n",
       "6         0.586920      0.595200           0.706900   26.273140  \n",
       "7         0.437740      0.460700           0.644000   28.059290  \n",
       "8         0.911040      0.914700           0.914700  110.613092  \n",
       "9         0.654760      0.667000           0.817500   78.591252  \n",
       "10        0.897498      0.939391           0.939391   34.630888  \n",
       "11        0.835398      0.831011           0.905951   26.520456  \n",
       "12        0.370180      0.385200           0.614000   26.923552  \n",
       "13        0.208880      0.197600           0.591700   26.980327  \n",
       "14        0.707680      0.753400           0.847500   41.739444  \n",
       "15        0.704340      0.726500           0.821300   57.544172  \n",
       "16        0.896180      0.933121           0.933121   58.291984  \n",
       "17        0.861113      0.897492           0.899881   75.231702  \n",
       "18        0.971040      0.966000           0.967600   26.140442  \n",
       "19        0.952000      0.959200           0.959200   25.762881  \n",
       "20        0.951540      0.960000           0.960000   39.940569  \n",
       "21        0.913380      0.920700           0.925900   50.126463  \n",
       "22        0.913063      0.956708           0.956708   25.088587  \n",
       "23        0.881474      0.912918           0.925060   21.322497  \n",
       "24        0.981200      0.973200           0.973200   53.285697  \n",
       "25        0.949920      0.946000           0.956400   50.052248  \n",
       "26        0.968000      0.966400           0.971200   83.049522  \n",
       "27        0.938860      0.950400           0.950400   76.957153  \n",
       "28        0.928828      0.962978           0.962978   23.850039  \n",
       "29        0.913623      0.920283           0.961982   21.587300  \n",
       "30        0.974640      0.966000           0.966800   53.430004  \n",
       "31        0.951840      0.951600           0.962400   86.218170  \n",
       "32        0.970420      0.982200           0.984000  119.080513  \n",
       "33        0.923080      0.935000           0.953300   97.080804  \n",
       "34        0.927310      0.937898           0.945163   45.219236  \n",
       "35        0.887208      0.899781           0.925955   24.520635  \n",
       "36        0.945920      0.954000           0.954400   26.635183  \n",
       "37        0.958320      0.961200           0.961200   26.519762  \n",
       "38        0.934520      0.936700           0.943100   27.425412  \n",
       "39        0.920500      0.932800           0.932800   46.873546  \n",
       "40        0.898118      0.926752           0.926752   16.824355  \n",
       "41        0.883032      0.918093           0.942377   24.439442  \n",
       "42        0.963840      0.959600           0.960800   56.327372  \n",
       "43        0.968160      0.962400           0.964400   52.821643  \n",
       "44        0.948160      0.939900           0.943100   82.969690  \n",
       "45        0.940520      0.939900           0.942100   89.553592  \n",
       "46        0.920037      0.959295           0.962281   42.352957  \n",
       "47        0.899297      0.929538           0.931628   31.960392  \n",
       "48        0.974160      0.969200           0.969200   69.678566  \n",
       "49        0.974400      0.968000           0.969600   75.262942  \n",
       "50        0.960120      0.961600           0.963200  144.611784  \n",
       "51        0.937000      0.940100           0.943000   81.988964  \n",
       "52        0.895540      0.927846           0.940983   24.688917  \n",
       "53        0.908568      0.973328           0.980792   59.940841  "
      ]
     },
     "execution_count": 539,
     "metadata": {},
     "output_type": "execute_result"
    }
   ],
   "source": [
    "df = df[['lr', 'n_epochs', 'batch_size', 'lr_scheduler', 'patience_threshold', 'train_accuracy', 'dev_accuracy', 'best_dev_accuracy', 'time']]\n",
    "df"
   ]
  },
  {
   "cell_type": "code",
   "execution_count": 504,
   "metadata": {},
   "outputs": [
    {
     "data": {
      "image/png": "[encoded data removed]",
      "text/plain": [
       "<Figure size 640x480 with 1 Axes>"
      ]
     },
     "metadata": {},
     "output_type": "display_data"
    }
   ],
   "source": [
    "import matplotlib.pyplot as plt\n",
    "import seaborn as sns\n",
    "\n",
    "# Plot learning rate over time\n",
    "plt.plot(np.arange(max_iter)/(max_iter/n_epochs), [0.5 * (1 + np.cos(np.pi * t / max_iter)) for t in range(0, max_iter, 1)])\n",
    "plt.title('Learning rate over time')\n",
    "plt.xlabel('Epochs')\n",
    "plt.ylabel('Learning rate')\n",
    "plt.show()"
   ]
  },
  {
   "cell_type": "code",
   "execution_count": 505,
   "metadata": {},
   "outputs": [
    {
     "data": {
      "image/png": "[encoded data removed]",
      "text/plain": [
       "<Figure size 640x480 with 1 Axes>"
      ]
     },
     "metadata": {},
     "output_type": "display_data"
    }
   ],
   "source": [
    "import matplotlib.pyplot as plt\n",
    "import seaborn as sns\n",
    "from matplotlib.ticker import MaxNLocator\n",
    "\n",
    "sns.set()\n",
    "sns.set_style('darkgrid')\n",
    "sns.set_palette('tab10')\n",
    "\n",
    "# Calculate loss_history_averaged by averaging over n_epochs batches\n",
    "n_iter = train_data[0].shape[0]//best_params['batch_size']\n",
    "loss_history_averaged = [np.mean(best_params['loss_list'][i:i+n_iter]) for i in range(0, len(best_params['loss_list']), n_iter)]\n",
    "plt.plot(loss_history_averaged)\n",
    "plt.title('Loss over epochs of the best model')\n",
    "plt.xlabel('Epoch')\n",
    "plt.ylabel('Loss')\n",
    "plt.gca().xaxis.set_major_locator(MaxNLocator(integer=True))\n",
    "plt.show()"
   ]
  },
  {
   "cell_type": "code",
   "execution_count": 506,
   "metadata": {},
   "outputs": [
    {
     "data": {
      "image/png": "[encoded data removed]",
      "text/plain": [
       "<Figure size 640x480 with 1 Axes>"
      ]
     },
     "metadata": {},
     "output_type": "display_data"
    }
   ],
   "source": [
    "plt.title('Accuracy over epochs')\n",
    "plt.plot(best_params['train_accs'])\n",
    "plt.plot(best_params['dev_accs'])\n",
    "plt.xlabel('Epochs')\n",
    "plt.ylabel('Accuracy')\n",
    "plt.legend(['Train', 'Dev'], loc='upper left')\n",
    "plt.show()"
   ]
  },
  {
   "attachments": {},
   "cell_type": "markdown",
   "metadata": {},
   "source": [
    "### The effect of learning rate scheduler"
   ]
  },
  {
   "cell_type": "code",
   "execution_count": 29,
   "metadata": {},
   "outputs": [
    {
     "data": {
      "image/png": "[encoded data removed]",
      "text/plain": [
       "<Figure size 640x480 with 1 Axes>"
      ]
     },
     "metadata": {},
     "output_type": "display_data"
    }
   ],
   "source": [
    "# plot the dev accuracy over time, to show the difference between the two schedulers\n",
    "# knowing that experiment_{even_numer} is with cosine scheduler and experiment_{odd_number} is with no scheduler\n",
    "\n",
    "import matplotlib.pyplot as plt\n",
    "import seaborn as sns\n",
    "from matplotlib.ticker import MaxNLocator\n",
    "import pickle\n",
    "\n",
    "sns.set()\n",
    "sns.set_style('darkgrid')\n",
    "sns.set_palette('tab10')\n",
    "\n",
    "for i in range(0, 6, 2):\n",
    "    with open(f'./experiment_{i}.pkl', 'rb') as f:\n",
    "        experiment = pickle.load(f)\n",
    "        if i == 0:\n",
    "            symbol = 'o'\n",
    "        elif i == 2:\n",
    "            symbol = '*'\n",
    "        elif i == 4:\n",
    "            symbol = 'x'\n",
    "        plt.plot(experiment['dev_accuracy'], 'r-' + symbol, label='Cosine scheduler')\n",
    "\n",
    "for i in range(1, 6, 2):\n",
    "    with open(f'./experiment_{i}.pkl', 'rb') as f:\n",
    "        experiment = pickle.load(f)\n",
    "        if i-1 == 0:\n",
    "            symbol = 'o'\n",
    "        elif i-1 == 2:\n",
    "            symbol = '*'\n",
    "        elif i-1 == 4:\n",
    "            symbol = 'x'\n",
    "        plt.plot(experiment['dev_accuracy'], 'b-'+ symbol, label='No scheduler')\n",
    "plt.title('The effect of learning rate scheduler on dev accuracy')\n",
    "plt.xlabel('Epoch')\n",
    "plt.ylabel('Dev accuracy')\n",
    "\n",
    "handles, labels = plt.gca().get_legend_handles_labels()\n",
    "by_label = dict(zip(labels, handles))\n",
    "plt.legend(by_label.values(), by_label.keys())\n",
    "plt.show()"
   ]
  },
  {
   "cell_type": "code",
   "execution_count": 53,
   "metadata": {},
   "outputs": [
    {
     "data": {
      "image/png": "[encoded data removed]",
      "text/plain": [
       "<Figure size 1500x1200 with 9 Axes>"
      ]
     },
     "metadata": {},
     "output_type": "display_data"
    }
   ],
   "source": [
    "# Instead of plotting in the same plot, we will create 3 subplots, one for each learning rate\n",
    "\n",
    "import matplotlib.pyplot as plt\n",
    "import seaborn as sns\n",
    "from matplotlib.ticker import MaxNLocator\n",
    "\n",
    "df = pd.read_csv('experiment.csv')\n",
    "\n",
    "sns.set()\n",
    "sns.set_style('darkgrid')\n",
    "sns.set_palette('tab10')\n",
    "\n",
    "fig, axs = plt.subplots(3, 3, figsize=(15, 12))\n",
    "# now plot the dev accuracy over time, to show the difference between the two schedulers\n",
    "# knowing that experiment_{even_numer} is with cosine scheduler and experiment_{odd_number} is with no scheduler\n",
    "for j in range(3):\n",
    "    for i in range(0, 6, 2):\n",
    "        with open(f'./experiment_{j*20 + i}.pkl', 'rb') as f:\n",
    "            experiment = pickle.load(f)\n",
    "            axs[j, i//2].plot(experiment['dev_accuracy'], 'r', label='Cosine scheduler')\n",
    "            axs[j, i//2].set_ylim([0, 1])\n",
    "            axs[j, i//2].set_title(f'Learning rate = {df.loc[j*20 + i, \"lr\"]}, Batch size = {df.loc[i, \"batch_size\"]}')\n",
    "            axs[j, i//2].set_xlabel('Epoch')\n",
    "            axs[j, i//2].set_ylabel('Dev accuracy')\n",
    "    for i in range(1, 6, 2):\n",
    "        with open(f'./experiment_{j*20 + i}.pkl', 'rb') as f:\n",
    "            experiment = pickle.load(f)\n",
    "            axs[j, i//2].plot(experiment['dev_accuracy'], 'b', label='No scheduler')\n",
    "            axs[j, i//2].set_ylim([0, 1])\n",
    "            axs[j, i//2].legend(loc='lower right')\n",
    "\n",
    "\n",
    "plt.tight_layout()\n",
    "plt.show()\n",
    "\n"
   ]
  },
  {
   "cell_type": "code",
   "execution_count": null,
   "metadata": {},
   "outputs": [],
   "source": []
  }
 ],
 "metadata": {
  "kernelspec": {
   "display_name": "Python 3 (ipykernel)",
   "language": "python",
   "name": "python3"
  },
  "language_info": {
   "codemirror_mode": {
    "name": "ipython",
    "version": 3
   },
   "file_extension": ".py",
   "mimetype": "text/x-python",
   "name": "python",
   "nbconvert_exporter": "python",
   "pygments_lexer": "ipython3",
   "version": "3.10.8"
  }
 },
 "nbformat": 4,
 "nbformat_minor": 2
}
